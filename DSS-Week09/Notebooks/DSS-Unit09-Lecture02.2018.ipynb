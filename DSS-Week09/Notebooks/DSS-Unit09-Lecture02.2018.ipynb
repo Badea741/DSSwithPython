{
 "cells": [
  {
   "cell_type": "markdown",
   "metadata": {},
   "source": [
    "# Unit 9 Lecture 2 - Artificial Intelligence: Supervised Learning\n",
    "\n",
    "ESI4628: Decision Support Systems for Industrial Engineers<br>\n",
    "University of Central Florida\n",
    "Dr. Ivan Garibay, Ramya Akula, Mostafa Saeidi, Madeline Schiappa, and Brett Belcher. \n",
    "https://github.com/igaribay/DSSwithPython/blob/master/DSS-Week09/Notebook/DSS-Unit09-Lecture02.2018.ipynb"
   ]
  },
  {
   "cell_type": "markdown",
   "metadata": {},
   "source": [
    "## Notebook Learning Objectives\n",
    "After studying this notebook students should be able to:\n",
    "- objective"
   ]
  },
  {
   "cell_type": "markdown",
   "metadata": {},
   "source": [
    "# Overview"
   ]
  },
  {
   "cell_type": "markdown",
   "metadata": {},
   "source": [
    "<h3>Model Selection</h3>\n",
    "<p style=\"font-size: 16px\">As mentioned before, the value of $k$ is a hyperparameter that can be tuned. Because of this, it is important to use cross validation to pick the best $k$, or the $k$ that resulted in the highest accuracy.</p>"
   ]
  },
  {
   "cell_type": "code",
   "execution_count": 1,
   "metadata": {},
   "outputs": [
    {
     "data": {
      "text/plain": [
       "<Figure size 1000x800 with 1 Axes>"
      ]
     },
     "metadata": {},
     "output_type": "display_data"
    }
   ],
   "source": [
    "from sklearn.model_selection import train_test_split\n",
    "from sklearn.metrics import accuracy_score\n",
    "from sklearn import metrics\n",
    "from sklearn import neighbors\n",
    "from sklearn import datasets\n",
    "import numpy as np\n",
    "import pickle\n",
    "import math\n",
    "import matplotlib.pyplot as plt\n",
    "\n",
    "# we will use a smaller dataset for example sake\n",
    "ofname = open('../Data/dataset_small.pkl','rb') \n",
    "(X,y) = pickle.load(ofname)\n",
    "\n",
    "knn = neighbors.KNeighborsClassifier(n_neighbors=11)\n",
    "\n",
    "PRC = 0.1\n",
    "acc_r=np.zeros((10,20))\n",
    "for i in np.arange(10):\n",
    "    X_train, X_test, y_train, y_test = train_test_split(X, y, test_size=PRC)\n",
    "    for k in np.arange(20):\n",
    "        knn = neighbors.KNeighborsClassifier(n_neighbors=k+1)\n",
    "        knn.fit(X_train,y_train)\n",
    "        y_pred= knn.predict(X_test)\n",
    "        acc_r[i][k] = metrics.accuracy_score(y_pred, y_test)\n",
    "\n",
    "plt.figure(figsize=(10,8))\n",
    "plt.boxplot(acc_r);\n",
    "for i in np.arange(10):\n",
    "    xderiv = (i+1)*np.ones(acc_r[:,i].shape)+(np.random.rand(10,)-0.5)*0.1\n",
    "    plt.plot(xderiv,acc_r[:,i],'ro',alpha=0.3)\n",
    "    \n",
    "ax = plt.gca()\n",
    "ax.set_xticklabels(['{}k'.format(k+1) for k in np.arange(20)])\n",
    "plot_ = plt.ylabel('Accuracy')\n",
    "plt.show()"
   ]
  },
  {
   "cell_type": "markdown",
   "metadata": {},
   "source": [
    "<p style=\"font-size: 16px\">As you can from the plot, varying the $k$ hyperparameter can change the results. This plot also demonstrates how randomized subsets of the data can change the final model parameters and overall success of the model as well. This is why it is important to undergo the process of model selection.</p>"
   ]
  },
  {
   "cell_type": "markdown",
   "metadata": {},
   "source": [
    "<h2>Support Vector Machines </h2>\n",
    "<p style=\"font-size: 16px\">A support vector machine is a learning algorithm with the goal of learning a linear boundary between classes. The model learns the boundary via <i>support vectors</i> which are example points in the feature space, learning a boundary that creates the largest gap possible between the support vectors in each category. The distance of a point $\\mathbf{x}\\in\\mathbf{R}^d$ to the hyperplane $\\pi$ where $\\pi$ is a combination of variables $\\pi\\equiv a^Tx+b=0$ is \n",
    "$$d(x,\\pi)=\\frac{a^Tx+b}{\\Vert a \\Vert_2}$$\n",
    "\n",
    "Our goal is to find the seperating hyperplane with the maximum margin with maximum distance between elements in different classes.\n",
    "\n",
    "SVM therefore is:\n",
    "$$\\text{minimize } \\quad \\frac{\\Vert a\\Vert_2}{2}+C\\sum_{i=1}^N\\xi_i$$\n",
    "$$\\text{subject to } \\quad y_i(a^Tx_ib)\\geq 1-\\xi_i, i=1 \\cdots N $$\n",
    "$$\\xi\\geq 0$$\n",
    "\n",
    "<li style=\"font-size: 16px\">$C$ is a trade-off parameter that balances the rates of margin and misclassification, with larger values giving more importance to error.</li>\n",
    "<li style=\"font-size: 16px\">$\\xi$ loosley represents error, and we want it as close to 0 as possible. </li> \n",
    "\n",
    "\n",
    "<p style=\"font-size: 16px\">We will use sklearn to train an svm model, for more information, visit <a href='http://scikit-learn.org/stable/modules/svm.html'>the svm documentation</a>.</p>"
   ]
  },
  {
   "cell_type": "code",
   "execution_count": 2,
   "metadata": {},
   "outputs": [
    {
     "data": {
      "image/png": "[encoded data removed]",
      "text/plain": [
       "<Figure size 720x576 with 1 Axes>"
      ]
     },
     "metadata": {},
     "output_type": "display_data"
    }
   ],
   "source": [
    "from sklearn.datasets import make_blobs\n",
    "from sklearn.svm import SVC\n",
    "\n",
    "# we create 40 separable points\n",
    "X_blob, y_blob = make_blobs(n_samples=40, centers=2, random_state=6)\n",
    "\n",
    "# fit the model, don't regularize for illustration purposes\n",
    "clf = SVC(kernel='linear')\n",
    "clf.fit(X_blob, y_blob)\n",
    "\n",
    "plt.figure(figsize=(10,8))\n",
    "plt.scatter(X_blob[:, 0], X_blob[:, 1], c=y_blob, s=30, cmap=plt.cm.Paired)\n",
    "\n",
    "# plot the decision function\n",
    "ax = plt.gca()\n",
    "xlim = ax.get_xlim()\n",
    "ylim = ax.get_ylim()\n",
    "\n",
    "# create grid to evaluate model\n",
    "xx = np.linspace(xlim[0], xlim[1], 30)\n",
    "yy = np.linspace(ylim[0], ylim[1], 30)\n",
    "YY, XX = np.meshgrid(yy, xx)\n",
    "xy = np.vstack([XX.ravel(), YY.ravel()]).T\n",
    "Z = clf.decision_function(xy).reshape(XX.shape)\n",
    "\n",
    "# plot decision boundary and margins\n",
    "ax.contour(XX, YY, Z, colors='k', levels=[-1, 0, 1], alpha=0.5,\n",
    "           linestyles=['--', '-', '--'])\n",
    "# plot support vectors\n",
    "plot_ = ax.scatter(clf.support_vectors_[:, 0], clf.support_vectors_[:, 1], s=100,\n",
    "           linewidth=1, facecolors='none')"
   ]
  },
  {
   "cell_type": "markdown",
   "metadata": {},
   "source": [
    "<p style=\"font-size: 16px\">An <a href='http://scikit-learn.org/stable/auto_examples/svm/plot_separating_hyperplane.html'>example</a> provided by sklearn is visualized above. The circled points are the support vectors, the dashed lines represent the margin and the solid line is the linear decision boundary. Although this example shows a <i>linear kernel</i>, the model could use instead a <i>polynomial</i> kernel or <i>radial based function kernel</i>, allowing for non-linear decision boundaries. </p> "
   ]
  },
  {
   "cell_type": "markdown",
   "metadata": {},
   "source": [
    "<p style=\"font-size: 16px\">Now we will try our own SVM model with our previous small dataset.</p>"
   ]
  },
  {
   "cell_type": "code",
   "execution_count": 3,
   "metadata": {},
   "outputs": [
    {
     "name": "stdout",
     "output_type": "stream",
     "text": [
      "Training shape: (2898, 15), training targets shape: (2898,)\n",
      "Testing shape: (1242, 15), testing targets shape: (1242,)\n"
     ]
    },
    {
     "data": {
      "text/html": [
       "<div>\n",
       "<style scoped>\n",
       "    .dataframe tbody tr th:only-of-type {\n",
       "        vertical-align: middle;\n",
       "    }\n",
       "\n",
       "    .dataframe tbody tr th {\n",
       "        vertical-align: top;\n",
       "    }\n",
       "\n",
       "    .dataframe thead th {\n",
       "        text-align: right;\n",
       "    }\n",
       "</style>\n",
       "<table border=\"1\" class=\"dataframe\">\n",
       "  <thead>\n",
       "    <tr style=\"text-align: right;\">\n",
       "      <th></th>\n",
       "      <th>Test</th>\n",
       "      <th>Training</th>\n",
       "    </tr>\n",
       "  </thead>\n",
       "  <tbody>\n",
       "    <tr>\n",
       "      <th>FN</th>\n",
       "      <td>197.000000</td>\n",
       "      <td>1.000000</td>\n",
       "    </tr>\n",
       "    <tr>\n",
       "      <th>FP</th>\n",
       "      <td>0.000000</td>\n",
       "      <td>0.000000</td>\n",
       "    </tr>\n",
       "    <tr>\n",
       "      <th>TN</th>\n",
       "      <td>22.000000</td>\n",
       "      <td>543.000000</td>\n",
       "    </tr>\n",
       "    <tr>\n",
       "      <th>TP</th>\n",
       "      <td>1023.000000</td>\n",
       "      <td>2354.000000</td>\n",
       "    </tr>\n",
       "    <tr>\n",
       "      <th>classification_acc</th>\n",
       "      <td>0.841385</td>\n",
       "      <td>0.999655</td>\n",
       "    </tr>\n",
       "  </tbody>\n",
       "</table>\n",
       "</div>"
      ],
      "text/plain": [
       "                           Test     Training\n",
       "FN                   197.000000     1.000000\n",
       "FP                     0.000000     0.000000\n",
       "TN                    22.000000   543.000000\n",
       "TP                  1023.000000  2354.000000\n",
       "classification_acc     0.841385     0.999655"
      ]
     },
     "execution_count": 3,
     "metadata": {},
     "output_type": "execute_result"
    }
   ],
   "source": [
    "from sklearn.svm import SVC\n",
    "from sklearn.metrics import *\n",
    "import pandas as pd\n",
    "\n",
    "# Split the data into training and testin\n",
    "X_train, X_test, y_train, y_test = train_test_split(X, y, test_size=0.30, random_state=y.size)  \n",
    "print('Training shape: {}, training targets shape: {}'.format(X_train.shape, y_train.shape))\n",
    "print('Testing shape: {}, testing targets shape: {}'.format(X_test.shape, y_test.shape))\n",
    "\n",
    "# Create SVC instance and call fit on our training dataset\n",
    "svm_model = SVC()\n",
    "svm_model.fit(X_train, y_train)\n",
    "\n",
    "# Predict on our training and testing dataset to evaluate the results\n",
    "y_pred_train = svm_model.predict(X_train)\n",
    "y_pred_test = svm_model.predict(X_test)\n",
    "\n",
    "results = dict()\n",
    "train_cm = confusion_matrix(y_train, y_pred_train)\n",
    "results['Training'] = {'classification_acc': accuracy_score(y_pred_train, y_train),\n",
    "                      'TP': train_cm[0,0], 'FP': train_cm[0,1],\n",
    "                      'FN': train_cm[1,0], 'TN': train_cm[1,1]}\n",
    "\n",
    "test_cm = confusion_matrix(y_test, y_pred_test)\n",
    "results['Test'] = {'classification_acc': accuracy_score(y_pred_test, y_test),\n",
    "                      'TP': test_cm[0,0], 'FP': test_cm[0,1],\n",
    "                      'FN': test_cm[1,0], 'TN': test_cm[1,1]}\n",
    "pd.DataFrame(data=results)"
   ]
  },
  {
   "cell_type": "markdown",
   "metadata": {},
   "source": [
    "<p style=\"font-size: 16px\">Unfortunately, because our feature vector is 15 variables long, plotting the decision boundary would be computationally complex and is beyond the scope of this course. What we do observe is that the training accuracy is higher than the testing accuracy, as expected.</p>"
   ]
  },
  {
   "cell_type": "markdown",
   "metadata": {},
   "source": [
    "<h2>Random Forest </h2>\n",
    "<p style=\"font-size: 16px\">The random forest algorithm is a type of ensemble method. Ensemble methods combine classifiers built with a given learning algorithm, such as majority voting, the more diverse the classifiers the better the performance (see <a href='http://scikit-learn.org/stable/modules/ensemble.html'>sklearn ensemble</a>). Decision trees are the most popular ensemble method with the basic idea of how do we <i>partition</i> or <i>split</i> the space and what model should we use for each split. A good description from Wikipedia: <br><br><i>\"In a decision tree each internal node represents a “test” on an attribute (e.g. whether a coin flip comes up heads or tails), each branch represents the outcome of the test, and each leaf node represents a class label (decision taken after computing all attributes). A node that has no children is a leaf.\"</i></p>\n",
    "<p style=\"font-size: 16px\">Random Forest is a particular type of decision tree that only uses subsets of the data at each split, rather than using the entire dataset. Let us use our original data set and build a random forest model. But first, we need to do a little more data cleaning.</p>"
   ]
  },
  {
   "cell_type": "code",
   "execution_count": 4,
   "metadata": {},
   "outputs": [
    {
     "data": {
      "text/html": [
       "<div>\n",
       "<style scoped>\n",
       "    .dataframe tbody tr th:only-of-type {\n",
       "        vertical-align: middle;\n",
       "    }\n",
       "\n",
       "    .dataframe tbody tr th {\n",
       "        vertical-align: top;\n",
       "    }\n",
       "\n",
       "    .dataframe thead th {\n",
       "        text-align: right;\n",
       "    }\n",
       "</style>\n",
       "<table border=\"1\" class=\"dataframe\">\n",
       "  <thead>\n",
       "    <tr style=\"text-align: right;\">\n",
       "      <th></th>\n",
       "      <th>term</th>\n",
       "      <th>int_rate</th>\n",
       "      <th>emp_length</th>\n",
       "      <th>home_ownership</th>\n",
       "    </tr>\n",
       "  </thead>\n",
       "  <tbody>\n",
       "    <tr>\n",
       "      <th>0</th>\n",
       "      <td>36 months</td>\n",
       "      <td>10.65%</td>\n",
       "      <td>10+ years</td>\n",
       "      <td>RENT</td>\n",
       "    </tr>\n",
       "    <tr>\n",
       "      <th>1</th>\n",
       "      <td>60 months</td>\n",
       "      <td>15.27%</td>\n",
       "      <td>&lt; 1 year</td>\n",
       "      <td>RENT</td>\n",
       "    </tr>\n",
       "    <tr>\n",
       "      <th>2</th>\n",
       "      <td>36 months</td>\n",
       "      <td>15.96%</td>\n",
       "      <td>10+ years</td>\n",
       "      <td>RENT</td>\n",
       "    </tr>\n",
       "    <tr>\n",
       "      <th>3</th>\n",
       "      <td>36 months</td>\n",
       "      <td>13.49%</td>\n",
       "      <td>10+ years</td>\n",
       "      <td>RENT</td>\n",
       "    </tr>\n",
       "    <tr>\n",
       "      <th>4</th>\n",
       "      <td>60 months</td>\n",
       "      <td>12.69%</td>\n",
       "      <td>1 year</td>\n",
       "      <td>RENT</td>\n",
       "    </tr>\n",
       "  </tbody>\n",
       "</table>\n",
       "</div>"
      ],
      "text/plain": [
       "         term int_rate emp_length home_ownership\n",
       "0   36 months   10.65%  10+ years           RENT\n",
       "1   60 months   15.27%   < 1 year           RENT\n",
       "2   36 months   15.96%  10+ years           RENT\n",
       "3   36 months   13.49%  10+ years           RENT\n",
       "4   60 months   12.69%     1 year           RENT"
      ]
     },
     "execution_count": 4,
     "metadata": {},
     "output_type": "execute_result"
    }
   ],
   "source": [
    "df_lend = pd.read_csv('../Data/LoanStats3a.csv', skiprows=1, low_memory=False)\n",
    "df_lend[['term', 'int_rate', 'emp_length', 'home_ownership']].head()"
   ]
  },
  {
   "cell_type": "markdown",
   "metadata": {},
   "source": [
    "<p style=\"font-size: 16px\">The above table shows some data type issues we will have to deal with:\n",
    "<li style=\"font-size: 16px\">Interest rate (int_rate) is a string and we need it to be a float</li>\n",
    "<li style=\"font-size: 16px\">Term and emp_length are categorical strings, we need to vectorize the results taking into account the order relationship</li>\n",
    "<li style=\"font-size: 16px\">Home ownership (home_ownership) is a string and needs to be vectorized</li>\n",
    "</p>"
   ]
  },
  {
   "cell_type": "code",
   "execution_count": 20,
   "metadata": {},
   "outputs": [
    {
     "data": {
      "text/html": [
       "<div>\n",
       "<style scoped>\n",
       "    .dataframe tbody tr th:only-of-type {\n",
       "        vertical-align: middle;\n",
       "    }\n",
       "\n",
       "    .dataframe tbody tr th {\n",
       "        vertical-align: top;\n",
       "    }\n",
       "\n",
       "    .dataframe thead th {\n",
       "        text-align: right;\n",
       "    }\n",
       "</style>\n",
       "<table border=\"1\" class=\"dataframe\">\n",
       "  <thead>\n",
       "    <tr style=\"text-align: right;\">\n",
       "      <th></th>\n",
       "      <th>term</th>\n",
       "      <th>term_clean</th>\n",
       "      <th>int_rate</th>\n",
       "      <th>int_rate_clean</th>\n",
       "      <th>emp_length</th>\n",
       "      <th>emp_length_clean</th>\n",
       "    </tr>\n",
       "  </thead>\n",
       "  <tbody>\n",
       "    <tr>\n",
       "      <th>0</th>\n",
       "      <td>36 months</td>\n",
       "      <td>1.0</td>\n",
       "      <td>10.65%</td>\n",
       "      <td>0.1065</td>\n",
       "      <td>10+ years</td>\n",
       "      <td>10.0</td>\n",
       "    </tr>\n",
       "    <tr>\n",
       "      <th>1</th>\n",
       "      <td>60 months</td>\n",
       "      <td>2.0</td>\n",
       "      <td>15.27%</td>\n",
       "      <td>0.1527</td>\n",
       "      <td>&lt; 1 year</td>\n",
       "      <td>0.0</td>\n",
       "    </tr>\n",
       "    <tr>\n",
       "      <th>2</th>\n",
       "      <td>36 months</td>\n",
       "      <td>1.0</td>\n",
       "      <td>15.96%</td>\n",
       "      <td>0.1596</td>\n",
       "      <td>10+ years</td>\n",
       "      <td>10.0</td>\n",
       "    </tr>\n",
       "    <tr>\n",
       "      <th>3</th>\n",
       "      <td>36 months</td>\n",
       "      <td>1.0</td>\n",
       "      <td>13.49%</td>\n",
       "      <td>0.1349</td>\n",
       "      <td>10+ years</td>\n",
       "      <td>10.0</td>\n",
       "    </tr>\n",
       "    <tr>\n",
       "      <th>4</th>\n",
       "      <td>60 months</td>\n",
       "      <td>2.0</td>\n",
       "      <td>12.69%</td>\n",
       "      <td>0.1269</td>\n",
       "      <td>1 year</td>\n",
       "      <td>1.0</td>\n",
       "    </tr>\n",
       "  </tbody>\n",
       "</table>\n",
       "</div>"
      ],
      "text/plain": [
       "         term  term_clean int_rate  int_rate_clean emp_length  \\\n",
       "0   36 months         1.0   10.65%          0.1065  10+ years   \n",
       "1   60 months         2.0   15.27%          0.1527   < 1 year   \n",
       "2   36 months         1.0   15.96%          0.1596  10+ years   \n",
       "3   36 months         1.0   13.49%          0.1349  10+ years   \n",
       "4   60 months         2.0   12.69%          0.1269     1 year   \n",
       "\n",
       "   emp_length_clean  \n",
       "0              10.0  \n",
       "1               0.0  \n",
       "2              10.0  \n",
       "3              10.0  \n",
       "4               1.0  "
      ]
     },
     "execution_count": 20,
     "metadata": {},
     "output_type": "execute_result"
    }
   ],
   "source": [
    "# create a function to apply to all the values in the dataframe series\n",
    "def clear_percent (row):\n",
    "    try:\n",
    "        d = float(row['int_rate'][:-1])/100.\n",
    "    except:\n",
    "        d = None\n",
    "    return d\n",
    "\n",
    "# now apply the function using a lambda function that iterates through each value in the series\n",
    "df_lend['int_rate_clean'] = df_lend.apply (lambda row: clear_percent(row), axis=1)\n",
    "\n",
    "# repeat for the other variables\n",
    "def clear_term (row):\n",
    "    try:\n",
    "        if row['term']==' 36 months':\n",
    "            d = 1\n",
    "        else:\n",
    "            if row['term']==' 60 months':\n",
    "                d = 2\n",
    "            else:\n",
    "                if np.isnan(row['term']):\n",
    "                    d = None\n",
    "    except:\n",
    "        d = None\n",
    "    return d\n",
    "\n",
    "df_lend['term_clean'] = df_lend.apply (lambda row: clear_term(row),axis=1)\n",
    "\n",
    "def clean_emp_length(argument):\n",
    "    switcher = {\n",
    "        '1 year': 1,\n",
    "        '2 years': 2,\n",
    "        '3 years': 3,\n",
    "        '4 years': 4,\n",
    "        '5 years': 5,\n",
    "        '6 years': 6,\n",
    "        '7 years': 7,\n",
    "        '8 years': 8,\n",
    "        '9 years': 9,\n",
    "        '10+ years': 10,\n",
    "        '< 1 year': 0,\n",
    "        'n/a':None,\n",
    "    }\n",
    "    try:\n",
    "        d = switcher[argument['emp_length']]    \n",
    "    except:\n",
    "        d = None\n",
    "    return d\n",
    "\n",
    "df_lend['emp_length_clean'] =df_lend.apply (lambda row: clean_emp_length(row),axis=1)\n",
    "df_lend[['term', 'term_clean', 'int_rate', 'int_rate_clean', 'emp_length', 'emp_length_clean']].head()"
   ]
  },
  {
   "cell_type": "markdown",
   "metadata": {},
   "source": [
    "<p style=\"font-size: 16px\">Sklearn has tools that can help us convert home ownership into several binary variables representing each different category possible.</p>"
   ]
  },
  {
   "cell_type": "code",
   "execution_count": 21,
   "metadata": {},
   "outputs": [
    {
     "data": {
      "text/html": [
       "<div>\n",
       "<style scoped>\n",
       "    .dataframe tbody tr th:only-of-type {\n",
       "        vertical-align: middle;\n",
       "    }\n",
       "\n",
       "    .dataframe tbody tr th {\n",
       "        vertical-align: top;\n",
       "    }\n",
       "\n",
       "    .dataframe thead th {\n",
       "        text-align: right;\n",
       "    }\n",
       "</style>\n",
       "<table border=\"1\" class=\"dataframe\">\n",
       "  <thead>\n",
       "    <tr style=\"text-align: right;\">\n",
       "      <th></th>\n",
       "      <th>home_ownership=MORTGAGE</th>\n",
       "      <th>home_ownership=NONE</th>\n",
       "      <th>home_ownership=OTHER</th>\n",
       "      <th>home_ownership=OWN</th>\n",
       "      <th>home_ownership=RENT</th>\n",
       "    </tr>\n",
       "  </thead>\n",
       "  <tbody>\n",
       "    <tr>\n",
       "      <th>0</th>\n",
       "      <td>-1.0</td>\n",
       "      <td>-1.0</td>\n",
       "      <td>-1.0</td>\n",
       "      <td>-1.0</td>\n",
       "      <td>1.0</td>\n",
       "    </tr>\n",
       "    <tr>\n",
       "      <th>1</th>\n",
       "      <td>-1.0</td>\n",
       "      <td>-1.0</td>\n",
       "      <td>-1.0</td>\n",
       "      <td>-1.0</td>\n",
       "      <td>1.0</td>\n",
       "    </tr>\n",
       "    <tr>\n",
       "      <th>2</th>\n",
       "      <td>-1.0</td>\n",
       "      <td>-1.0</td>\n",
       "      <td>-1.0</td>\n",
       "      <td>-1.0</td>\n",
       "      <td>1.0</td>\n",
       "    </tr>\n",
       "    <tr>\n",
       "      <th>3</th>\n",
       "      <td>-1.0</td>\n",
       "      <td>-1.0</td>\n",
       "      <td>-1.0</td>\n",
       "      <td>-1.0</td>\n",
       "      <td>1.0</td>\n",
       "    </tr>\n",
       "    <tr>\n",
       "      <th>4</th>\n",
       "      <td>-1.0</td>\n",
       "      <td>-1.0</td>\n",
       "      <td>-1.0</td>\n",
       "      <td>-1.0</td>\n",
       "      <td>1.0</td>\n",
       "    </tr>\n",
       "  </tbody>\n",
       "</table>\n",
       "</div>"
      ],
      "text/plain": [
       "   home_ownership=MORTGAGE  home_ownership=NONE  home_ownership=OTHER  \\\n",
       "0                     -1.0                 -1.0                  -1.0   \n",
       "1                     -1.0                 -1.0                  -1.0   \n",
       "2                     -1.0                 -1.0                  -1.0   \n",
       "3                     -1.0                 -1.0                  -1.0   \n",
       "4                     -1.0                 -1.0                  -1.0   \n",
       "\n",
       "   home_ownership=OWN  home_ownership=RENT  \n",
       "0                -1.0                  1.0  \n",
       "1                -1.0                  1.0  \n",
       "2                -1.0                  1.0  \n",
       "3                -1.0                  1.0  \n",
       "4                -1.0                  1.0  "
      ]
     },
     "execution_count": 21,
     "metadata": {},
     "output_type": "execute_result"
    }
   ],
   "source": [
    "from sklearn.feature_extraction import DictVectorizer\n",
    "\n",
    "comb_dict = df_lend[['home_ownership']].to_dict(orient='records')\n",
    "vec = DictVectorizer()\n",
    "home = 2*vec.fit_transform(comb_dict).toarray()-1\n",
    "df_vector = pd.DataFrame(home[:,1:])\n",
    "vector_columns = vec.get_feature_names()\n",
    "df_vector.columns = vector_columns[1:]\n",
    "df_vector.index = df_lend.index\n",
    "\n",
    "df_lend = df_lend.join(df_vector)\n",
    "df_vector.head()"
   ]
  },
  {
   "cell_type": "markdown",
   "metadata": {},
   "source": [
    "<p style=\"font-size: 16px\">Now that we have cleaned up the incorrect data types, we will drop the old columns and remove any other unwanted columns. We will also define our target variables more clearly and remove rows with missing values.</p>"
   ]
  },
  {
   "cell_type": "code",
   "execution_count": 22,
   "metadata": {},
   "outputs": [
    {
     "ename": "KeyError",
     "evalue": "'targets'",
     "output_type": "error",
     "traceback": [
      "\u001b[1;31m\u001b[0m",
      "\u001b[1;31mKeyError\u001b[0mTraceback (most recent call last)",
      "\u001b[1;32m<ipython-input-22-eaf31cfa0203>\u001b[0m in \u001b[0;36m<module>\u001b[1;34m()\u001b[0m\n\u001b[0;32m      1\u001b[0m \u001b[0mdf_lend\u001b[0m \u001b[1;33m=\u001b[0m \u001b[0mdf_lend\u001b[0m\u001b[1;33m.\u001b[0m\u001b[0mdrop\u001b[0m\u001b[1;33m(\u001b[0m\u001b[1;33m[\u001b[0m\u001b[1;34m'term'\u001b[0m\u001b[1;33m,\u001b[0m\u001b[1;34m'int_rate'\u001b[0m\u001b[1;33m,\u001b[0m\u001b[1;34m'emp_length'\u001b[0m\u001b[1;33m,\u001b[0m\u001b[1;34m'home_ownership'\u001b[0m\u001b[1;33m,\u001b[0m \u001b[1;34m'funded_amnt_inv'\u001b[0m\u001b[1;33m]\u001b[0m\u001b[1;33m,\u001b[0m\u001b[0maxis\u001b[0m\u001b[1;33m=\u001b[0m\u001b[1;36m1\u001b[0m\u001b[1;33m)\u001b[0m\u001b[1;33m\u001b[0m\u001b[0m\n\u001b[0;32m      2\u001b[0m \u001b[1;33m\u001b[0m\u001b[0m\n\u001b[1;32m----> 3\u001b[1;33m \u001b[0my\u001b[0m \u001b[1;33m=\u001b[0m \u001b[0mdf_lend\u001b[0m\u001b[1;33m[\u001b[0m\u001b[1;34m'targets'\u001b[0m\u001b[1;33m]\u001b[0m\u001b[1;33m.\u001b[0m\u001b[0mvalues\u001b[0m\u001b[1;33m>\u001b[0m\u001b[1;36m0.05\u001b[0m\u001b[1;33m\u001b[0m\u001b[0m\n\u001b[0m\u001b[0;32m      4\u001b[0m \u001b[1;32mprint\u001b[0m\u001b[1;33m(\u001b[0m\u001b[1;34m'Undefined values: {}'\u001b[0m\u001b[1;33m.\u001b[0m\u001b[0mformat\u001b[0m\u001b[1;33m(\u001b[0m\u001b[0mnp\u001b[0m\u001b[1;33m.\u001b[0m\u001b[0msum\u001b[0m\u001b[1;33m(\u001b[0m\u001b[0mnp\u001b[0m\u001b[1;33m.\u001b[0m\u001b[0mwhere\u001b[0m\u001b[1;33m(\u001b[0m\u001b[0mnp\u001b[0m\u001b[1;33m.\u001b[0m\u001b[0misnan\u001b[0m\u001b[1;33m(\u001b[0m\u001b[0my\u001b[0m\u001b[1;33m)\u001b[0m\u001b[1;33m,\u001b[0m\u001b[1;36m1\u001b[0m\u001b[1;33m,\u001b[0m\u001b[1;36m0\u001b[0m\u001b[1;33m)\u001b[0m\u001b[1;33m)\u001b[0m\u001b[1;33m)\u001b[0m\u001b[1;33m)\u001b[0m \u001b[1;31m# np.where(condition, val if true, val if false)\u001b[0m\u001b[1;33m\u001b[0m\u001b[0m\n\u001b[0;32m      5\u001b[0m \u001b[1;33m\u001b[0m\u001b[0m\n",
      "\u001b[1;32mC:\\Users\\ra407452\\AppData\\Local\\Continuum\\anaconda2\\lib\\site-packages\\pandas\\core\\frame.pyc\u001b[0m in \u001b[0;36m__getitem__\u001b[1;34m(self, key)\u001b[0m\n\u001b[0;32m   2683\u001b[0m             \u001b[1;32mreturn\u001b[0m \u001b[0mself\u001b[0m\u001b[1;33m.\u001b[0m\u001b[0m_getitem_multilevel\u001b[0m\u001b[1;33m(\u001b[0m\u001b[0mkey\u001b[0m\u001b[1;33m)\u001b[0m\u001b[1;33m\u001b[0m\u001b[0m\n\u001b[0;32m   2684\u001b[0m         \u001b[1;32melse\u001b[0m\u001b[1;33m:\u001b[0m\u001b[1;33m\u001b[0m\u001b[0m\n\u001b[1;32m-> 2685\u001b[1;33m             \u001b[1;32mreturn\u001b[0m \u001b[0mself\u001b[0m\u001b[1;33m.\u001b[0m\u001b[0m_getitem_column\u001b[0m\u001b[1;33m(\u001b[0m\u001b[0mkey\u001b[0m\u001b[1;33m)\u001b[0m\u001b[1;33m\u001b[0m\u001b[0m\n\u001b[0m\u001b[0;32m   2686\u001b[0m \u001b[1;33m\u001b[0m\u001b[0m\n\u001b[0;32m   2687\u001b[0m     \u001b[1;32mdef\u001b[0m \u001b[0m_getitem_column\u001b[0m\u001b[1;33m(\u001b[0m\u001b[0mself\u001b[0m\u001b[1;33m,\u001b[0m \u001b[0mkey\u001b[0m\u001b[1;33m)\u001b[0m\u001b[1;33m:\u001b[0m\u001b[1;33m\u001b[0m\u001b[0m\n",
      "\u001b[1;32mC:\\Users\\ra407452\\AppData\\Local\\Continuum\\anaconda2\\lib\\site-packages\\pandas\\core\\frame.pyc\u001b[0m in \u001b[0;36m_getitem_column\u001b[1;34m(self, key)\u001b[0m\n\u001b[0;32m   2690\u001b[0m         \u001b[1;31m# get column\u001b[0m\u001b[1;33m\u001b[0m\u001b[1;33m\u001b[0m\u001b[0m\n\u001b[0;32m   2691\u001b[0m         \u001b[1;32mif\u001b[0m \u001b[0mself\u001b[0m\u001b[1;33m.\u001b[0m\u001b[0mcolumns\u001b[0m\u001b[1;33m.\u001b[0m\u001b[0mis_unique\u001b[0m\u001b[1;33m:\u001b[0m\u001b[1;33m\u001b[0m\u001b[0m\n\u001b[1;32m-> 2692\u001b[1;33m             \u001b[1;32mreturn\u001b[0m \u001b[0mself\u001b[0m\u001b[1;33m.\u001b[0m\u001b[0m_get_item_cache\u001b[0m\u001b[1;33m(\u001b[0m\u001b[0mkey\u001b[0m\u001b[1;33m)\u001b[0m\u001b[1;33m\u001b[0m\u001b[0m\n\u001b[0m\u001b[0;32m   2693\u001b[0m \u001b[1;33m\u001b[0m\u001b[0m\n\u001b[0;32m   2694\u001b[0m         \u001b[1;31m# duplicate columns & possible reduce dimensionality\u001b[0m\u001b[1;33m\u001b[0m\u001b[1;33m\u001b[0m\u001b[0m\n",
      "\u001b[1;32mC:\\Users\\ra407452\\AppData\\Local\\Continuum\\anaconda2\\lib\\site-packages\\pandas\\core\\generic.pyc\u001b[0m in \u001b[0;36m_get_item_cache\u001b[1;34m(self, item)\u001b[0m\n\u001b[0;32m   2484\u001b[0m         \u001b[0mres\u001b[0m \u001b[1;33m=\u001b[0m \u001b[0mcache\u001b[0m\u001b[1;33m.\u001b[0m\u001b[0mget\u001b[0m\u001b[1;33m(\u001b[0m\u001b[0mitem\u001b[0m\u001b[1;33m)\u001b[0m\u001b[1;33m\u001b[0m\u001b[0m\n\u001b[0;32m   2485\u001b[0m         \u001b[1;32mif\u001b[0m \u001b[0mres\u001b[0m \u001b[1;32mis\u001b[0m \u001b[0mNone\u001b[0m\u001b[1;33m:\u001b[0m\u001b[1;33m\u001b[0m\u001b[0m\n\u001b[1;32m-> 2486\u001b[1;33m             \u001b[0mvalues\u001b[0m \u001b[1;33m=\u001b[0m \u001b[0mself\u001b[0m\u001b[1;33m.\u001b[0m\u001b[0m_data\u001b[0m\u001b[1;33m.\u001b[0m\u001b[0mget\u001b[0m\u001b[1;33m(\u001b[0m\u001b[0mitem\u001b[0m\u001b[1;33m)\u001b[0m\u001b[1;33m\u001b[0m\u001b[0m\n\u001b[0m\u001b[0;32m   2487\u001b[0m             \u001b[0mres\u001b[0m \u001b[1;33m=\u001b[0m \u001b[0mself\u001b[0m\u001b[1;33m.\u001b[0m\u001b[0m_box_item_values\u001b[0m\u001b[1;33m(\u001b[0m\u001b[0mitem\u001b[0m\u001b[1;33m,\u001b[0m \u001b[0mvalues\u001b[0m\u001b[1;33m)\u001b[0m\u001b[1;33m\u001b[0m\u001b[0m\n\u001b[0;32m   2488\u001b[0m             \u001b[0mcache\u001b[0m\u001b[1;33m[\u001b[0m\u001b[0mitem\u001b[0m\u001b[1;33m]\u001b[0m \u001b[1;33m=\u001b[0m \u001b[0mres\u001b[0m\u001b[1;33m\u001b[0m\u001b[0m\n",
      "\u001b[1;32mC:\\Users\\ra407452\\AppData\\Local\\Continuum\\anaconda2\\lib\\site-packages\\pandas\\core\\internals.pyc\u001b[0m in \u001b[0;36mget\u001b[1;34m(self, item, fastpath)\u001b[0m\n\u001b[0;32m   4113\u001b[0m \u001b[1;33m\u001b[0m\u001b[0m\n\u001b[0;32m   4114\u001b[0m             \u001b[1;32mif\u001b[0m \u001b[1;32mnot\u001b[0m \u001b[0misna\u001b[0m\u001b[1;33m(\u001b[0m\u001b[0mitem\u001b[0m\u001b[1;33m)\u001b[0m\u001b[1;33m:\u001b[0m\u001b[1;33m\u001b[0m\u001b[0m\n\u001b[1;32m-> 4115\u001b[1;33m                 \u001b[0mloc\u001b[0m \u001b[1;33m=\u001b[0m \u001b[0mself\u001b[0m\u001b[1;33m.\u001b[0m\u001b[0mitems\u001b[0m\u001b[1;33m.\u001b[0m\u001b[0mget_loc\u001b[0m\u001b[1;33m(\u001b[0m\u001b[0mitem\u001b[0m\u001b[1;33m)\u001b[0m\u001b[1;33m\u001b[0m\u001b[0m\n\u001b[0m\u001b[0;32m   4116\u001b[0m             \u001b[1;32melse\u001b[0m\u001b[1;33m:\u001b[0m\u001b[1;33m\u001b[0m\u001b[0m\n\u001b[0;32m   4117\u001b[0m                 \u001b[0mindexer\u001b[0m \u001b[1;33m=\u001b[0m \u001b[0mnp\u001b[0m\u001b[1;33m.\u001b[0m\u001b[0marange\u001b[0m\u001b[1;33m(\u001b[0m\u001b[0mlen\u001b[0m\u001b[1;33m(\u001b[0m\u001b[0mself\u001b[0m\u001b[1;33m.\u001b[0m\u001b[0mitems\u001b[0m\u001b[1;33m)\u001b[0m\u001b[1;33m)\u001b[0m\u001b[1;33m[\u001b[0m\u001b[0misna\u001b[0m\u001b[1;33m(\u001b[0m\u001b[0mself\u001b[0m\u001b[1;33m.\u001b[0m\u001b[0mitems\u001b[0m\u001b[1;33m)\u001b[0m\u001b[1;33m]\u001b[0m\u001b[1;33m\u001b[0m\u001b[0m\n",
      "\u001b[1;32mC:\\Users\\ra407452\\AppData\\Local\\Continuum\\anaconda2\\lib\\site-packages\\pandas\\core\\indexes\\base.pyc\u001b[0m in \u001b[0;36mget_loc\u001b[1;34m(self, key, method, tolerance)\u001b[0m\n\u001b[0;32m   3063\u001b[0m                 \u001b[1;32mreturn\u001b[0m \u001b[0mself\u001b[0m\u001b[1;33m.\u001b[0m\u001b[0m_engine\u001b[0m\u001b[1;33m.\u001b[0m\u001b[0mget_loc\u001b[0m\u001b[1;33m(\u001b[0m\u001b[0mkey\u001b[0m\u001b[1;33m)\u001b[0m\u001b[1;33m\u001b[0m\u001b[0m\n\u001b[0;32m   3064\u001b[0m             \u001b[1;32mexcept\u001b[0m \u001b[0mKeyError\u001b[0m\u001b[1;33m:\u001b[0m\u001b[1;33m\u001b[0m\u001b[0m\n\u001b[1;32m-> 3065\u001b[1;33m                 \u001b[1;32mreturn\u001b[0m \u001b[0mself\u001b[0m\u001b[1;33m.\u001b[0m\u001b[0m_engine\u001b[0m\u001b[1;33m.\u001b[0m\u001b[0mget_loc\u001b[0m\u001b[1;33m(\u001b[0m\u001b[0mself\u001b[0m\u001b[1;33m.\u001b[0m\u001b[0m_maybe_cast_indexer\u001b[0m\u001b[1;33m(\u001b[0m\u001b[0mkey\u001b[0m\u001b[1;33m)\u001b[0m\u001b[1;33m)\u001b[0m\u001b[1;33m\u001b[0m\u001b[0m\n\u001b[0m\u001b[0;32m   3066\u001b[0m \u001b[1;33m\u001b[0m\u001b[0m\n\u001b[0;32m   3067\u001b[0m         \u001b[0mindexer\u001b[0m \u001b[1;33m=\u001b[0m \u001b[0mself\u001b[0m\u001b[1;33m.\u001b[0m\u001b[0mget_indexer\u001b[0m\u001b[1;33m(\u001b[0m\u001b[1;33m[\u001b[0m\u001b[0mkey\u001b[0m\u001b[1;33m]\u001b[0m\u001b[1;33m,\u001b[0m \u001b[0mmethod\u001b[0m\u001b[1;33m=\u001b[0m\u001b[0mmethod\u001b[0m\u001b[1;33m,\u001b[0m \u001b[0mtolerance\u001b[0m\u001b[1;33m=\u001b[0m\u001b[0mtolerance\u001b[0m\u001b[1;33m)\u001b[0m\u001b[1;33m\u001b[0m\u001b[0m\n",
      "\u001b[1;32mpandas\\_libs\\index.pyx\u001b[0m in \u001b[0;36mpandas._libs.index.IndexEngine.get_loc\u001b[1;34m()\u001b[0m\n",
      "\u001b[1;32mpandas\\_libs\\index.pyx\u001b[0m in \u001b[0;36mpandas._libs.index.IndexEngine.get_loc\u001b[1;34m()\u001b[0m\n",
      "\u001b[1;32mpandas\\_libs\\hashtable_class_helper.pxi\u001b[0m in \u001b[0;36mpandas._libs.hashtable.PyObjectHashTable.get_item\u001b[1;34m()\u001b[0m\n",
      "\u001b[1;32mpandas\\_libs\\hashtable_class_helper.pxi\u001b[0m in \u001b[0;36mpandas._libs.hashtable.PyObjectHashTable.get_item\u001b[1;34m()\u001b[0m\n",
      "\u001b[1;31mKeyError\u001b[0m: 'targets'"
     ]
    }
   ],
   "source": [
    "df_lend = df_lend.drop(['term','int_rate','emp_length','home_ownership', 'funded_amnt_inv'],axis=1)\n",
    "\n",
    "y = df_lend['targets'].values>0.05\n",
    "print('Undefined values: {}'.format(np.sum(np.where(np.isnan(y),1,0)))) # np.where(condition, val if true, val if false)\n",
    "\n",
    "X = df_lend.drop(['targets'], axis=1).values\n",
    "df_lend = df_lend.drop(['targets'], axis=1)\n",
    "idx_rmv = np.where(np.isnan(y))[0] # get indexes that are missing values \n",
    "\n",
    "# delete the rows with missing values using the indexes above\n",
    "y = np.delete(y, idx_rmv) \n",
    "X = np.delete(X, idx_rmv,axis=0)\n",
    "print('y shape: {}, x shape: {}'.format(y.shape, X.shape))"
   ]
  },
  {
   "cell_type": "markdown",
   "metadata": {},
   "source": [
    "<p style=\"font-size: 16px\">We received an error due to NaN values, let's explore what is going on.</p>"
   ]
  },
  {
   "cell_type": "code",
   "execution_count": 23,
   "metadata": {},
   "outputs": [
    {
     "data": {
      "text/plain": [
       "array([0, 0, 0, 0, 0, 0, 0, 0, 0, 0, 0, 0, 0, 0, 0])"
      ]
     },
     "execution_count": 23,
     "metadata": {},
     "output_type": "execute_result"
    },
    {
     "data": {
      "image/png": "[encoded data removed]",
      "text/plain": [
       "<Figure size 864x360 with 1 Axes>"
      ]
     },
     "metadata": {},
     "output_type": "display_data"
    }
   ],
   "source": [
    "nan_feats=np.sum(np.where(np.isnan(X),1,0),axis=0)\n",
    "plt.bar(np.arange(len(nan_feats)), nan_feats)\n",
    "fig = plt.gcf()\n",
    "fig.set_size_inches((12,5))\n",
    "nan_feats"
   ]
  },
  {
   "cell_type": "code",
   "execution_count": 24,
   "metadata": {},
   "outputs": [
    {
     "name": "stdout",
     "output_type": "stream",
     "text": [
      "Column being dropped: sub_grade\n",
      "X shape: (4140L, 14L)\n"
     ]
    },
    {
     "data": {
      "text/plain": [
       "array([0, 0, 0, 0, 0, 0, 0, 0, 0, 0, 0, 0, 0, 0])"
      ]
     },
     "execution_count": 24,
     "metadata": {},
     "output_type": "execute_result"
    },
    {
     "data": {
      "image/png": "[encoded data removed]",
      "text/plain": [
       "<Figure size 864x360 with 1 Axes>"
      ]
     },
     "metadata": {},
     "output_type": "display_data"
    }
   ],
   "source": [
    "print('Column being dropped: {}'.format(df_lend.columns[6]))\n",
    "df_lend = df_lend.drop(df_lend.columns[6], axis=1)\n",
    "X=np.hstack((X[:,:6], X[:,7:]))\n",
    "\n",
    "print(\"X shape: {}\".format(X.shape))\n",
    "#Check now\n",
    "nan_feats=np.sum(np.where(np.isnan(X),1,0),axis=0)\n",
    "plt.bar(np.arange(len(nan_feats)),nan_feats)\n",
    "fig = plt.gcf()\n",
    "fig.set_size_inches((12,5))\n",
    "nan_feats"
   ]
  },
  {
   "cell_type": "code",
   "execution_count": 25,
   "metadata": {},
   "outputs": [
    {
     "name": "stdout",
     "output_type": "stream",
     "text": [
      "Column being dropped: loan_status\n",
      "X shape: (4140L, 13L)\n"
     ]
    },
    {
     "data": {
      "text/plain": [
       "array([0, 0, 0, 0, 0, 0, 0, 0, 0, 0, 0, 0, 0])"
      ]
     },
     "execution_count": 25,
     "metadata": {},
     "output_type": "execute_result"
    },
    {
     "data": {
      "image/png": "[encoded data removed]",
      "text/plain": [
       "<Figure size 864x360 with 1 Axes>"
      ]
     },
     "metadata": {},
     "output_type": "display_data"
    }
   ],
   "source": [
    "print('Column being dropped: {}'.format(df_lend.columns[10]))\n",
    "df_lend = df_lend.drop(df_lend.columns[10], axis=1)\n",
    "X = np.hstack((X[:,:10], X[:,11:]))\n",
    "print('X shape: {}'.format(X.shape))\n",
    "\n",
    "nan_feats=np.sum(np.where(np.isnan(X),1,0),axis=0)\n",
    "plt.bar(np.arange(len(nan_feats)),nan_feats)\n",
    "fig = plt.gcf()\n",
    "fig.set_size_inches((12,5))\n",
    "nan_feats"
   ]
  },
  {
   "cell_type": "markdown",
   "metadata": {},
   "source": [
    "<h3>Fitting the Model</h3>"
   ]
  },
  {
   "cell_type": "code",
   "execution_count": 26,
   "metadata": {},
   "outputs": [
    {
     "name": "stdout",
     "output_type": "stream",
     "text": [
      "Training shape: (2898L, 13L), training targets shape: (2898L,)\n",
      "Testing shape: (1242L, 13L), testing targets shape: (1242L,)\n"
     ]
    },
    {
     "data": {
      "text/html": [
       "<div>\n",
       "<style scoped>\n",
       "    .dataframe tbody tr th:only-of-type {\n",
       "        vertical-align: middle;\n",
       "    }\n",
       "\n",
       "    .dataframe tbody tr th {\n",
       "        vertical-align: top;\n",
       "    }\n",
       "\n",
       "    .dataframe thead th {\n",
       "        text-align: right;\n",
       "    }\n",
       "</style>\n",
       "<table border=\"1\" class=\"dataframe\">\n",
       "  <thead>\n",
       "    <tr style=\"text-align: right;\">\n",
       "      <th></th>\n",
       "      <th>Test</th>\n",
       "      <th>Training</th>\n",
       "    </tr>\n",
       "  </thead>\n",
       "  <tbody>\n",
       "    <tr>\n",
       "      <th>FN</th>\n",
       "      <td>176.00000</td>\n",
       "      <td>53.000000</td>\n",
       "    </tr>\n",
       "    <tr>\n",
       "      <th>FP</th>\n",
       "      <td>22.00000</td>\n",
       "      <td>0.000000</td>\n",
       "    </tr>\n",
       "    <tr>\n",
       "      <th>TN</th>\n",
       "      <td>43.00000</td>\n",
       "      <td>491.000000</td>\n",
       "    </tr>\n",
       "    <tr>\n",
       "      <th>TP</th>\n",
       "      <td>1001.00000</td>\n",
       "      <td>2354.000000</td>\n",
       "    </tr>\n",
       "    <tr>\n",
       "      <th>classification_acc</th>\n",
       "      <td>0.84058</td>\n",
       "      <td>0.981712</td>\n",
       "    </tr>\n",
       "  </tbody>\n",
       "</table>\n",
       "</div>"
      ],
      "text/plain": [
       "                          Test     Training\n",
       "FN                   176.00000    53.000000\n",
       "FP                    22.00000     0.000000\n",
       "TN                    43.00000   491.000000\n",
       "TP                  1001.00000  2354.000000\n",
       "classification_acc     0.84058     0.981712"
      ]
     },
     "execution_count": 26,
     "metadata": {},
     "output_type": "execute_result"
    }
   ],
   "source": [
    "from sklearn.ensemble import RandomForestClassifier\n",
    "\n",
    "idx_rmv = np.where(np.isnan(X).any(axis=1))[0] # get indexes that are missing values \n",
    "\n",
    "# delete the rows with missing values using the indexes above\n",
    "y = np.delete(y, idx_rmv) \n",
    "X = np.delete(X, idx_rmv,axis=0)\n",
    "\n",
    "X_train, X_test, y_train, y_test = train_test_split(X, y, test_size=0.30, random_state=y.size)  \n",
    "print('Training shape: {}, training targets shape: {}'.format(X_train.shape, y_train.shape))\n",
    "print('Testing shape: {}, testing targets shape: {}'.format(X_test.shape, y_test.shape))\n",
    "\n",
    "# Create SVC instance and call fit on our training dataset\n",
    "rf_model = RandomForestClassifier()\n",
    "rf_model.fit(X_train, y_train)\n",
    "\n",
    "# Predict on our training and testing dataset to evaluate the results\n",
    "y_pred_train = rf_model.predict(X_train)\n",
    "y_pred_test = rf_model.predict(X_test)\n",
    "\n",
    "results = dict()\n",
    "train_cm = confusion_matrix(y_train, y_pred_train)\n",
    "results['Training'] = {'classification_acc': accuracy_score(y_pred_train, y_train),\n",
    "                      'TP': train_cm[0,0], 'FP': train_cm[0,1],\n",
    "                      'FN': train_cm[1,0], 'TN': train_cm[1,1]}\n",
    "\n",
    "test_cm = confusion_matrix(y_test, y_pred_test)\n",
    "results['Test'] = {'classification_acc': accuracy_score(y_pred_test, y_test),\n",
    "                      'TP': test_cm[0,0], 'FP': test_cm[0,1],\n",
    "                      'FN': test_cm[1,0], 'TN': test_cm[1,1]}\n",
    "pd.DataFrame(data=results)"
   ]
  },
  {
   "cell_type": "markdown",
   "metadata": {},
   "source": [
    "<p style=\"font-size: 16px\">The random forest algorithm measures the relative importance of each feature on the prediction and sklearn provides us with those feature importances. This can help us in feature selection before training more complex models.</p>"
   ]
  },
  {
   "cell_type": "code",
   "execution_count": 27,
   "metadata": {},
   "outputs": [
    {
     "ename": "IndexError",
     "evalue": "index 13 is out of bounds for axis 0 with size 13",
     "output_type": "error",
     "traceback": [
      "\u001b[1;31m\u001b[0m",
      "\u001b[1;31mIndexError\u001b[0mTraceback (most recent call last)",
      "\u001b[1;32m<ipython-input-27-3fcb13d69c6b>\u001b[0m in \u001b[0;36m<module>\u001b[1;34m()\u001b[0m\n\u001b[0;32m      2\u001b[0m \u001b[0mimportances\u001b[0m \u001b[1;33m=\u001b[0m \u001b[0mrf_model\u001b[0m\u001b[1;33m.\u001b[0m\u001b[0mfeature_importances_\u001b[0m\u001b[1;33m\u001b[0m\u001b[0m\n\u001b[0;32m      3\u001b[0m \u001b[1;32mfor\u001b[0m \u001b[0midx\u001b[0m\u001b[1;33m,\u001b[0m \u001b[0mcol\u001b[0m \u001b[1;32min\u001b[0m \u001b[0menumerate\u001b[0m\u001b[1;33m(\u001b[0m\u001b[0mdf_lend\u001b[0m\u001b[1;33m.\u001b[0m\u001b[0mcolumns\u001b[0m\u001b[1;33m)\u001b[0m\u001b[1;33m:\u001b[0m\u001b[1;33m\u001b[0m\u001b[0m\n\u001b[1;32m----> 4\u001b[1;33m     \u001b[0mresults\u001b[0m\u001b[1;33m[\u001b[0m\u001b[0mcol\u001b[0m\u001b[1;33m]\u001b[0m \u001b[1;33m=\u001b[0m \u001b[0mimportances\u001b[0m\u001b[1;33m[\u001b[0m\u001b[0midx\u001b[0m\u001b[1;33m]\u001b[0m\u001b[1;33m\u001b[0m\u001b[0m\n\u001b[0m\u001b[0;32m      5\u001b[0m \u001b[0mdf\u001b[0m \u001b[1;33m=\u001b[0m \u001b[0mpd\u001b[0m\u001b[1;33m.\u001b[0m\u001b[0mDataFrame\u001b[0m\u001b[1;33m(\u001b[0m\u001b[0mdata\u001b[0m\u001b[1;33m=\u001b[0m\u001b[0mresults\u001b[0m\u001b[1;33m,\u001b[0m \u001b[0mindex\u001b[0m\u001b[1;33m=\u001b[0m\u001b[1;33m[\u001b[0m\u001b[1;34m'results'\u001b[0m\u001b[1;33m]\u001b[0m\u001b[1;33m)\u001b[0m\u001b[1;33m\u001b[0m\u001b[0m\n\u001b[0;32m      6\u001b[0m \u001b[0mdf\u001b[0m\u001b[1;33m\u001b[0m\u001b[0m\n",
      "\u001b[1;31mIndexError\u001b[0m: index 13 is out of bounds for axis 0 with size 13"
     ]
    }
   ],
   "source": [
    "results = dict()\n",
    "importances = rf_model.feature_importances_\n",
    "for idx, col in enumerate(df_lend.columns):\n",
    "    results[col] = importances[idx]\n",
    "df = pd.DataFrame(data=results, index=['results'])\n",
    "df"
   ]
  },
  {
   "cell_type": "code",
   "execution_count": 28,
   "metadata": {},
   "outputs": [
    {
     "data": {
      "image/png": "[encoded data removed]",
      "text/plain": [
       "<Figure size 432x288 with 1 Axes>"
      ]
     },
     "metadata": {},
     "output_type": "display_data"
    }
   ],
   "source": [
    "# Plot the feature importances of the forest\n",
    "plt.figure()\n",
    "plt.title(\"Feature importances\")\n",
    "std = np.std([rf_model.feature_importances_ for tree in rf_model.estimators_],\n",
    "             axis=0)\n",
    "indices = np.argsort(importances)[::-1]\n",
    "labels = [df_lend.columns[i] for i in indices]\n",
    "plt.bar(range(X.shape[1]), importances[indices], label=labels,\n",
    "       color=\"r\", yerr=std[indices], align=\"center\")\n",
    "plt.xticks(range(X.shape[1]), labels, rotation='vertical')\n",
    "plt.xlim([-1, X.shape[1]])\n",
    "plt.show()"
   ]
  },
  {
   "cell_type": "code",
   "execution_count": null,
   "metadata": {},
   "outputs": [],
   "source": []
  }
 ],
 "metadata": {
  "kernelspec": {
   "display_name": "Python 2",
   "language": "python",
   "name": "python2"
  },
  "language_info": {
   "codemirror_mode": {
    "name": "ipython",
    "version": 2
   },
   "file_extension": ".py",
   "mimetype": "text/x-python",
   "name": "python",
   "nbconvert_exporter": "python",
   "pygments_lexer": "ipython2",
   "version": "2.7.15"
  }
 },
 "nbformat": 4,
 "nbformat_minor": 1
}
