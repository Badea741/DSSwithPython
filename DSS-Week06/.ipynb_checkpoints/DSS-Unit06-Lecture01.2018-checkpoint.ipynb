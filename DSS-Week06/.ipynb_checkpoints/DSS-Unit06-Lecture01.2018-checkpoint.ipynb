{
 "cells": [
  {
   "cell_type": "markdown",
   "metadata": {},
   "source": [
    "# Graph Visualization"
   ]
  },
  {
   "cell_type": "markdown",
   "metadata": {},
   "source": [
    "A plethora of options for creating graphics in Python, some of the tools used commonly are \n",
    "\n",
    "* Bokeh\n",
    "* Plotly\n",
    "* Ggplot\n",
    "* Vispy\n",
    "* Veg\n",
    "<br>\n",
    "\n",
    "With these tools, it is now possible to specify dynamic, interactive graphics in Python that are destined for a web browser. For creating static graphics for print or web, it is recommended to go with default matplotlib and add-on libraries likes pandas and seaborn, as per the requirement. For all other visualization purposes, it may be useful to learn one or more of the above mentioned tools. It is helpful to explore the visualization ecosystem as it continues to evolve and innovate.\n",
    "\n",
    "In this chapter, we will learn different types of plots, plotting methods and basic visualization using pandas, matplotlib and seaborn . \n",
    "\n",
    "We can assemble a plot from its base components: the data displace(i.e., the type of plot : line, bar, scatter, contour, etc...), legend, title, tick labels, other annotations. In pandas we have multiple columns of data, along with row and column labels. Pandas itself has built-in methods that simplify creating visualizations from Data-Frame and Series objects. \n"
   ]
  },
  {
   "cell_type": "markdown",
   "metadata": {},
   "source": [
    "### Line Plots"
   ]
  },
  {
   "cell_type": "markdown",
   "metadata": {},
   "source": [
    "Series and DataFrame each have a plot attribute for making some basic plot types. By default, plot() makes line plots, for example, \n",
    "\n",
    "<code>s = pd.Series(np.random.randn(10).cumsum(), index = np.arange(0,100,10))\n",
    " s.plot()\n",
    "</code>\n",
    "\n",
    "The series object’s index is passed to matplotlib for plotting on the x-axis, though you can disable this by passing use_index = False. The x-axis ticks and limits can be adjusted with the xticks and xlim options, and y-axis respectively with yticks and ylim.\n",
    "\n",
    "* label : Label for plot legend\n",
    "* ax : matplotlib subplot object to plot on; if nothing passed, uses active matplotlib subplot\n",
    "* style : style string, like ‘ko--’, to be passed to matplotlib\n",
    "* alpha : The plot fill opacity(from 0 to 1)\n",
    "* kind : Can be ‘area’, ‘bar’, ‘barh’, ‘density’, ‘hist’, ‘kde’, ‘line’, ‘pie’\n",
    "* logy : Use logarithmic scaling on the y-axis\n",
    "* use_index : Use the object index for tick labels\n",
    "* rot : Rotation of ticks labels(0 through 360)\n",
    "* xticks: Values to use for x-axis ticks\n",
    "* yticks: Values to use for y-axis ticks\n",
    "* xlim : X-axis limits (e.g., [0, 10])\n",
    "* ylim : Y-axis limits\n",
    "* grid : Display axis grid(on by default)\n",
    "\n"
   ]
  },
  {
   "cell_type": "code",
   "execution_count": 1,
   "metadata": {},
   "outputs": [
    {
     "data": {
      "text/plain": [
       "<matplotlib.axes._subplots.AxesSubplot at 0xba7ae80>"
      ]
     },
     "execution_count": 1,
     "metadata": {},
     "output_type": "execute_result"
    }
   ],
   "source": [
    "import pandas as pd\n",
    "import numpy as np\n",
    "s = pd.Series(np.random.randn(10).cumsum(), index = np.arange(0,100,10))\n",
    "s.plot()\n",
    "\n"
   ]
  },
  {
   "cell_type": "markdown",
   "metadata": {},
   "source": [
    "### Data Frame"
   ]
  },
  {
   "cell_type": "markdown",
   "metadata": {},
   "source": [
    "\n",
    "\n",
    "DataFrame’s plot method plots each of its columns as a different line on the same subplot, creating a legend automatically. \n",
    "\n",
    "<code>df = pd.DataFrame(np.random.randn(10, 4).cumsum(0), columns = [‘A’,’B’, ‘C’, ‘D’], index = np.arange(0, 100, 10))\n",
    "</code>\n",
    "\t\n",
    "* subplots : Plot each DataFrame column in a separate subplot\n",
    "* sharex : if subplots = True, share the same x-axis, linking ticks and limits\n",
    "* sharey : if subplots = True, share the same y-axis.\n",
    "* figsize : Size of figure to create as tuple\n",
    "* title : Plot title as string\n",
    "* legend : Add a subplot legend(True by default)\n",
    "* sort_columns : Plot columns in alphabetical order, by default uses existing column order.\n"
   ]
  },
  {
   "cell_type": "markdown",
   "metadata": {},
   "source": [
    "### Bar Plots"
   ]
  },
  {
   "cell_type": "markdown",
   "metadata": {},
   "source": [
    "\n",
    "The plot.bar() and plot.barh() make vertical and horizontal bar plots, respectively. In this case, the Series and DataFrame index will be used as the x(bar) or y(barh) ticks. \n",
    "\n",
    "\n",
    "\n",
    "The options color = ‘k’ and alpha = 0.7 set the color of the plots to black and use partial transparency on the filling.\n",
    "\n",
    "With a DataFrame, bar plots group values in each row together in a group in bars, side by side, for each value.\n",
    "\n",
    "We create stacked bar plots from a DataFrame by passing stacked=True, resulting in the value in each row being stacked together.\n"
   ]
  },
  {
   "cell_type": "code",
   "execution_count": 2,
   "metadata": {},
   "outputs": [
    {
     "data": {
      "text/plain": [
       "<matplotlib.axes._subplots.AxesSubplot at 0xbe384e0>"
      ]
     },
     "execution_count": 2,
     "metadata": {},
     "output_type": "execute_result"
    },
    {
     "data": {
      "image/png": "[encoded data removed]",
      "text/plain": [
       "<Figure size 432x288 with 2 Axes>"
      ]
     },
     "metadata": {},
     "output_type": "display_data"
    }
   ],
   "source": [
    "import matplotlib.pyplot as plt\n",
    "\n",
    "fig, axes = plt.subplots(2,1)\n",
    "\n",
    "data = pd.Series(np.random.rand(16), index = list ('abcdefghijklmnop'))\n",
    "\n",
    "data.plot.bar(ax = axes[0], color = 'k', alpha = 0.7)\n",
    "\n",
    "data.plot.barh(ax = axes[1], color = 'k', alpha = 0.7)"
   ]
  },
  {
   "cell_type": "code",
   "execution_count": 3,
   "metadata": {},
   "outputs": [
    {
     "data": {
      "text/plain": [
       "<matplotlib.axes._subplots.AxesSubplot at 0xc33d898>"
      ]
     },
     "execution_count": 3,
     "metadata": {},
     "output_type": "execute_result"
    },
    {
     "data": {
      "image/png": "[encoded data removed]",
      "text/plain": [
       "<Figure size 432x288 with 1 Axes>"
      ]
     },
     "metadata": {},
     "output_type": "display_data"
    },
    {
     "data": {
      "image/png": "[encoded data removed]",
      "text/plain": [
       "<Figure size 432x288 with 1 Axes>"
      ]
     },
     "metadata": {},
     "output_type": "display_data"
    }
   ],
   "source": [
    "df = pd.DataFrame(np.random.rand(6,4), index = ['one', 'two', 'three', 'four', 'five', 'six'], columns = pd.Index(['A', 'B', 'C', 'D'], name = 'Genus'))\n",
    "df.plot.bar() # Groups the values\n",
    "df.plot.barh(stacked = True, alpha = 0.5) # Stacks each row\n"
   ]
  },
  {
   "cell_type": "markdown",
   "metadata": {},
   "source": [
    "### Histogram Plots\n",
    "\n",
    "A histogram is a kind of a bar plot that gives a discretized display of value frequency. The data points are split into discrete, evenly spaced bins, and the number of data points in each bin is plotted. \n"
   ]
  },
  {
   "cell_type": "code",
   "execution_count": 4,
   "metadata": {},
   "outputs": [
    {
     "data": {
      "text/plain": [
       "(array([  5.,  26.,  70., 176., 255., 259., 148.,  48.,   8.,   5.]),\n",
       " array([-3.26411408, -2.5866344 , -1.90915472, -1.23167505, -0.55419537,\n",
       "         0.1232843 ,  0.80076398,  1.47824365,  2.15572333,  2.833203  ,\n",
       "         3.51068268]),\n",
       " <a list of 10 Patch objects>)"
      ]
     },
     "execution_count": 4,
     "metadata": {},
     "output_type": "execute_result"
    },
    {
     "data": {
      "image/png": "[encoded data removed]",
      "text/plain": [
       "<Figure size 432x288 with 1 Axes>"
      ]
     },
     "metadata": {},
     "output_type": "display_data"
    }
   ],
   "source": [
    "%matplotlib inline\n",
    "import numpy as np\n",
    "import matplotlib.pyplot as plt\n",
    "plt.style.use('seaborn-white')\n",
    "\n",
    "data = np.random.randn(1000)\n",
    "plt.hist(data)\n"
   ]
  },
  {
   "cell_type": "markdown",
   "metadata": {},
   "source": [
    "The method used here is, plot.hist() and it has many options to tune both the calculation and the display; here is an example of a more customized histogram"
   ]
  },
  {
   "cell_type": "code",
   "execution_count": 5,
   "metadata": {},
   "outputs": [
    {
     "data": {
      "text/plain": [
       "(array([  1.,   1.,   3.,   6.,  10.,  10.,  14.,  31.,  25.,  45.,  63.,\n",
       "         68.,  75.,  83.,  97., 101.,  90.,  68.,  60.,  50.,  38.,  29.,\n",
       "         12.,   7.,   3.,   3.,   2.,   4.,   0.,   1.]),\n",
       " array([-3.26411408, -3.03828752, -2.81246096, -2.5866344 , -2.36080784,\n",
       "        -2.13498128, -1.90915472, -1.68332817, -1.45750161, -1.23167505,\n",
       "        -1.00584849, -0.78002193, -0.55419537, -0.32836881, -0.10254226,\n",
       "         0.1232843 ,  0.34911086,  0.57493742,  0.80076398,  1.02659054,\n",
       "         1.2524171 ,  1.47824365,  1.70407021,  1.92989677,  2.15572333,\n",
       "         2.38154989,  2.60737645,  2.833203  ,  3.05902956,  3.28485612,\n",
       "         3.51068268]),\n",
       " <a list of 1 Patch objects>)"
      ]
     },
     "execution_count": 5,
     "metadata": {},
     "output_type": "execute_result"
    },
    {
     "data": {
      "image/png": "[encoded data removed]",
      "text/plain": [
       "<Figure size 432x288 with 1 Axes>"
      ]
     },
     "metadata": {},
     "output_type": "display_data"
    }
   ],
   "source": [
    "plt.hist(data, bins = 30, alpha = 0.5, histtype = 'stepfilled', color = 'steelblue', edgecolor = 'none')"
   ]
  },
  {
   "cell_type": "markdown",
   "metadata": {},
   "source": [
    "Histogram can be 1D, 2D, and 2D histogram creates a tessellation of squares across the axes. Another natural shape for such a tessellation is the regular hexagon. For this purpose, Matplotlib provides the plt.hexbin routine, which represents a 2D dataset binned within a grid of hexagons."
   ]
  },
  {
   "cell_type": "markdown",
   "metadata": {},
   "source": [
    "### Density Plots \n",
    "\n",
    "A density plot which is formed by computing an estimate of a continuous probability distribution that might have generated the observed data. The usual procedure is to approximate this distribution as a mixture of “kernels” - that is, simpler distributions like the normal distribution. Thus, density plots are also known as kernel density estimate (KDE) plots. Using plot.kde makes a density plot using the conventional mixture- of- normals estimate. The method used here is, plot.density()\n",
    "\n",
    "Seaborn makes histogram and density plots even easier through its distplot method, which can plot both a histogram and a continuous density estimate simultaneously. As an example, let us consider a bimodal distribution consisting of draws from two different standard normal distributions:\n"
   ]
  },
  {
   "cell_type": "code",
   "execution_count": 6,
   "metadata": {},
   "outputs": [
    {
     "name": "stderr",
     "output_type": "stream",
     "text": [
      "C:\\Users\\ra407452\\AppData\\Local\\Continuum\\anaconda2\\lib\\site-packages\\matplotlib\\axes\\_axes.py:6462: UserWarning: The 'normed' kwarg is deprecated, and has been replaced by the 'density' kwarg.\n",
      "  warnings.warn(\"The 'normed' kwarg is deprecated, and has been \"\n"
     ]
    },
    {
     "data": {
      "text/plain": [
       "<matplotlib.axes._subplots.AxesSubplot at 0xc2ec1d0>"
      ]
     },
     "execution_count": 6,
     "metadata": {},
     "output_type": "execute_result"
    },
    {
     "data": {
      "image/png": "[encoded data removed]",
      "text/plain": [
       "<Figure size 432x288 with 1 Axes>"
      ]
     },
     "metadata": {},
     "output_type": "display_data"
    }
   ],
   "source": [
    "import seaborn as sns\n",
    "comp1 = np.random.normal(0, 1, size = 200)\n",
    "comp2 = np.random.normal(10, 2, size = 200)\n",
    "values = pd.Series(np.concatenate([comp1, comp2]))\n",
    "sns.distplot(values, bins = 100, color = 'k')\n"
   ]
  }
 ],
 "metadata": {
  "kernelspec": {
   "display_name": "Python 2",
   "language": "python",
   "name": "python2"
  },
  "language_info": {
   "codemirror_mode": {
    "name": "ipython",
    "version": 2
   },
   "file_extension": ".py",
   "mimetype": "text/x-python",
   "name": "python",
   "nbconvert_exporter": "python",
   "pygments_lexer": "ipython2",
   "version": "2.7.15"
  }
 },
 "nbformat": 4,
 "nbformat_minor": 2
}
