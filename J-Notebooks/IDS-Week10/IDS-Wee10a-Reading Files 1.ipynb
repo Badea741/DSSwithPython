{
 "cells": [
  {
   "cell_type": "markdown",
   "metadata": {},
   "source": [
    "# Reading text file"
   ]
  },
  {
   "cell_type": "code",
   "execution_count": 44,
   "metadata": {},
   "outputs": [
    {
     "name": "stdout",
     "output_type": "stream",
     "text": [
      "Lorem ipsum dolor sit amet, consectetur adipiscing elit. \n",
      "\n",
      "Vivamus condimentum sagittis lacus, laoreet luctus ligula laoreet ut. \n",
      "\n",
      "Vestibulum ullamcorper accumsan velit vel vehicula. Proin tempor lacus arcu. \n",
      "\n",
      "Nunc at elit condimentum, semper nisi et, condimentum mi. \n",
      "\n",
      "In venenatis blandit nibh at sollicitudin. \n",
      "\n"
     ]
    }
   ],
   "source": [
    "import os\n",
    "\n",
    "def print_file(file_path):\n",
    "    f = open(file_path, 'r')\n",
    "    lines = f.readlines()\n",
    "    for line in lines[0:5]:\n",
    "        print(line)\n",
    "\n",
    "print_file('sample_text.txt')"
   ]
  },
  {
   "cell_type": "markdown",
   "metadata": {},
   "source": [
    "# Reading csv file"
   ]
  },
  {
   "cell_type": "code",
   "execution_count": 6,
   "metadata": {},
   "outputs": [
    {
     "name": "stdout",
     "output_type": "stream",
     "text": [
      "1, Eldon Base for stackable storage shelf, platinum, Muhammed MacIntyre, 3, -213.25, 38.94, 35, Nunavut, Storage & Organization, 0.8\n",
      "2, 1.7 Cubic Foot Compact \"Cube\" Office Refrigerators, Barry French, 293, 457.81, 208.16, 68.02, Nunavut, Appliances, 0.58\n",
      "3, Cardinal Slant-D® Ring Binder, Heavy Gauge Vinyl, Barry French, 293, 46.71, 8.69, 2.99, Nunavut, Binders and Binder Accessories, 0.39\n",
      "4, R380, Clay Rozendal, 483, 1198.97, 195.99, 3.99, Nunavut, Telephones and Communication, 0.58\n",
      "5, Holmes HEPA Air Purifier, Carlos Soltero, 515, 30.94, 21.78, 5.94, Nunavut, Appliances, 0.5\n",
      "6, G.E. Longer-Life Indoor Recessed Floodlight Bulbs, Carlos Soltero, 515, 4.43, 6.64, 4.95, Nunavut, Office Furnishings, 0.37\n",
      "7, Angle-D Binders with Locking Rings, Label Holders, Carl Jackson, 613, -54.04, 7.3, 7.72, Nunavut, Binders and Binder Accessories, 0.38\n",
      "8, SAFCO Mobile Desk Side File, Wire Frame, Carl Jackson, 613, 127.70, 42.76, 6.22, Nunavut, Storage & Organization, \n",
      "9, SAFCO Commercial Wire Shelving, Black, Monica Federle, 643, -695.26, 138.14, 35, Nunavut, Storage & Organization, \n",
      "10, Xerox 198, Dorothy Badders, 678, -226.36, 4.98, 8.33, Nunavut, Paper, 0.38\n"
     ]
    }
   ],
   "source": [
    "import csv\n",
    "\n",
    "csvfile = open('sample_csv.csv', 'r')\n",
    "reader = csv.reader(csvfile, delimiter=',')\n",
    "for i,row in enumerate(reader):\n",
    "    if i < 10:\n",
    "        print(', '.join(row))"
   ]
  },
  {
   "cell_type": "markdown",
   "metadata": {},
   "source": [
    "## Reading csv file with header"
   ]
  },
  {
   "cell_type": "markdown",
   "metadata": {},
   "source": [
    "CSV file with ';' as delimiter and with the first line as header."
   ]
  },
  {
   "cell_type": "code",
   "execution_count": 45,
   "metadata": {},
   "outputs": [
    {
     "name": "stdout",
     "output_type": "stream",
     "text": [
      "['Name', 'Sex', 'Age', 'Height (in)', 'Weight (lbs)']\n"
     ]
    }
   ],
   "source": [
    "import csv\n",
    "with open('stats.csv', newline='') as csvfile:\n",
    "    reader = csv.DictReader(csvfile, delimiter=';')\n",
    "    print(reader.fieldnames)"
   ]
  },
  {
   "cell_type": "code",
   "execution_count": 47,
   "metadata": {},
   "outputs": [
    {
     "name": "stdout",
     "output_type": "stream",
     "text": [
      "Alex M 41\n",
      "Bert M 42\n",
      "Carl M 32\n",
      "Dave M 39\n",
      "Elly F 30\n",
      "Fran F 33\n",
      "Gwen F 26\n",
      "Hank M 30\n",
      "Ivan M 53\n",
      "Jake M 32\n",
      "Kate F 47\n",
      "Luke M 34\n",
      "Myra F 23\n",
      "Neil M 36\n",
      "Omar M 38\n",
      "Page F 31\n",
      "Quin M 29\n",
      "Ruth F 28\n"
     ]
    }
   ],
   "source": [
    "import csv\n",
    "with open('stats.csv', newline='') as csvfile:\n",
    "    reader = csv.DictReader(csvfile, delimiter=';')\n",
    "    for row in reader:\n",
    "        print(row['Name'], row['Sex'], row['Age'])"
   ]
  },
  {
   "cell_type": "markdown",
   "metadata": {},
   "source": [
    "# Reading JSON file\n"
   ]
  },
  {
   "cell_type": "code",
   "execution_count": 13,
   "metadata": {},
   "outputs": [
    {
     "name": "stdout",
     "output_type": "stream",
     "text": [
      "{'quiz': {'sport': {'q1': {'question': 'Which one is correct team name in NBA?', 'options': ['New York Bulls', 'Los Angeles Kings', 'Golden State Warriros', 'Huston Rocket'], 'answer': 'Huston Rocket'}}, 'maths': {'q1': {'question': '5 + 7 = ?', 'options': ['10', '11', '12', '13'], 'answer': '12'}, 'q2': {'question': '12 - 8 = ?', 'options': ['1', '2', '3', '4'], 'answer': '4'}}}}\n"
     ]
    }
   ],
   "source": [
    "import json\n",
    "with open('sample_json.json') as f:\n",
    "    data = json.load(f)\n",
    "\n",
    "print(data)"
   ]
  },
  {
   "cell_type": "code",
   "execution_count": 12,
   "metadata": {},
   "outputs": [
    {
     "name": "stdout",
     "output_type": "stream",
     "text": [
      "<class 'dict'>\n"
     ]
    }
   ],
   "source": [
    "print(type(data))"
   ]
  },
  {
   "cell_type": "code",
   "execution_count": 31,
   "metadata": {},
   "outputs": [
    {
     "name": "stdout",
     "output_type": "stream",
     "text": [
      "{'quiz': {'maths': {'q1': {...}, 'q2': {...}}, 'sport': {'q1': {...}}}}\n"
     ]
    }
   ],
   "source": [
    "from pprint import pprint\n",
    "\n",
    "pprint(data, depth=3)"
   ]
  },
  {
   "cell_type": "code",
   "execution_count": 32,
   "metadata": {},
   "outputs": [
    {
     "name": "stdout",
     "output_type": "stream",
     "text": [
      "{'quiz': {'maths': {'q1': {'answer': '12',\n",
      "                           'options': ['10', '11', '12', '13'],\n",
      "                           'question': '5 + 7 = ?'},\n",
      "                    'q2': {'answer': '4',\n",
      "                           'options': ['1', '2', '3', '4'],\n",
      "                           'question': '12 - 8 = ?'}},\n",
      "          'sport': {'q1': {'answer': 'Huston Rocket',\n",
      "                           'options': ['New York Bulls',\n",
      "                                       'Los Angeles Kings',\n",
      "                                       'Golden State Warriros',\n",
      "                                       'Huston Rocket'],\n",
      "                           'question': 'Which one is correct team name in '\n",
      "                                       'NBA?'}}}}\n"
     ]
    }
   ],
   "source": [
    "pprint(data, depth=5)"
   ]
  },
  {
   "cell_type": "code",
   "execution_count": 40,
   "metadata": {},
   "outputs": [
    {
     "name": "stdout",
     "output_type": "stream",
     "text": [
      "Topics :  ['sport', 'maths']\n",
      "Question 1 from topic sports :  Which one is correct team name in NBA?\n",
      "Options :  ['New York Bulls', 'Los Angeles Kings', 'Golden State Warriros', 'Huston Rocket']\n",
      "Answer :  Huston Rocket\n"
     ]
    }
   ],
   "source": [
    "quiz = data['quiz']\n",
    "topics = [key for key in quiz.keys()]\n",
    "print(\"Topics : \", topics)\n",
    "\n",
    "topic_sport = quiz['sport']\n",
    "sport_q1 = topic_sport['q1']['question']\n",
    "options = topic_sport['q1']['options']\n",
    "answer = topic_sport['q1']['answer']\n",
    "print(\"Question 1 from topic sports : \", sport_q1)\n",
    "print(\"Options : \", options)\n",
    "print(\"Answer : \", answer)"
   ]
  },
  {
   "cell_type": "markdown",
   "metadata": {},
   "source": [
    "### Converting JSON string to python object"
   ]
  },
  {
   "cell_type": "code",
   "execution_count": 48,
   "metadata": {},
   "outputs": [
    {
     "name": "stdout",
     "output_type": "stream",
     "text": [
      "Number of items in Inventory :  2\n"
     ]
    }
   ],
   "source": [
    "json_string='[{\"name\":\"xyz\",\"quantity\":10,\"price\":120}, {\"name\":\"abc\",\"quantity\":20,\"price\":100}]'\n",
    "\n",
    "inventory = json.loads(json_string)\n",
    "print(\"Number of items in Inventory : \", len(inventory))\n"
   ]
  },
  {
   "cell_type": "code",
   "execution_count": 50,
   "metadata": {},
   "outputs": [
    {
     "name": "stdout",
     "output_type": "stream",
     "text": [
      "xyz  --->  10\n",
      "abc  --->  20\n"
     ]
    }
   ],
   "source": [
    "for item in inventory:\n",
    "    print(item['name'], ' ---> ', item['quantity'])"
   ]
  },
  {
   "cell_type": "code",
   "execution_count": null,
   "metadata": {},
   "outputs": [],
   "source": []
  }
 ],
 "metadata": {
  "kernelspec": {
   "display_name": "Python 3",
   "language": "python",
   "name": "python3"
  },
  "language_info": {
   "codemirror_mode": {
    "name": "ipython",
    "version": 3
   },
   "file_extension": ".py",
   "mimetype": "text/x-python",
   "name": "python",
   "nbconvert_exporter": "python",
   "pygments_lexer": "ipython3",
   "version": "3.6.5"
  }
 },
 "nbformat": 4,
 "nbformat_minor": 2
}
