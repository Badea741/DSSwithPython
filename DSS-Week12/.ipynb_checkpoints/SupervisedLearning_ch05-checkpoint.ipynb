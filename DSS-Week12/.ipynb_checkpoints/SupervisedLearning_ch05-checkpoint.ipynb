{
 "cells": [
  {
   "cell_type": "markdown",
   "metadata": {
    "collapsed": true
   },
   "source": [
    "<h1> Introduction to Supervised Learning through Scikit-Learn</h1>\n",
    "<h2>What is scikit-learn?</h2>\n",
    "<p style=\"font-size: 16px\">Scikit is a machine learning python library built off of packages you have recently been introduced to such as numpy, scipy and matplotlib. For more information, visit the <a href='http://scikit-learn.org/stable/index.html#'>scikit-learn homepage</a><br>\n",
    "\n",
    "<br>The library contains function in the following machine learning categories:\n",
    "<li style=\"font-size: 16px\"><a href='http://scikit-learn.org/stable/supervised_learning.html#supervised-learning'> Classification</a> </li>\n",
    "<li style=\"font-size: 16px\"><a href='http://scikit-learn.org/stable/supervised_learning.html#supervised-learning'> Regression </a></li>\n",
    "<li style=\"font-size: 16px\"><a href='http://scikit-learn.org/stable/modules/clustering.html#clustering'> Clustering </a></li>\n",
    "<li style=\"font-size: 16px\"><a href='http://scikit-learn.org/stable/modules/decomposition.html#decompositions'>Dimensionality Reduction</a></li>\n",
    "<li style=\"font-size: 16px\"><a href='http://scikit-learn.org/stable/model_selection.html#model-selection'>Model Selection</a></li>\n",
    "<li style=\"font-size: 16px\"><a href='http://scikit-learn.org/stable/modules/preprocessing.html#preprocessing'>Preprocessing </a></li>\n",
    "\n",
    "<p style=\"font-size: 16px\">Scikit-learn should be installed along with your Anaconda3 installation. However, if this is not the case, follow the installation instructions provided by scikit-learn <a href='http://scikit-learn.org/stable/install.html'>here</a><br>\n",
    "\n",
    "<br>Next, lets import some of the packages we will use and see what version you are running!</p>"
   ]
  },
  {
   "cell_type": "code",
   "execution_count": 1,
   "metadata": {},
   "outputs": [
    {
     "name": "stdout",
     "output_type": "stream",
     "text": [
      "The scikit-learn version is 0.19.1.\n",
      "The pandas version is 0.23.1\n",
      "The matplotlib version is 1.5.1\n",
      "The numpy version is 1.11.3\n"
     ]
    }
   ],
   "source": [
    "import sklearn\n",
    "print('The scikit-learn version is {}.'.format(sklearn.__version__))\n",
    "import pandas as pd\n",
    "print('The pandas version is {}'.format(pd.__version__))\n",
    "import matplotlib\n",
    "print('The matplotlib version is {}'.format(matplotlib.__version__))\n",
    "import numpy as np\n",
    "print('The numpy version is {}'.format(np.__version__))"
   ]
  },
  {
   "cell_type": "markdown",
   "metadata": {},
   "source": [
    "<h2>What is supervised learning?</h2>\n",
    "<p style=\"font-size: 16px\">Supervised learning are algorithms that learn patterns from the data using a training subset with labels to generalize to the set of all possible inputs. Examples of techniques in supervised learning:</p> \n",
    "<li style=\"font-size: 16px\"><a href='http://scikit-learn.org/stable/modules/linear_model.html#logistic-regression'>logistic regression</a></li>\n",
    "<li style=\"font-size: 16px\"><a href='http://scikit-learn.org/stable/modules/svm.html'>support vector machines</a></li>\n",
    "<li style=\"font-size: 16px\"><a href='http://scikit-learn.org/stable/modules/tree.html'>decision trees</a></li>\n",
    "<li style=\"font-size: 16px\"><a href='http://scikit-learn.org/stable/modules/generated/sklearn.ensemble.RandomForestClassifier.html'>random forest</a></li>\n",
    "\n",
    "\n",
    "<p style=\"font-size: 16px\">We will focus on classification tasks in this notebook. Classification is the prediction of discrete variables i.e. YES/NO. Classification is regarded as the problem of finding $h(x): \\mathbb{R^d}\\to\\mathbb{K}$ that maps an input space in $\\mathbb{R^d}$ onto a discrete set of $k$ target outputs or classes $\\mathbb{K}=\\{1,...,k\\}$\n",
    "In contrast, regression problems involve prediction of continuous variables. </p>\n",
    "\n",
    "<p style=\"font-size: 16px\">Input data into sklearn objects are structured in numpy arrays with size [n_samples, n_features].</p>\n",
    "$$\\text{feature matrix: } \\mathbf{X} = \n",
    "\\begin{pmatrix} \n",
    "x_{11} & x_{12} & \\cdots & x_{1d} \\\\ \n",
    "x_{21} & x_{22} & \\cdots & x_{2d} \\\\\n",
    "x_{31} & x_{32} & \\cdots & x_{3d} \\\\\n",
    "\\vdots & \\vdots & \\ddots & \\vdots \\\\\n",
    "\\vdots & \\vdots & \\ddots & \\vdots \\\\\n",
    "x_{n1} & x_{n2} & \\cdots & x_{nd} \n",
    "\\end{pmatrix}\n",
    "$$\n",
    "$$ \n",
    "\\text{label vector: }\n",
    "\\mathbf{y^T} = [y_1, y_2, y_3,\\cdots, y_n]\n",
    "$$"
   ]
  },
  {
   "cell_type": "markdown",
   "metadata": {},
   "source": [
    "<h2>Case 1: Lending Club</h2>\n",
    "<p style=\"font-size: 16px\">This dataset is provided by the Lending Club, a peer-to-peer lending company offering loans funded by other people acting as hub connection borrowers and investors. The company assesses the risk of clients applying for a loan of a certain amount and whether it will be fully funded. The task is to predict unsuccessful accepted loans defined if the funded amount (funded_amnt) or the amount funded by investors (funded_amnt_inv) falls short of the request loan amount (loan_amnt).</p><br> $$\\text{binary classification task of:  }\\frac{loan-funded}{loan}\\geq0.95$$ \n",
    "\n",
    "<br><a href='https://www.lendingclub.com/info/download-data.action'>Download data here for years 2007-2011</a></p>\n",
    "\n"
   ]
  },
  {
   "cell_type": "markdown",
   "metadata": {},
   "source": [
    "<table>\n",
    "    <tr>\n",
    "        <th>Column</th>\n",
    "        <th>Description</th>\n",
    "    </tr>\n",
    "   <tr>\n",
    "        <td>annual_inc</td>\n",
    "        <td>The annual income provided by the borrower during registration.</td>\n",
    "    </tr>\n",
    "    <tr>\n",
    "        <td>delinq_2yrs</td>\n",
    "        <td> The number of 30+ days past-due incidences of delinquency in the borrower's credit file for the past 2 years\n",
    "</td>\n",
    "    </tr>\n",
    "    <tr>\n",
    "        <td>dti</td>\n",
    "        <td> A ratio calculated using the borrower’s total monthly debt payments on the total debt obligations, excluding mortgage and the requested LC loan, divided by the borrower’s self-reported monthly income.\n",
    "</td>\n",
    "    </tr>\n",
    "    <tr>\n",
    "        <td>earliest_cr_line</td>\n",
    "        <td> The month the borrower's earliest reported credit line was opened\n",
    "</td>\n",
    "    </tr>\n",
    "    <tr>\n",
    "        <td>emp_length</td>\n",
    "        <td> Employment length in years. Possible values are between 0 and 10 where 0 means less than one year and 10 means ten or more years.\n",
    "</td>\n",
    "    </tr>\n",
    "    <tr>\n",
    "        <td>home_ownership</td>\n",
    "        <td> The home ownership status provided by the borrower during registration. Our values are: RENT, OWN, MORTGAGE, OTHER.\n",
    "</td>\n",
    "    </tr>\n",
    "    <tr>\n",
    "        <td>installment</td>\n",
    "        <td> The monthly payment owed by the borrower if the loan originates.\n",
    "</td>\n",
    "    </tr>\n",
    "    <tr>\n",
    "        <td>int_rate</td>\n",
    "        <td> Interest Rate on the loan\n",
    "</td>\n",
    "    </tr>\n",
    "    <tr>\n",
    "        <td>is_inc_v</td>\n",
    "        <td> Indicates if income was verified by LC, not verified, or if the income source was verified\n",
    "</td>\n",
    "    </tr>\n",
    "    <tr>\n",
    "        <td>last_fico_range_high</td>\n",
    "        <td> The last upper boundary of range the borrower’s FICO belongs to pulled.\n",
    "</td>\n",
    "    </tr>\n",
    "    <tr>\n",
    "        <td>last_fico_range_low</td>\n",
    "        <td> The last lower boundary of range the borrower’s FICO belongs to pulled.\n",
    "</td>\n",
    "    </tr>\n",
    "    <tr>\n",
    "        <td>fico_range_high</td>\n",
    "        <td> The upper boundary of range the borrower’s FICO belongs to.\n",
    "</td>\n",
    "    </tr>\n",
    "    <tr>\n",
    "        <td>fico_range_low</td>\n",
    "        <td> The lower boundary of range the borrower’s FICO belongs to.\n",
    "</td>\n",
    "    </tr>\n",
    "    <tr>\n",
    "        <td>mths_since_last_delinq</td>\n",
    "        <td> The number of months since the borrower's last delinquency.\n",
    "</td>\n",
    "    </tr>\n",
    "    <tr>\n",
    "        <td>mths_since_last_major_derog</td>\n",
    "        <td> Months since most recent 90-day or worse rating\n",
    "</td>\n",
    "    </tr>\n",
    "     <tr>\n",
    "        <td>open_acc</td>\n",
    "        <td> The number of open credit lines in the borrower's credit file.\n",
    "</td>\n",
    "    </tr>\n",
    "    <tr>\n",
    "        <td>term</td>\n",
    "        <td> The number of payments on the loan. Values are in months and can be either 36 or 60.\n",
    "</td>\n",
    "    </tr>\n",
    "    <tr>\n",
    "        <td>total_acc</td>\n",
    "        <td> The total number of credit lines currently in the borrower's credit file\n",
    "</td>\n",
    "    </tr>\n",
    "    <tr>\n",
    "        <td>loan_amnt</td>\n",
    "        <td> The listed amount of the loan applied for by the borrower. If at some point in time, the credit department reduces the loan amount, then it will be reflected in this value.</td>\n",
    "    </tr>\n",
    "\n",
    "\n",
    "</table>"
   ]
  },
  {
   "cell_type": "code",
   "execution_count": 2,
   "metadata": {},
   "outputs": [
    {
     "name": "stdout",
     "output_type": "stream",
     "text": [
      "(42542, 13)\n",
      "['loan_amnt', 'funded_amnt', 'funded_amnt_inv', 'term', 'int_rate', 'installment', 'emp_length', 'home_ownership', 'annual_inc', 'dti', 'delinq_2yrs', 'mths_since_last_delinq', 'total_acc']\n"
     ]
    },
    {
     "data": {
      "text/html": [
       "<div>\n",
       "<style scoped>\n",
       "    .dataframe tbody tr th:only-of-type {\n",
       "        vertical-align: middle;\n",
       "    }\n",
       "\n",
       "    .dataframe tbody tr th {\n",
       "        vertical-align: top;\n",
       "    }\n",
       "\n",
       "    .dataframe thead th {\n",
       "        text-align: right;\n",
       "    }\n",
       "</style>\n",
       "<table border=\"1\" class=\"dataframe\">\n",
       "  <thead>\n",
       "    <tr style=\"text-align: right;\">\n",
       "      <th></th>\n",
       "      <th>loan_amnt</th>\n",
       "      <th>funded_amnt</th>\n",
       "      <th>funded_amnt_inv</th>\n",
       "      <th>term</th>\n",
       "      <th>int_rate</th>\n",
       "      <th>installment</th>\n",
       "      <th>emp_length</th>\n",
       "      <th>home_ownership</th>\n",
       "      <th>annual_inc</th>\n",
       "      <th>dti</th>\n",
       "      <th>delinq_2yrs</th>\n",
       "      <th>mths_since_last_delinq</th>\n",
       "      <th>total_acc</th>\n",
       "    </tr>\n",
       "  </thead>\n",
       "  <tbody>\n",
       "    <tr>\n",
       "      <th>0</th>\n",
       "      <td>5000.0</td>\n",
       "      <td>5000.0</td>\n",
       "      <td>4975.0</td>\n",
       "      <td>36 months</td>\n",
       "      <td>10.65%</td>\n",
       "      <td>162.87</td>\n",
       "      <td>10+ years</td>\n",
       "      <td>RENT</td>\n",
       "      <td>24000.0</td>\n",
       "      <td>27.65</td>\n",
       "      <td>0.0</td>\n",
       "      <td>NaN</td>\n",
       "      <td>9.0</td>\n",
       "    </tr>\n",
       "    <tr>\n",
       "      <th>1</th>\n",
       "      <td>2500.0</td>\n",
       "      <td>2500.0</td>\n",
       "      <td>2500.0</td>\n",
       "      <td>60 months</td>\n",
       "      <td>15.27%</td>\n",
       "      <td>59.83</td>\n",
       "      <td>&lt; 1 year</td>\n",
       "      <td>RENT</td>\n",
       "      <td>30000.0</td>\n",
       "      <td>1.00</td>\n",
       "      <td>0.0</td>\n",
       "      <td>NaN</td>\n",
       "      <td>4.0</td>\n",
       "    </tr>\n",
       "    <tr>\n",
       "      <th>2</th>\n",
       "      <td>2400.0</td>\n",
       "      <td>2400.0</td>\n",
       "      <td>2400.0</td>\n",
       "      <td>36 months</td>\n",
       "      <td>15.96%</td>\n",
       "      <td>84.33</td>\n",
       "      <td>10+ years</td>\n",
       "      <td>RENT</td>\n",
       "      <td>12252.0</td>\n",
       "      <td>8.72</td>\n",
       "      <td>0.0</td>\n",
       "      <td>NaN</td>\n",
       "      <td>10.0</td>\n",
       "    </tr>\n",
       "    <tr>\n",
       "      <th>3</th>\n",
       "      <td>10000.0</td>\n",
       "      <td>10000.0</td>\n",
       "      <td>10000.0</td>\n",
       "      <td>36 months</td>\n",
       "      <td>13.49%</td>\n",
       "      <td>339.31</td>\n",
       "      <td>10+ years</td>\n",
       "      <td>RENT</td>\n",
       "      <td>49200.0</td>\n",
       "      <td>20.00</td>\n",
       "      <td>0.0</td>\n",
       "      <td>35.0</td>\n",
       "      <td>37.0</td>\n",
       "    </tr>\n",
       "    <tr>\n",
       "      <th>4</th>\n",
       "      <td>3000.0</td>\n",
       "      <td>3000.0</td>\n",
       "      <td>3000.0</td>\n",
       "      <td>60 months</td>\n",
       "      <td>12.69%</td>\n",
       "      <td>67.79</td>\n",
       "      <td>1 year</td>\n",
       "      <td>RENT</td>\n",
       "      <td>80000.0</td>\n",
       "      <td>17.94</td>\n",
       "      <td>0.0</td>\n",
       "      <td>38.0</td>\n",
       "      <td>38.0</td>\n",
       "    </tr>\n",
       "  </tbody>\n",
       "</table>\n",
       "</div>"
      ],
      "text/plain": [
       "   loan_amnt  funded_amnt  funded_amnt_inv        term int_rate  installment  \\\n",
       "0     5000.0       5000.0           4975.0   36 months   10.65%       162.87   \n",
       "1     2500.0       2500.0           2500.0   60 months   15.27%        59.83   \n",
       "2     2400.0       2400.0           2400.0   36 months   15.96%        84.33   \n",
       "3    10000.0      10000.0          10000.0   36 months   13.49%       339.31   \n",
       "4     3000.0       3000.0           3000.0   60 months   12.69%        67.79   \n",
       "\n",
       "  emp_length home_ownership  annual_inc    dti  delinq_2yrs  \\\n",
       "0  10+ years           RENT     24000.0  27.65          0.0   \n",
       "1   < 1 year           RENT     30000.0   1.00          0.0   \n",
       "2  10+ years           RENT     12252.0   8.72          0.0   \n",
       "3  10+ years           RENT     49200.0  20.00          0.0   \n",
       "4     1 year           RENT     80000.0  17.94          0.0   \n",
       "\n",
       "   mths_since_last_delinq  total_acc  \n",
       "0                     NaN        9.0  \n",
       "1                     NaN        4.0  \n",
       "2                     NaN       10.0  \n",
       "3                    35.0       37.0  \n",
       "4                    38.0       38.0  "
      ]
     },
     "execution_count": 2,
     "metadata": {},
     "output_type": "execute_result"
    }
   ],
   "source": [
    "keep_cols = ['loan_amnt', 'funded_amnt', 'funded_amnt_inv', 'term', 'int_rate', 'installment', 'emp_length', 'home_ownership', 'annual_inc', 'dti', 'delinq_2yrs', 'mths_since_last_delinq', 'total_acc']\n",
    "df_lend = pd.read_csv('files_ch05/LoanStats3a.csv', skiprows=1, low_memory=False)\n",
    "df_lend = df_lend[keep_cols]\n",
    "print(df_lend.shape)\n",
    "print(df_lend.columns.tolist())\n",
    "df_lend.head()"
   ]
  },
  {
   "cell_type": "markdown",
   "metadata": {},
   "source": [
    "<p style=\"font-size: 16px\">We will encode our binary target variable using the logic described earlier and visualize the results: $$\\frac{loan-funded}{loan}\\geq0.95$$  </p>"
   ]
  },
  {
   "cell_type": "code",
   "execution_count": 3,
   "metadata": {},
   "outputs": [
    {
     "data": {
      "text/plain": [
       " 1    42055\n",
       "-1      487\n",
       "Name: failed_loan, dtype: int64"
      ]
     },
     "execution_count": 3,
     "metadata": {},
     "output_type": "execute_result"
    }
   ],
   "source": [
    "loan = df_lend['loan_amnt'].values\n",
    "funded = df_lend['funded_amnt_inv'].values\n",
    "targets = np.abs(loan-funded)/loan\n",
    "\n",
    "df_lend['targets'] = targets\n",
    "y = [-1 if t >= .95 else 1 for t in targets]\n",
    "df_lend['failed_loan'] = y\n",
    "df_lend['failed_loan'].value_counts()\n"
   ]
  },
  {
   "cell_type": "code",
   "execution_count": 4,
   "metadata": {},
   "outputs": [
    {
     "data": {
      "image/png": "[encoded data removed]",
      "text/plain": [
       "<matplotlib.figure.Figure at 0x1da807067b8>"
      ]
     },
     "metadata": {},
     "output_type": "display_data"
    }
   ],
   "source": [
    "import matplotlib.pyplot as plt\n",
    "%matplotlib inline \n",
    "labels = 'Fully Covered', 'Not Fully Covered'\n",
    "sizes = df_lend['failed_loan'].value_counts()\n",
    "sizes = [sizes[1], sizes[-1] ]\n",
    "colors = ['gold', 'lightcoral']\n",
    " \n",
    "# Plot\n",
    "plt.pie(sizes, labels=labels, colors=colors,\n",
    "        autopct='%1.1f%%', shadow=True, startangle=140)\n",
    " \n",
    "plot_ = plt.axis('equal')"
   ]
  },
  {
   "cell_type": "markdown",
   "metadata": {},
   "source": [
    "<p style=\"font-size: 16px\">Note that there is a significant disporportion of positive labels to negative ones, making the dataset unbalanced. This can have drastic consequences for a classifier.</p>"
   ]
  },
  {
   "cell_type": "code",
   "execution_count": 5,
   "metadata": {
    "scrolled": true
   },
   "outputs": [
    {
     "name": "stdout",
     "output_type": "stream",
     "text": [
      "Larger deviation: 7896\n",
      "Total: 34639\n"
     ]
    },
    {
     "data": {
      "image/png": "[encoded data removed]",
      "text/plain": [
       "<matplotlib.figure.Figure at 0x1da819569b0>"
      ]
     },
     "metadata": {},
     "output_type": "display_data"
    }
   ],
   "source": [
    "loan = df_lend['loan_amnt'].values\n",
    "funded = df_lend['funded_amnt_inv'].values\n",
    "targets = np.abs(loan-funded)/loan\n",
    "\n",
    "df_lend['targets'] = targets\n",
    "wrk_records = np.where(~np.isnan(targets))\n",
    "y = targets[wrk_records]>=0.05\n",
    "plt.hist(targets[wrk_records],bins=30)\n",
    "\n",
    "print('Larger deviation: {}'.format(np.sum(y)))\n",
    "print('Total: {}'.format(np.sum(1-y)))"
   ]
  },
  {
   "cell_type": "markdown",
   "metadata": {},
   "source": [
    "<p style=\"font-size: 16px\">Now for a quick introduction in the functionality of sklearn. We will begin with the k-nearest neighbor clustering algorithm. For more details, see pages 462-470 in Python for Data Science Handbook VanderPlas, Jake)</p>\n",
    "<h2>What is K-Nearest Neighbor?</h2>\n",
    "<p style=\"font-size: 16px\">This algorithm, when used for classification, uses the neighboring values of a particular input value to make a prediction. The input is assigned to the class most common among its $k$ nearest neighbors where $k\\in\\mathbf{R}$. The parameter $k$ is defined in the beginning as a hyperparameter, or a configuration that is prior to the model fit and is not estimated from the data but can be tuned to be more beneficial to the fitting of the model on the data. Determining the distance between the input value and other values is commonly done by Euclidean distance for continuous variables or Hamming distance for discrete variables. We will not go into too much detail here, but we will use this algorithm as a starting example on sklearn. For more information on sklearn's package, see the <a href='http://scikit-learn.org/stable/modules/neighbors.html#neighbors'>sklearn.neighbors documentation.</a>\n",
    "<br><br>\n",
    "One thing to note is this algorithm is computation heavy. This is because it must hold all other values in memory in order to measure the closest $k$ values to the input value.</p>\n",
    "\n",
    "<h3>Training a Model with sklearn 5.3</h3>\n",
    "<p style=\"font-size: 16px\">To fit the model, we will use sklearn's object oriented interface. Firstly we create an object, which we name 'model'. We then can use the model.fit method to set the state of the object based on the training data. The data passed to the method must be in a two dimensional numpy array $\\mathbf{X}$ of shape(n_samples, n_predictors holding the feature matrix and a one-dimensinal numpy array $\\mathbf{y}$ that holds the response variable values. To view the documentaiton on this method, <a href='http://scikit-learn.org/stable/modules/generated/sklearn.linear_model.LinearRegression.html'>visit here</a>.</p>\n",
    "\n",
    "<p style=\"font-size: 16px\">Once you have fit the model using the appropriate parameters passed to the fit method, the new state of the model object is stored in instances attributes with a trailing underscore '\\_' (i.e. model.coefficients_). The new state can also be accessed from different methods, where the instance will return the new state in response to a method call (i.e. get_params).</p>\n",
    "\n",
    "<p style=\"font-size: 16px\">Estimator objects that can generate predictions provide a model.predict method. In the case of regression, model.predict will return the predicted regression values, $\\hat{\\mathbf{y}}$.\n"
   ]
  },
  {
   "cell_type": "code",
   "execution_count": 6,
   "metadata": {},
   "outputs": [
    {
     "name": "stdout",
     "output_type": "stream",
     "text": [
      "Complete!\n"
     ]
    }
   ],
   "source": [
    "from sklearn import neighbors\n",
    "from sklearn import datasets\n",
    "import pickle\n",
    "\n",
    "# we will use a smaller dataset for example sake\n",
    "ofname = open('files_ch05/dataset_small.pkl','rb') \n",
    "(X,y) = pickle.load(ofname, encoding='bytes')\n",
    "\n",
    "#Create an instance of K-nearest neighbor classifier\n",
    "knn = neighbors.KNeighborsClassifier(n_neighbors=11)\n",
    "\n",
    "#Train the classifier\n",
    "knn.fit(X, y)\n",
    "\n",
    "#Compute the prediction according to the model\n",
    "y_pred = knn.predict(X)\n",
    "\n",
    "print(\"Complete!\")"
   ]
  },
  {
   "cell_type": "markdown",
   "metadata": {},
   "source": [
    "<p style=\"font-size: 16px\">Sklearn's estimators come with a score method that calculates the accuracy of the model based on the predicted values.</p>"
   ]
  },
  {
   "cell_type": "code",
   "execution_count": 7,
   "metadata": {},
   "outputs": [
    {
     "data": {
      "text/plain": [
       "0.83164251207729467"
      ]
     },
     "execution_count": 7,
     "metadata": {},
     "output_type": "execute_result"
    }
   ],
   "source": [
    "knn.score(X,y)"
   ]
  },
  {
   "cell_type": "code",
   "execution_count": 8,
   "metadata": {},
   "outputs": [
    {
     "data": {
      "image/png": "[encoded data removed]",
      "text/plain": [
       "<matplotlib.figure.Figure at 0x1da81b20438>"
      ]
     },
     "metadata": {},
     "output_type": "display_data"
    }
   ],
   "source": [
    "labels = 'Fully Covered', 'Not Fully Covered'\n",
    "sizes = df_lend['failed_loan'].value_counts()\n",
    "\n",
    "# np.where(condition, val if true, val if false)\n",
    "sizes = [np.sum(np.where(y==1,1,0)), np.sum(np.where(y==-1,1,0))]\n",
    "colors = ['gold', 'lightcoral']\n",
    "explode = (0.1, 0)\n",
    " \n",
    "# Plot\n",
    "plt.pie(sizes, explode=explode, labels=labels, colors=colors,\n",
    "        autopct='%1.1f%%', shadow=True, startangle=140)\n",
    " \n",
    "ply_ = plt.axis('equal')"
   ]
  },
  {
   "cell_type": "markdown",
   "metadata": {},
   "source": [
    "<p style=\"font-size: 16px\">This unbalanced labeling means that if we <b>always</b> predicted the loan will be fully funded, we would be correct 81.4% of the time, very very close to the accuracy of our model. This demonstrates that accuracy may not be the best metric for understanding the the predictive power of our classifier.A better matrix is the <i>confusion matrix</i>.</p>\n",
    "\n",
    "<table style='border-style : hidden'>\n",
    "    <tr>\n",
    "        <th></th>\n",
    "        <th>Positive</th>\n",
    "        <th>Negative</th>\n",
    "        <th></th>\n",
    "    </tr>\n",
    "    <tr>\n",
    "        <th>Positive</th>\n",
    "        <td>TP: True Positive, when correctly predicted positively</td>\n",
    "        <td>FP: False Positive, when incorrectly predicted positively</td>\n",
    "        <td>$\\to$Precision $\\frac{TP}{TP+FP}$</td>\n",
    "    </tr>\n",
    "    <tr>\n",
    "        <th>Prediction Negative</th>\n",
    "        <td>FN: False Negative, when incorrectly predicted negative</td>\n",
    "        <td>TN: True Negative, when correctly predicted negative</td>\n",
    "        <td>$\\to$Negative Predictive Value $\\frac{TN}{TN+FN}$</td>\n",
    "    </tr>\n",
    "    <tr>\n",
    "        <th></th>\n",
    "        <td>$$\\downarrow$$Sensitivity (Recall) $\\frac{TP}{TP+FN}$</td>\n",
    "        <td>$$\\downarrow$$Specificity $\\frac{TN}{TN+FP}$</td>\n",
    "        <th></th>\n",
    "    </tr>\n",
    "<table>\n",
    "\n",
    "<br>\n",
    "$$\\text{accuracy: }=\\frac{TP+TN}{TP+TN+FP+FN}$$"
   ]
  },
  {
   "cell_type": "code",
   "execution_count": 9,
   "metadata": {},
   "outputs": [
    {
     "data": {
      "text/html": [
       "<div>\n",
       "<style scoped>\n",
       "    .dataframe tbody tr th:only-of-type {\n",
       "        vertical-align: middle;\n",
       "    }\n",
       "\n",
       "    .dataframe tbody tr th {\n",
       "        vertical-align: top;\n",
       "    }\n",
       "\n",
       "    .dataframe thead th {\n",
       "        text-align: right;\n",
       "    }\n",
       "</style>\n",
       "<table border=\"1\" class=\"dataframe\">\n",
       "  <thead>\n",
       "    <tr style=\"text-align: right;\">\n",
       "      <th></th>\n",
       "      <th>FN</th>\n",
       "      <th>FP</th>\n",
       "      <th>TN</th>\n",
       "      <th>TP</th>\n",
       "    </tr>\n",
       "  </thead>\n",
       "  <tbody>\n",
       "    <tr>\n",
       "      <th>results</th>\n",
       "      <td>7</td>\n",
       "      <td>690</td>\n",
       "      <td>73</td>\n",
       "      <td>3370</td>\n",
       "    </tr>\n",
       "  </tbody>\n",
       "</table>\n",
       "</div>"
      ],
      "text/plain": [
       "         FN   FP  TN    TP\n",
       "results   7  690  73  3370"
      ]
     },
     "execution_count": 9,
     "metadata": {},
     "output_type": "execute_result"
    }
   ],
   "source": [
    "confusion_matrix = dict()\n",
    "confusion_matrix['TP'] = np.sum(np.logical_and(y_pred==-1,y==-1))\n",
    "confusion_matrix['TN'] = np.sum(np.logical_and(y_pred==1,y==1))\n",
    "confusion_matrix['FP'] = np.sum(np.logical_and(y_pred==-1,y==1))\n",
    "confusion_matrix['FN'] = np.sum(np.logical_and(y_pred==1,y==-1))\n",
    "pd.DataFrame(data=confusion_matrix, index=['results'])"
   ]
  },
  {
   "cell_type": "markdown",
   "metadata": {},
   "source": [
    "<p style=\"font-size: 16px\">Sklearn also has a method for this to make calculation easier. For a more elaborate example of how to use this, <a href='http://scikit-learn.org/stable/auto_examples/model_selection/plot_confusion_matrix.html#sphx-glr-auto-examples-model-selection-plot-confusion-matrix-py'>visit here</a>.</p>"
   ]
  },
  {
   "cell_type": "code",
   "execution_count": 10,
   "metadata": {},
   "outputs": [
    {
     "data": {
      "text/plain": [
       "array([[3370,  690],\n",
       "       [   7,   73]], dtype=int64)"
      ]
     },
     "execution_count": 10,
     "metadata": {},
     "output_type": "execute_result"
    }
   ],
   "source": [
    "from sklearn.metrics import confusion_matrix\n",
    "confusion_matrix(y_pred,y)"
   ]
  },
  {
   "cell_type": "markdown",
   "metadata": {},
   "source": [
    "<h3>Training and Testing Subsets 5.6</h3>\n",
    "<p style=\"font-size: 16px\">We have previously used full dataset for fitting the mdoek and evaluating the model, this is not good practice. It is better practice to use a subset of the data to train on and then test the accuracy of your model with a smaller subset of data that was not part of your training dataset. This is because we want to compare the <i>in-sample error rate</i> $E_{in}$ or the error on values in the training set and <i>out of sample error</i> $E_{out}$ which is the generalization error on unseen data, or our test set.</p>\n",
    "\n",
    "$$E_{in}=\\frac{1}{N}\\sum_{i=1}^{N}e(x_i, y_i)$$\n",
    "$$E_{out}=E_{xy}(e(x,y))$$\n",
    "$$\\text{ where } e(x_i, y_i)=I[h(x)=y_i]= \n",
    "\\begin{cases}\n",
    "    1     & \\quad \\text{if } h(x_i)=y\\\\\n",
    "    0 & \\quad \\text{otherwise }\n",
    "  \\end{cases}$$\n",
    "$$\\text{observe that }E_{out}\\geq E_{in}$$\n",
    "\n",
    "<p style=\"font-size: 16px\">The goal of model learning is to minimize the genearalization error. Desirable:</p>\n",
    "<li>$E_{in}\\to 0$</li>\n",
    "<li>$E_{out}\\approx E_{in}$</li>"
   ]
  },
  {
   "cell_type": "code",
   "execution_count": 11,
   "metadata": {},
   "outputs": [
    {
     "name": "stdout",
     "output_type": "stream",
     "text": [
      "Training shape: (2898, 15), training targets shape: (2898,)\n",
      "Testing shape: (1242, 15), testing targets shape: (1242,)\n"
     ]
    },
    {
     "data": {
      "text/html": [
       "<div>\n",
       "<style scoped>\n",
       "    .dataframe tbody tr th:only-of-type {\n",
       "        vertical-align: middle;\n",
       "    }\n",
       "\n",
       "    .dataframe tbody tr th {\n",
       "        vertical-align: top;\n",
       "    }\n",
       "\n",
       "    .dataframe thead th {\n",
       "        text-align: right;\n",
       "    }\n",
       "</style>\n",
       "<table border=\"1\" class=\"dataframe\">\n",
       "  <thead>\n",
       "    <tr style=\"text-align: right;\">\n",
       "      <th></th>\n",
       "      <th>Test</th>\n",
       "      <th>Training</th>\n",
       "    </tr>\n",
       "  </thead>\n",
       "  <tbody>\n",
       "    <tr>\n",
       "      <th>FN</th>\n",
       "      <td>155.000000</td>\n",
       "      <td>0.0</td>\n",
       "    </tr>\n",
       "    <tr>\n",
       "      <th>FP</th>\n",
       "      <td>161.000000</td>\n",
       "      <td>0.0</td>\n",
       "    </tr>\n",
       "    <tr>\n",
       "      <th>TN</th>\n",
       "      <td>64.000000</td>\n",
       "      <td>544.0</td>\n",
       "    </tr>\n",
       "    <tr>\n",
       "      <th>TP</th>\n",
       "      <td>862.000000</td>\n",
       "      <td>2354.0</td>\n",
       "    </tr>\n",
       "    <tr>\n",
       "      <th>classification_acc</th>\n",
       "      <td>0.745572</td>\n",
       "      <td>1.0</td>\n",
       "    </tr>\n",
       "  </tbody>\n",
       "</table>\n",
       "</div>"
      ],
      "text/plain": [
       "                          Test  Training\n",
       "FN                  155.000000       0.0\n",
       "FP                  161.000000       0.0\n",
       "TN                   64.000000     544.0\n",
       "TP                  862.000000    2354.0\n",
       "classification_acc    0.745572       1.0"
      ]
     },
     "execution_count": 11,
     "metadata": {},
     "output_type": "execute_result"
    }
   ],
   "source": [
    "from sklearn.model_selection import train_test_split\n",
    "from sklearn.metrics import accuracy_score\n",
    "\n",
    "# train_test_split splits the data into random subsets.\n",
    "X_train, X_test, y_train, y_test = train_test_split(X, y, test_size=0.30, random_state=y.size)  \n",
    "print('Training shape: {}, training targets shape: {}'.format(X_train.shape, y_train.shape))\n",
    "print('Testing shape: {}, testing targets shape: {}'.format(X_test.shape, y_test.shape))\n",
    "\n",
    "knn = neighbors.KNeighborsClassifier(n_neighbors=1)\n",
    "knn.fit(X_train,y_train)\n",
    "\n",
    "#Check on the training set and visualize performance\n",
    "y_pred_train =knn.predict(X_train)\n",
    "y_pred_test = knn.predict(X_test)\n",
    "\n",
    "results = dict()\n",
    "train_cm = confusion_matrix(y_train, y_pred_train)\n",
    "results['Training'] = {'classification_acc': accuracy_score(y_pred_train, y_train),\n",
    "                      'TP': train_cm[0,0], 'FP': train_cm[0,1],\n",
    "                      'FN': train_cm[1,0], 'TN': train_cm[1,1]}\n",
    "\n",
    "test_cm = confusion_matrix(y_test, y_pred_test)\n",
    "results['Test'] = {'classification_acc': accuracy_score(y_pred_test, y_test),\n",
    "                      'TP': test_cm[0,0], 'FP': test_cm[0,1],\n",
    "                      'FN': test_cm[1,0], 'TN': test_cm[1,1]}\n",
    "\n",
    "pd.DataFrame(data=results)\n"
   ]
  },
  {
   "cell_type": "markdown",
   "metadata": {},
   "source": [
    "<h3>Model Selection</h3>\n",
    "<p style=\"font-size: 16px\">As mentioned before, the value of $k$ is a hyperparameter that can be tuned. Because of this, it is important to use cross validation to pick the best $k$, or the $k$ that resulted in the highest accuracy.</p>"
   ]
  },
  {
   "cell_type": "code",
   "execution_count": 12,
   "metadata": {},
   "outputs": [
    {
     "data": {
      "image/png": "[encoded data removed]",
      "text/plain": [
       "<matplotlib.figure.Figure at 0x1da82959a20>"
      ]
     },
     "metadata": {},
     "output_type": "display_data"
    }
   ],
   "source": [
    "from sklearn import metrics\n",
    "\n",
    "PRC = 0.1\n",
    "acc_r=np.zeros((10,20))\n",
    "for i in np.arange(10):\n",
    "    X_train, X_test, y_train, y_test = train_test_split(X, y, test_size=PRC)\n",
    "    for k in np.arange(20):\n",
    "        knn = neighbors.KNeighborsClassifier(n_neighbors=k+1)\n",
    "        knn.fit(X_train,y_train)\n",
    "        y_pred= knn.predict(X_test)\n",
    "        acc_r[i][k] = metrics.accuracy_score(y_pred, y_test)\n",
    "\n",
    "plt.figure(figsize=(10,8))\n",
    "plt.boxplot(acc_r);\n",
    "for i in np.arange(10):\n",
    "    xderiv = (i+1)*np.ones(acc_r[:,i].shape)+(np.random.rand(10,)-0.5)*0.1\n",
    "    plt.plot(xderiv,acc_r[:,i],'ro',alpha=0.3)\n",
    "    \n",
    "ax = plt.gca()\n",
    "ax.set_xticklabels(['{}k'.format(k+1) for k in np.arange(20)])\n",
    "plot_ = plt.ylabel('Accuracy')"
   ]
  },
  {
   "cell_type": "markdown",
   "metadata": {},
   "source": [
    "<p style=\"font-size: 16px\">As you can from the plot, varying the $k$ hyperparameter can change the results. This plot also demonstrates how randomized subsets of the data can change the final model parameters and overall success of the model as well. This is why it is important to undergo the process of model selection.</p>"
   ]
  },
  {
   "cell_type": "markdown",
   "metadata": {},
   "source": [
    "<h2>Support Vector Machines 5.7.2</h2>\n",
    "<p style=\"font-size: 16px\">A support vector machine is a learning algorithm with the goal of learning a linear boundary between classes. The model learns the boundary via <i>support vectors</i> which are example points in the feature space, learning a boundary that creates the largest gap possible between the support vectors in each category. The distance of a point $\\mathbf{x}\\in\\mathbf{R}^d$ to the hyperplane $\\pi$ where $\\pi$ is a combination of variables $\\pi\\equiv a^Tx+b=0$ is \n",
    "$$d(x,\\pi)=\\frac{a^Tx+b}{\\Vert a \\Vert_2}$$\n",
    "\n",
    "Our goal is to find the seperating hyperplane with the maximum margin with maximum distance between elements in different classes.\n",
    "\n",
    "SVM therefore is:\n",
    "$$\\text{minimize } \\quad \\frac{\\Vert a\\Vert_2}{2}+C\\sum_{i=1}^N\\xi_i$$\n",
    "$$\\text{subject to } \\quad y_i(a^Tx_ib)\\geq 1-\\xi_i, i=1 \\cdots N $$\n",
    "$$\\xi\\geq 0$$\n",
    "\n",
    "<li style=\"font-size: 16px\">$C$ is a trade-off parameter that balances the rates of margin and misclassification, with larger values giving more importance to error.</li>\n",
    "<li style=\"font-size: 16px\">$\\xi$ loosley represents error, and we want it as close to 0 as possible. </li> \n",
    "\n",
    "\n",
    "<p style=\"font-size: 16px\">We will use sklearn to train an svm model, for more information, visit <a href='http://scikit-learn.org/stable/modules/svm.html'>the svm documentation</a>.</p>"
   ]
  },
  {
   "cell_type": "code",
   "execution_count": 13,
   "metadata": {},
   "outputs": [
    {
     "data": {
      "image/png": "[encoded data removed]",
      "text/plain": [
       "<matplotlib.figure.Figure at 0x1da82c19cc0>"
      ]
     },
     "metadata": {},
     "output_type": "display_data"
    }
   ],
   "source": [
    "from sklearn.datasets import make_blobs\n",
    "from sklearn.svm import SVC\n",
    "\n",
    "# we create 40 separable points\n",
    "X_blob, y_blob = make_blobs(n_samples=40, centers=2, random_state=6)\n",
    "\n",
    "# fit the model, don't regularize for illustration purposes\n",
    "clf = SVC(kernel='linear')\n",
    "clf.fit(X_blob, y_blob)\n",
    "\n",
    "plt.figure(figsize=(10,8))\n",
    "plt.scatter(X_blob[:, 0], X_blob[:, 1], c=y_blob, s=30, cmap=plt.cm.Paired)\n",
    "\n",
    "# plot the decision function\n",
    "ax = plt.gca()\n",
    "xlim = ax.get_xlim()\n",
    "ylim = ax.get_ylim()\n",
    "\n",
    "# create grid to evaluate model\n",
    "xx = np.linspace(xlim[0], xlim[1], 30)\n",
    "yy = np.linspace(ylim[0], ylim[1], 30)\n",
    "YY, XX = np.meshgrid(yy, xx)\n",
    "xy = np.vstack([XX.ravel(), YY.ravel()]).T\n",
    "Z = clf.decision_function(xy).reshape(XX.shape)\n",
    "\n",
    "# plot decision boundary and margins\n",
    "ax.contour(XX, YY, Z, colors='k', levels=[-1, 0, 1], alpha=0.5,\n",
    "           linestyles=['--', '-', '--'])\n",
    "# plot support vectors\n",
    "plot_ = ax.scatter(clf.support_vectors_[:, 0], clf.support_vectors_[:, 1], s=100,\n",
    "           linewidth=1, facecolors='none')"
   ]
  },
  {
   "cell_type": "markdown",
   "metadata": {},
   "source": [
    "<p style=\"font-size: 16px\">An <a href='http://scikit-learn.org/stable/auto_examples/svm/plot_separating_hyperplane.html'>example</a> provided by sklearn is visualized above. The circled points are the support vectors, the dashed lines represent the margin and the solid line is the linear decision boundary. Although this example shows a <i>linear kernel</i>, the model could use instead a <i>polynomial</i> kernel or <i>radial based function kernel</i>, allowing for non-linear decision boundaries. </p> "
   ]
  },
  {
   "cell_type": "markdown",
   "metadata": {},
   "source": [
    "<p style=\"font-size: 16px\">Now we will try our own SVM model with our previous small dataset.</p>"
   ]
  },
  {
   "cell_type": "code",
   "execution_count": 14,
   "metadata": {},
   "outputs": [
    {
     "name": "stdout",
     "output_type": "stream",
     "text": [
      "Training shape: (2898, 15), training targets shape: (2898,)\n",
      "Testing shape: (1242, 15), testing targets shape: (1242,)\n"
     ]
    },
    {
     "data": {
      "text/html": [
       "<div>\n",
       "<style scoped>\n",
       "    .dataframe tbody tr th:only-of-type {\n",
       "        vertical-align: middle;\n",
       "    }\n",
       "\n",
       "    .dataframe tbody tr th {\n",
       "        vertical-align: top;\n",
       "    }\n",
       "\n",
       "    .dataframe thead th {\n",
       "        text-align: right;\n",
       "    }\n",
       "</style>\n",
       "<table border=\"1\" class=\"dataframe\">\n",
       "  <thead>\n",
       "    <tr style=\"text-align: right;\">\n",
       "      <th></th>\n",
       "      <th>Test</th>\n",
       "      <th>Training</th>\n",
       "    </tr>\n",
       "  </thead>\n",
       "  <tbody>\n",
       "    <tr>\n",
       "      <th>FN</th>\n",
       "      <td>197.000000</td>\n",
       "      <td>1.000000</td>\n",
       "    </tr>\n",
       "    <tr>\n",
       "      <th>FP</th>\n",
       "      <td>0.000000</td>\n",
       "      <td>0.000000</td>\n",
       "    </tr>\n",
       "    <tr>\n",
       "      <th>TN</th>\n",
       "      <td>22.000000</td>\n",
       "      <td>543.000000</td>\n",
       "    </tr>\n",
       "    <tr>\n",
       "      <th>TP</th>\n",
       "      <td>1023.000000</td>\n",
       "      <td>2354.000000</td>\n",
       "    </tr>\n",
       "    <tr>\n",
       "      <th>classification_acc</th>\n",
       "      <td>0.841385</td>\n",
       "      <td>0.999655</td>\n",
       "    </tr>\n",
       "  </tbody>\n",
       "</table>\n",
       "</div>"
      ],
      "text/plain": [
       "                           Test     Training\n",
       "FN                   197.000000     1.000000\n",
       "FP                     0.000000     0.000000\n",
       "TN                    22.000000   543.000000\n",
       "TP                  1023.000000  2354.000000\n",
       "classification_acc     0.841385     0.999655"
      ]
     },
     "execution_count": 14,
     "metadata": {},
     "output_type": "execute_result"
    }
   ],
   "source": [
    "from sklearn.svm import SVC\n",
    "\n",
    "# Split the data into training and testin\n",
    "X_train, X_test, y_train, y_test = train_test_split(X, y, test_size=0.30, random_state=y.size)  \n",
    "print('Training shape: {}, training targets shape: {}'.format(X_train.shape, y_train.shape))\n",
    "print('Testing shape: {}, testing targets shape: {}'.format(X_test.shape, y_test.shape))\n",
    "\n",
    "# Create SVC instance and call fit on our training dataset\n",
    "svm_model = SVC()\n",
    "svm_model.fit(X_train, y_train)\n",
    "\n",
    "# Predict on our training and testing dataset to evaluate the results\n",
    "y_pred_train = svm_model.predict(X_train)\n",
    "y_pred_test = svm_model.predict(X_test)\n",
    "\n",
    "results = dict()\n",
    "train_cm = confusion_matrix(y_train, y_pred_train)\n",
    "results['Training'] = {'classification_acc': accuracy_score(y_pred_train, y_train),\n",
    "                      'TP': train_cm[0,0], 'FP': train_cm[0,1],\n",
    "                      'FN': train_cm[1,0], 'TN': train_cm[1,1]}\n",
    "\n",
    "test_cm = confusion_matrix(y_test, y_pred_test)\n",
    "results['Test'] = {'classification_acc': accuracy_score(y_pred_test, y_test),\n",
    "                      'TP': test_cm[0,0], 'FP': test_cm[0,1],\n",
    "                      'FN': test_cm[1,0], 'TN': test_cm[1,1]}\n",
    "pd.DataFrame(data=results)"
   ]
  },
  {
   "cell_type": "markdown",
   "metadata": {},
   "source": [
    "<p style=\"font-size: 16px\">Unfortunately, because our feature vector is 15 variables long, plotting the decision boundary would be computationally complex and is beyond the scope of this course. What we do observe is that the training accuracy is higher than the testing accuracy, as expected.</p>"
   ]
  },
  {
   "cell_type": "markdown",
   "metadata": {},
   "source": [
    "<h2>Random Forest 5.7.3</h2>\n",
    "<p style=\"font-size: 16px\">The random forest algorithm is a type of ensemble method. Ensemble methods combine classifiers built with a given learning algorithm, such as majority voting, the more diverse the classifiers the better the performance (see <a href='http://scikit-learn.org/stable/modules/ensemble.html'>sklearn ensemble</a>). Decision trees are the most popular ensemble method with the basic idea of how do we <i>partition</i> or <i>split</i> the space and what model should we use for each split. A good description from Wikipedia: <br><br><i>\"In a decision tree each internal node represents a “test” on an attribute (e.g. whether a coin flip comes up heads or tails), each branch represents the outcome of the test, and each leaf node represents a class label (decision taken after computing all attributes). A node that has no children is a leaf.\"</i></p>\n",
    "<p style=\"font-size: 16px\">Random Forest is a particular type of decision tree that only uses subsets of the data at each split, rather than using the entire dataset. Let us use our original data set and build a random forest model. But first, we need to do a little more data cleaning.</p>"
   ]
  },
  {
   "cell_type": "code",
   "execution_count": 15,
   "metadata": {},
   "outputs": [
    {
     "data": {
      "text/html": [
       "<div>\n",
       "<style scoped>\n",
       "    .dataframe tbody tr th:only-of-type {\n",
       "        vertical-align: middle;\n",
       "    }\n",
       "\n",
       "    .dataframe tbody tr th {\n",
       "        vertical-align: top;\n",
       "    }\n",
       "\n",
       "    .dataframe thead th {\n",
       "        text-align: right;\n",
       "    }\n",
       "</style>\n",
       "<table border=\"1\" class=\"dataframe\">\n",
       "  <thead>\n",
       "    <tr style=\"text-align: right;\">\n",
       "      <th></th>\n",
       "      <th>term</th>\n",
       "      <th>int_rate</th>\n",
       "      <th>emp_length</th>\n",
       "      <th>home_ownership</th>\n",
       "    </tr>\n",
       "  </thead>\n",
       "  <tbody>\n",
       "    <tr>\n",
       "      <th>0</th>\n",
       "      <td>36 months</td>\n",
       "      <td>10.65%</td>\n",
       "      <td>10+ years</td>\n",
       "      <td>RENT</td>\n",
       "    </tr>\n",
       "    <tr>\n",
       "      <th>1</th>\n",
       "      <td>60 months</td>\n",
       "      <td>15.27%</td>\n",
       "      <td>&lt; 1 year</td>\n",
       "      <td>RENT</td>\n",
       "    </tr>\n",
       "    <tr>\n",
       "      <th>2</th>\n",
       "      <td>36 months</td>\n",
       "      <td>15.96%</td>\n",
       "      <td>10+ years</td>\n",
       "      <td>RENT</td>\n",
       "    </tr>\n",
       "    <tr>\n",
       "      <th>3</th>\n",
       "      <td>36 months</td>\n",
       "      <td>13.49%</td>\n",
       "      <td>10+ years</td>\n",
       "      <td>RENT</td>\n",
       "    </tr>\n",
       "    <tr>\n",
       "      <th>4</th>\n",
       "      <td>60 months</td>\n",
       "      <td>12.69%</td>\n",
       "      <td>1 year</td>\n",
       "      <td>RENT</td>\n",
       "    </tr>\n",
       "  </tbody>\n",
       "</table>\n",
       "</div>"
      ],
      "text/plain": [
       "         term int_rate emp_length home_ownership\n",
       "0   36 months   10.65%  10+ years           RENT\n",
       "1   60 months   15.27%   < 1 year           RENT\n",
       "2   36 months   15.96%  10+ years           RENT\n",
       "3   36 months   13.49%  10+ years           RENT\n",
       "4   60 months   12.69%     1 year           RENT"
      ]
     },
     "execution_count": 15,
     "metadata": {},
     "output_type": "execute_result"
    }
   ],
   "source": [
    "df_lend[['term', 'int_rate', 'emp_length', 'home_ownership']].head()"
   ]
  },
  {
   "cell_type": "markdown",
   "metadata": {},
   "source": [
    "<p style=\"font-size: 16px\">The above table shows some data type issues we will have to deal with:\n",
    "<li style=\"font-size: 16px\">Interest rate (int_rate) is a string and we need it to be a float</li>\n",
    "<li style=\"font-size: 16px\">Term and emp_length are categorical strings, we need to vectorize the results taking into account the order relationship</li>\n",
    "<li style=\"font-size: 16px\">Home ownership (home_ownership) is a string and needs to be vectorized</li>\n",
    "</p>"
   ]
  },
  {
   "cell_type": "code",
   "execution_count": 16,
   "metadata": {},
   "outputs": [
    {
     "data": {
      "text/html": [
       "<div>\n",
       "<style scoped>\n",
       "    .dataframe tbody tr th:only-of-type {\n",
       "        vertical-align: middle;\n",
       "    }\n",
       "\n",
       "    .dataframe tbody tr th {\n",
       "        vertical-align: top;\n",
       "    }\n",
       "\n",
       "    .dataframe thead th {\n",
       "        text-align: right;\n",
       "    }\n",
       "</style>\n",
       "<table border=\"1\" class=\"dataframe\">\n",
       "  <thead>\n",
       "    <tr style=\"text-align: right;\">\n",
       "      <th></th>\n",
       "      <th>term</th>\n",
       "      <th>term_clean</th>\n",
       "      <th>int_rate</th>\n",
       "      <th>int_rate_clean</th>\n",
       "      <th>emp_length</th>\n",
       "      <th>emp_length_clean</th>\n",
       "    </tr>\n",
       "  </thead>\n",
       "  <tbody>\n",
       "    <tr>\n",
       "      <th>0</th>\n",
       "      <td>36 months</td>\n",
       "      <td>1.0</td>\n",
       "      <td>10.65%</td>\n",
       "      <td>0.1065</td>\n",
       "      <td>10+ years</td>\n",
       "      <td>10.0</td>\n",
       "    </tr>\n",
       "    <tr>\n",
       "      <th>1</th>\n",
       "      <td>60 months</td>\n",
       "      <td>2.0</td>\n",
       "      <td>15.27%</td>\n",
       "      <td>0.1527</td>\n",
       "      <td>&lt; 1 year</td>\n",
       "      <td>0.0</td>\n",
       "    </tr>\n",
       "    <tr>\n",
       "      <th>2</th>\n",
       "      <td>36 months</td>\n",
       "      <td>1.0</td>\n",
       "      <td>15.96%</td>\n",
       "      <td>0.1596</td>\n",
       "      <td>10+ years</td>\n",
       "      <td>10.0</td>\n",
       "    </tr>\n",
       "    <tr>\n",
       "      <th>3</th>\n",
       "      <td>36 months</td>\n",
       "      <td>1.0</td>\n",
       "      <td>13.49%</td>\n",
       "      <td>0.1349</td>\n",
       "      <td>10+ years</td>\n",
       "      <td>10.0</td>\n",
       "    </tr>\n",
       "    <tr>\n",
       "      <th>4</th>\n",
       "      <td>60 months</td>\n",
       "      <td>2.0</td>\n",
       "      <td>12.69%</td>\n",
       "      <td>0.1269</td>\n",
       "      <td>1 year</td>\n",
       "      <td>1.0</td>\n",
       "    </tr>\n",
       "  </tbody>\n",
       "</table>\n",
       "</div>"
      ],
      "text/plain": [
       "         term  term_clean int_rate  int_rate_clean emp_length  \\\n",
       "0   36 months         1.0   10.65%          0.1065  10+ years   \n",
       "1   60 months         2.0   15.27%          0.1527   < 1 year   \n",
       "2   36 months         1.0   15.96%          0.1596  10+ years   \n",
       "3   36 months         1.0   13.49%          0.1349  10+ years   \n",
       "4   60 months         2.0   12.69%          0.1269     1 year   \n",
       "\n",
       "   emp_length_clean  \n",
       "0              10.0  \n",
       "1               0.0  \n",
       "2              10.0  \n",
       "3              10.0  \n",
       "4               1.0  "
      ]
     },
     "execution_count": 16,
     "metadata": {},
     "output_type": "execute_result"
    }
   ],
   "source": [
    "# create a function to apply to all the values in the dataframe series\n",
    "def clear_percent (row):\n",
    "    try:\n",
    "        d = float(row['int_rate'][:-1])/100.\n",
    "    except:\n",
    "        d = None\n",
    "    return d\n",
    "\n",
    "# now apply the function using a lambda function that iterates through each value in the series\n",
    "df_lend['int_rate_clean'] = df_lend.apply (lambda row: clear_percent(row), axis=1)\n",
    "\n",
    "# repeat for the other variables\n",
    "def clear_term (row):\n",
    "    try:\n",
    "        if row['term']==' 36 months':\n",
    "            d = 1\n",
    "        else:\n",
    "            if row['term']==' 60 months':\n",
    "                d = 2\n",
    "            else:\n",
    "                if np.isnan(row['term']):\n",
    "                    d = None\n",
    "    except:\n",
    "        d = None\n",
    "    return d\n",
    "\n",
    "df_lend['term_clean'] = df_lend.apply (lambda row: clear_term(row),axis=1)\n",
    "\n",
    "def clean_emp_length(argument):\n",
    "    switcher = {\n",
    "        '1 year': 1,\n",
    "        '2 years': 2,\n",
    "        '3 years': 3,\n",
    "        '4 years': 4,\n",
    "        '5 years': 5,\n",
    "        '6 years': 6,\n",
    "        '7 years': 7,\n",
    "        '8 years': 8,\n",
    "        '9 years': 9,\n",
    "        '10+ years': 10,\n",
    "        '< 1 year': 0,\n",
    "        'n/a':None,\n",
    "    }\n",
    "    try:\n",
    "        d = switcher[argument['emp_length']]    \n",
    "    except:\n",
    "        d = None\n",
    "    return d\n",
    "\n",
    "df_lend['emp_length_clean'] =df_lend.apply (lambda row: clean_emp_length(row),axis=1)\n",
    "df_lend[['term', 'term_clean', 'int_rate', 'int_rate_clean', 'emp_length', 'emp_length_clean']].head()"
   ]
  },
  {
   "cell_type": "markdown",
   "metadata": {},
   "source": [
    "<p style=\"font-size: 16px\">Sklearn has tools that can help us convert home ownership into several binary variables representing each different category possible.</p>"
   ]
  },
  {
   "cell_type": "code",
   "execution_count": 17,
   "metadata": {},
   "outputs": [
    {
     "data": {
      "text/html": [
       "<div>\n",
       "<style scoped>\n",
       "    .dataframe tbody tr th:only-of-type {\n",
       "        vertical-align: middle;\n",
       "    }\n",
       "\n",
       "    .dataframe tbody tr th {\n",
       "        vertical-align: top;\n",
       "    }\n",
       "\n",
       "    .dataframe thead th {\n",
       "        text-align: right;\n",
       "    }\n",
       "</style>\n",
       "<table border=\"1\" class=\"dataframe\">\n",
       "  <thead>\n",
       "    <tr style=\"text-align: right;\">\n",
       "      <th></th>\n",
       "      <th>home_ownership=MORTGAGE</th>\n",
       "      <th>home_ownership=NONE</th>\n",
       "      <th>home_ownership=OTHER</th>\n",
       "      <th>home_ownership=OWN</th>\n",
       "      <th>home_ownership=RENT</th>\n",
       "    </tr>\n",
       "  </thead>\n",
       "  <tbody>\n",
       "    <tr>\n",
       "      <th>0</th>\n",
       "      <td>-1.0</td>\n",
       "      <td>-1.0</td>\n",
       "      <td>-1.0</td>\n",
       "      <td>-1.0</td>\n",
       "      <td>1.0</td>\n",
       "    </tr>\n",
       "    <tr>\n",
       "      <th>1</th>\n",
       "      <td>-1.0</td>\n",
       "      <td>-1.0</td>\n",
       "      <td>-1.0</td>\n",
       "      <td>-1.0</td>\n",
       "      <td>1.0</td>\n",
       "    </tr>\n",
       "    <tr>\n",
       "      <th>2</th>\n",
       "      <td>-1.0</td>\n",
       "      <td>-1.0</td>\n",
       "      <td>-1.0</td>\n",
       "      <td>-1.0</td>\n",
       "      <td>1.0</td>\n",
       "    </tr>\n",
       "    <tr>\n",
       "      <th>3</th>\n",
       "      <td>-1.0</td>\n",
       "      <td>-1.0</td>\n",
       "      <td>-1.0</td>\n",
       "      <td>-1.0</td>\n",
       "      <td>1.0</td>\n",
       "    </tr>\n",
       "    <tr>\n",
       "      <th>4</th>\n",
       "      <td>-1.0</td>\n",
       "      <td>-1.0</td>\n",
       "      <td>-1.0</td>\n",
       "      <td>-1.0</td>\n",
       "      <td>1.0</td>\n",
       "    </tr>\n",
       "  </tbody>\n",
       "</table>\n",
       "</div>"
      ],
      "text/plain": [
       "   home_ownership=MORTGAGE  home_ownership=NONE  home_ownership=OTHER  \\\n",
       "0                     -1.0                 -1.0                  -1.0   \n",
       "1                     -1.0                 -1.0                  -1.0   \n",
       "2                     -1.0                 -1.0                  -1.0   \n",
       "3                     -1.0                 -1.0                  -1.0   \n",
       "4                     -1.0                 -1.0                  -1.0   \n",
       "\n",
       "   home_ownership=OWN  home_ownership=RENT  \n",
       "0                -1.0                  1.0  \n",
       "1                -1.0                  1.0  \n",
       "2                -1.0                  1.0  \n",
       "3                -1.0                  1.0  \n",
       "4                -1.0                  1.0  "
      ]
     },
     "execution_count": 17,
     "metadata": {},
     "output_type": "execute_result"
    }
   ],
   "source": [
    "from sklearn.feature_extraction import DictVectorizer\n",
    "\n",
    "comb_dict = df_lend[['home_ownership']].to_dict(orient='records')\n",
    "vec = DictVectorizer()\n",
    "home = 2*vec.fit_transform(comb_dict).toarray()-1\n",
    "df_vector = pd.DataFrame(home[:,1:])\n",
    "vector_columns = vec.get_feature_names()\n",
    "df_vector.columns = vector_columns[1:]\n",
    "df_vector.index = df_lend.index\n",
    "\n",
    "df_lend = df_lend.join(df_vector)\n",
    "df_vector.head()"
   ]
  },
  {
   "cell_type": "markdown",
   "metadata": {},
   "source": [
    "<p style=\"font-size: 16px\">Now that we have cleaned up the incorrect data types, we will drop the old columns and remove any other unwanted columns. We will also define our target variables more clearly and remove rows with missing values.</p>"
   ]
  },
  {
   "cell_type": "code",
   "execution_count": 18,
   "metadata": {},
   "outputs": [
    {
     "name": "stdout",
     "output_type": "stream",
     "text": [
      "Undefined values: 0\n",
      "y shape: (42542,), x shape: (42542, 17)\n"
     ]
    },
    {
     "name": "stderr",
     "output_type": "stream",
     "text": [
      "C:\\Users\\maddy\\Anaconda3\\lib\\site-packages\\ipykernel\\__main__.py:3: RuntimeWarning: invalid value encountered in greater\n",
      "  app.launch_new_instance()\n"
     ]
    }
   ],
   "source": [
    "df_lend = df_lend.drop(['term','int_rate','emp_length','home_ownership', 'funded_amnt_inv'],axis=1)\n",
    "\n",
    "y = df_lend['targets'].values>0.05\n",
    "print('Undefined values: {}'.format(np.sum(np.where(np.isnan(y),1,0)))) # np.where(condition, val if true, val if false)\n",
    "\n",
    "X = df_lend.drop(['targets'], axis=1).values\n",
    "df_lend = df_lend.drop(['targets'], axis=1)\n",
    "idx_rmv = np.where(np.isnan(y))[0] # get indexes that are missing values \n",
    "\n",
    "# delete the rows with missing values using the indexes above\n",
    "y = np.delete(y, idx_rmv) \n",
    "X = np.delete(X, idx_rmv,axis=0)\n",
    "print('y shape: {}, x shape: {}'.format(y.shape, X.shape))"
   ]
  },
  {
   "cell_type": "markdown",
   "metadata": {},
   "source": [
    "<p style=\"font-size: 16px\">We received an error due to NaN values, let's explore what is going on.</p>"
   ]
  },
  {
   "cell_type": "code",
   "execution_count": 19,
   "metadata": {},
   "outputs": [
    {
     "data": {
      "text/plain": [
       "array([    7,     7,     7,    11,     7,    36, 26933,    36,     0,\n",
       "           7,     7,  1119,     0,     0,     0,     0,     0])"
      ]
     },
     "execution_count": 19,
     "metadata": {},
     "output_type": "execute_result"
    },
    {
     "data": {
      "image/png": "[encoded data removed]",
      "text/plain": [
       "<matplotlib.figure.Figure at 0x1da81fd1908>"
      ]
     },
     "metadata": {},
     "output_type": "display_data"
    }
   ],
   "source": [
    "nan_feats=np.sum(np.where(np.isnan(X),1,0),axis=0)\n",
    "plt.bar(np.arange(len(nan_feats)), nan_feats)\n",
    "fig = plt.gcf()\n",
    "fig.set_size_inches((12,5))\n",
    "nan_feats"
   ]
  },
  {
   "cell_type": "code",
   "execution_count": 20,
   "metadata": {},
   "outputs": [
    {
     "name": "stdout",
     "output_type": "stream",
     "text": [
      "Column being dropped: mths_since_last_delinq\n",
      "X shape: (42542, 16)\n"
     ]
    },
    {
     "data": {
      "text/plain": [
       "array([   7,    7,    7,   11,    7,   36,   36,    0,    7,    7, 1119,\n",
       "          0,    0,    0,    0,    0])"
      ]
     },
     "execution_count": 20,
     "metadata": {},
     "output_type": "execute_result"
    },
    {
     "data": {
      "image/png": "[encoded data removed]",
      "text/plain": [
       "<matplotlib.figure.Figure at 0x1da82c06128>"
      ]
     },
     "metadata": {},
     "output_type": "display_data"
    }
   ],
   "source": [
    "print('Column being dropped: {}'.format(df_lend.columns[6]))\n",
    "df_lend = df_lend.drop(df_lend.columns[6], axis=1)\n",
    "X=np.hstack((X[:,:6], X[:,7:]))\n",
    "\n",
    "print(\"X shape: {}\".format(X.shape))\n",
    "#Check now\n",
    "nan_feats=np.sum(np.where(np.isnan(X),1,0),axis=0)\n",
    "plt.bar(np.arange(len(nan_feats)),nan_feats)\n",
    "fig = plt.gcf()\n",
    "fig.set_size_inches((12,5))\n",
    "nan_feats"
   ]
  },
  {
   "cell_type": "code",
   "execution_count": 21,
   "metadata": {},
   "outputs": [
    {
     "name": "stdout",
     "output_type": "stream",
     "text": [
      "Column being dropped: emp_length_clean\n",
      "X shape: (42542, 15)\n"
     ]
    },
    {
     "data": {
      "text/plain": [
       "array([ 7,  7,  7, 11,  7, 36, 36,  0,  7,  7,  0,  0,  0,  0,  0])"
      ]
     },
     "execution_count": 21,
     "metadata": {},
     "output_type": "execute_result"
    },
    {
     "data": {
      "image/png": "[encoded data removed]",
      "text/plain": [
       "<matplotlib.figure.Figure at 0x1da829b1b00>"
      ]
     },
     "metadata": {},
     "output_type": "display_data"
    }
   ],
   "source": [
    "print('Column being dropped: {}'.format(df_lend.columns[10]))\n",
    "df_lend = df_lend.drop(df_lend.columns[10], axis=1)\n",
    "X = np.hstack((X[:,:10], X[:,11:]))\n",
    "print('X shape: {}'.format(X.shape))\n",
    "\n",
    "nan_feats=np.sum(np.where(np.isnan(X),1,0),axis=0)\n",
    "plt.bar(np.arange(len(nan_feats)),nan_feats)\n",
    "fig = plt.gcf()\n",
    "fig.set_size_inches((12,5))\n",
    "nan_feats"
   ]
  },
  {
   "cell_type": "markdown",
   "metadata": {},
   "source": [
    "<h3>Fitting the Model</h3>"
   ]
  },
  {
   "cell_type": "code",
   "execution_count": 22,
   "metadata": {},
   "outputs": [
    {
     "name": "stdout",
     "output_type": "stream",
     "text": [
      "Training shape: (29754, 15), training targets shape: (29754,)\n",
      "Testing shape: (12752, 15), testing targets shape: (12752,)\n"
     ]
    },
    {
     "data": {
      "text/html": [
       "<div>\n",
       "<style scoped>\n",
       "    .dataframe tbody tr th:only-of-type {\n",
       "        vertical-align: middle;\n",
       "    }\n",
       "\n",
       "    .dataframe tbody tr th {\n",
       "        vertical-align: top;\n",
       "    }\n",
       "\n",
       "    .dataframe thead th {\n",
       "        text-align: right;\n",
       "    }\n",
       "</style>\n",
       "<table border=\"1\" class=\"dataframe\">\n",
       "  <thead>\n",
       "    <tr style=\"text-align: right;\">\n",
       "      <th></th>\n",
       "      <th>Test</th>\n",
       "      <th>Training</th>\n",
       "    </tr>\n",
       "  </thead>\n",
       "  <tbody>\n",
       "    <tr>\n",
       "      <th>FN</th>\n",
       "      <td>1610.000000</td>\n",
       "      <td>534.000000</td>\n",
       "    </tr>\n",
       "    <tr>\n",
       "      <th>FP</th>\n",
       "      <td>134.000000</td>\n",
       "      <td>7.000000</td>\n",
       "    </tr>\n",
       "    <tr>\n",
       "      <th>TN</th>\n",
       "      <td>730.000000</td>\n",
       "      <td>4836.000000</td>\n",
       "    </tr>\n",
       "    <tr>\n",
       "      <th>TP</th>\n",
       "      <td>10278.000000</td>\n",
       "      <td>24377.000000</td>\n",
       "    </tr>\n",
       "    <tr>\n",
       "      <th>classification_acc</th>\n",
       "      <td>0.863237</td>\n",
       "      <td>0.981818</td>\n",
       "    </tr>\n",
       "  </tbody>\n",
       "</table>\n",
       "</div>"
      ],
      "text/plain": [
       "                            Test      Training\n",
       "FN                   1610.000000    534.000000\n",
       "FP                    134.000000      7.000000\n",
       "TN                    730.000000   4836.000000\n",
       "TP                  10278.000000  24377.000000\n",
       "classification_acc      0.863237      0.981818"
      ]
     },
     "execution_count": 22,
     "metadata": {},
     "output_type": "execute_result"
    }
   ],
   "source": [
    "from sklearn.ensemble import RandomForestClassifier\n",
    "\n",
    "idx_rmv = np.where(np.isnan(X).any(axis=1))[0] # get indexes that are missing values \n",
    "\n",
    "# delete the rows with missing values using the indexes above\n",
    "y = np.delete(y, idx_rmv) \n",
    "X = np.delete(X, idx_rmv,axis=0)\n",
    "\n",
    "X_train, X_test, y_train, y_test = train_test_split(X, y, test_size=0.30, random_state=y.size)  \n",
    "print('Training shape: {}, training targets shape: {}'.format(X_train.shape, y_train.shape))\n",
    "print('Testing shape: {}, testing targets shape: {}'.format(X_test.shape, y_test.shape))\n",
    "\n",
    "# Create SVC instance and call fit on our training dataset\n",
    "rf_model = RandomForestClassifier()\n",
    "rf_model.fit(X_train, y_train)\n",
    "\n",
    "# Predict on our training and testing dataset to evaluate the results\n",
    "y_pred_train = rf_model.predict(X_train)\n",
    "y_pred_test = rf_model.predict(X_test)\n",
    "\n",
    "results = dict()\n",
    "train_cm = confusion_matrix(y_train, y_pred_train)\n",
    "results['Training'] = {'classification_acc': accuracy_score(y_pred_train, y_train),\n",
    "                      'TP': train_cm[0,0], 'FP': train_cm[0,1],\n",
    "                      'FN': train_cm[1,0], 'TN': train_cm[1,1]}\n",
    "\n",
    "test_cm = confusion_matrix(y_test, y_pred_test)\n",
    "results['Test'] = {'classification_acc': accuracy_score(y_pred_test, y_test),\n",
    "                      'TP': test_cm[0,0], 'FP': test_cm[0,1],\n",
    "                      'FN': test_cm[1,0], 'TN': test_cm[1,1]}\n",
    "pd.DataFrame(data=results)"
   ]
  },
  {
   "cell_type": "markdown",
   "metadata": {},
   "source": [
    "<p style=\"font-size: 16px\">The random forest algorithm measures the relative importance of each feature on the prediction and sklearn provides us with those feature importances. This can help us in feature selection before training more complex models.</p>"
   ]
  },
  {
   "cell_type": "code",
   "execution_count": 24,
   "metadata": {},
   "outputs": [
    {
     "data": {
      "text/html": [
       "<div>\n",
       "<style scoped>\n",
       "    .dataframe tbody tr th:only-of-type {\n",
       "        vertical-align: middle;\n",
       "    }\n",
       "\n",
       "    .dataframe tbody tr th {\n",
       "        vertical-align: top;\n",
       "    }\n",
       "\n",
       "    .dataframe thead th {\n",
       "        text-align: right;\n",
       "    }\n",
       "</style>\n",
       "<table border=\"1\" class=\"dataframe\">\n",
       "  <thead>\n",
       "    <tr style=\"text-align: right;\">\n",
       "      <th></th>\n",
       "      <th>annual_inc</th>\n",
       "      <th>delinq_2yrs</th>\n",
       "      <th>dti</th>\n",
       "      <th>failed_loan</th>\n",
       "      <th>funded_amnt</th>\n",
       "      <th>home_ownership=MORTGAGE</th>\n",
       "      <th>home_ownership=NONE</th>\n",
       "      <th>home_ownership=OTHER</th>\n",
       "      <th>home_ownership=OWN</th>\n",
       "      <th>home_ownership=RENT</th>\n",
       "      <th>installment</th>\n",
       "      <th>int_rate_clean</th>\n",
       "      <th>loan_amnt</th>\n",
       "      <th>term_clean</th>\n",
       "      <th>total_acc</th>\n",
       "    </tr>\n",
       "  </thead>\n",
       "  <tbody>\n",
       "    <tr>\n",
       "      <th>results</th>\n",
       "      <td>0.122787</td>\n",
       "      <td>0.01554</td>\n",
       "      <td>0.137651</td>\n",
       "      <td>0.047802</td>\n",
       "      <td>0.110762</td>\n",
       "      <td>0.008572</td>\n",
       "      <td>0.000168</td>\n",
       "      <td>0.004514</td>\n",
       "      <td>0.004463</td>\n",
       "      <td>0.008195</td>\n",
       "      <td>0.153998</td>\n",
       "      <td>0.14147</td>\n",
       "      <td>0.130687</td>\n",
       "      <td>0.008925</td>\n",
       "      <td>0.104466</td>\n",
       "    </tr>\n",
       "  </tbody>\n",
       "</table>\n",
       "</div>"
      ],
      "text/plain": [
       "         annual_inc  delinq_2yrs       dti  failed_loan  funded_amnt  \\\n",
       "results    0.122787      0.01554  0.137651     0.047802     0.110762   \n",
       "\n",
       "         home_ownership=MORTGAGE  home_ownership=NONE  home_ownership=OTHER  \\\n",
       "results                 0.008572             0.000168              0.004514   \n",
       "\n",
       "         home_ownership=OWN  home_ownership=RENT  installment  int_rate_clean  \\\n",
       "results            0.004463             0.008195     0.153998         0.14147   \n",
       "\n",
       "         loan_amnt  term_clean  total_acc  \n",
       "results   0.130687    0.008925   0.104466  "
      ]
     },
     "execution_count": 24,
     "metadata": {},
     "output_type": "execute_result"
    }
   ],
   "source": [
    "results = dict()\n",
    "importances = rf_model.feature_importances_\n",
    "for idx, col in enumerate(df_lend.columns):\n",
    "    results[col] = importances[idx]\n",
    "df = pd.DataFrame(data=results, index=['results'])\n",
    "df"
   ]
  },
  {
   "cell_type": "code",
   "execution_count": 25,
   "metadata": {},
   "outputs": [
    {
     "data": {
      "image/png": "[encoded data removed]",
      "text/plain": [
       "<matplotlib.figure.Figure at 0x1dab1fbddd8>"
      ]
     },
     "metadata": {},
     "output_type": "display_data"
    }
   ],
   "source": [
    "# Plot the feature importances of the forest\n",
    "plt.figure()\n",
    "plt.title(\"Feature importances\")\n",
    "std = np.std([rf_model.feature_importances_ for tree in rf_model.estimators_],\n",
    "             axis=0)\n",
    "indices = np.argsort(importances)[::-1]\n",
    "labels = [df_lend.columns[i] for i in indices]\n",
    "plt.bar(range(X.shape[1]), importances[indices], label=labels,\n",
    "       color=\"r\", yerr=std[indices], align=\"center\")\n",
    "plt.xticks(range(X.shape[1]), labels, rotation='vertical')\n",
    "plt.xlim([-1, X.shape[1]])\n",
    "plt.show()"
   ]
  }
 ],
 "metadata": {
  "kernelspec": {
   "display_name": "Python 2",
   "language": "python",
   "name": "python2"
  },
  "language_info": {
   "codemirror_mode": {
    "name": "ipython",
    "version": 2
   },
   "file_extension": ".py",
   "mimetype": "text/x-python",
   "name": "python",
   "nbconvert_exporter": "python",
   "pygments_lexer": "ipython2",
   "version": "2.7.15"
  }
 },
 "nbformat": 4,
 "nbformat_minor": 1
}
