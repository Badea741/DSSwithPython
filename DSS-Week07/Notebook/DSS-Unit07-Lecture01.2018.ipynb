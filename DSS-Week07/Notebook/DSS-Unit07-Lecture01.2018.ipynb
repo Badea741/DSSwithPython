{
 "cells": [
  {
   "cell_type": "markdown",
   "metadata": {},
   "source": [
    "# Unit 7 Lecture 1 - Linear Programming\n",
    "\n",
    "ESI4628: Decision Support Systems for Industrial Engineers<br>\n",
    "University of Central Florida\n",
    "Dr. Ivan Garibay, Ramya Akula, Mostafa Saeidi, Madeline Schiappa, and Brett Belcher. \n",
    "https://github.com/igaribay/DSSwithPython/blob/master/DSS-Week07/Notebook/DSS-Unit07-Lecture01.2018.ipynb"
   ]
  },
  {
   "cell_type": "markdown",
   "metadata": {},
   "source": [
    "## Notebook Learning Objectives\n",
    "After studying this notebook students should be able to:\n",
    "- Visualize a linear relationships\n",
    "- Solve a linear programming problem using <code>Pulp</code>"
   ]
  },
  {
   "cell_type": "markdown",
   "metadata": {},
   "source": [
    "# Overview"
   ]
  },
  {
   "cell_type": "markdown",
   "metadata": {},
   "source": [
    "Linear programming is a method to achieve the best outcome in a mathematical model whose requirements are represented by linear relationships. More formally, linear programming is a technique for the optimization of a linear objective function, subject to linear equality and linear inequality constraints. Its feasible region is a convex polytope, which is a set defined as the intersection of finitely many half spaces, each of which is defined by a linear inequality. Its objective function is a real-valued affine (linear) function defined on this polyhedron. A linear programming algorithm finds a point in the polyhedron where this function has the smallest (or largest) value if such a point exists.\n",
    "\n",
    "The problem of solving a system of linear inequalities dates back to at least Fourier, who in 1827 published a method for solving it. Later on John von Neumann imporved the _Simplex Method_ of solving them to use it on game theory. More recently, it was proven that a system of linear inequalities can be solved in polinomial time and with the introduction in 1984 of the _interior-point method_ there is now efficient ways to solving linear inequalities numerically.\n",
    "\n",
    "Linear programming has wide applications in the fields of economics, operations research, and many others. In particular many problems in operations reserach can be expressed as linear programs."
   ]
  },
  {
   "cell_type": "markdown",
   "metadata": {},
   "source": [
    "# Standard Form\n",
    "\n",
    "We can describe a linear programming problems in three parts:\n",
    "\n",
    "- __A linear function to be optimized__, for example: \n",
    "\\begin{equation*}\n",
    "f(x_{1},x_{2})=c_{1}x_{1}+c_{2}x_{2}\n",
    "\\end{equation*}\n",
    "- __Problem constraints__ of the following form, for example: \n",
    "\\begin{equation*}\n",
    "\\begin{matrix}\n",
    "a_{11}x_{1}+a_{12}x_{2}\\leq b_{1}\\\\\n",
    "a_{21}x_{1}+a_{22}x_{2}\\leq b_{2}\\\\\n",
    "a_{31}x_{1}+a_{32}x_{2}\\leq b_{3}\n",
    "\\end{matrix}\n",
    "\\end{equation*}\n",
    "- __Non-negative decision variables___, for example: \n",
    "\\begin{equation*}\n",
    "\\begin{matrix}x_{1}\\geq 0\\\\x_{2}\\geq 0\\end{matrix}\n",
    "\\end{equation*}\n",
    "\n",
    "In general, we can express this problem in matrix notation:\n",
    "\n",
    "\\begin{equation*}\n",
    "\\max\\{\\mathbf {c} ^{\\mathrm {T} }\\mathbf {x} \\;|\\;A\\mathbf {x} \\leq \\mathbf {b} \\land \\mathbf {x} \\geq 0\\}\n",
    "\\end{equation*}\n",
    "Where, $x$ is a vector of variables to be solved, $c$ and $b$ are vectors of known coefficients, $A$ is a known matrix of coefficients, and $()^{T}$ is the matrix transpose operator."
   ]
  },
  {
   "cell_type": "markdown",
   "metadata": {},
   "source": [
    "# Solving Linear Programs (LP) using PuLP\n",
    "\n",
    "PuLP is a free open source software written in Python. It is used to describe optimisation problems as mathematical models.\n",
    "\n",
    "### Installing PuLP\n",
    "\n",
    "To install PuLP in your computer follow this instructions: <br>\n",
    "- Open a terminal window\n",
    "- Execute the following command: <code> conda install -c conda-forge pulp </code>\n",
    "\n",
    "Now lets load the libraries needed for this notebook, including <code>pulp</code>"
   ]
  },
  {
   "cell_type": "code",
   "execution_count": 27,
   "metadata": {},
   "outputs": [],
   "source": [
    "import numpy as np\n",
    "import matplotlib.pyplot as plt\n",
    "import pulp"
   ]
  },
  {
   "cell_type": "markdown",
   "metadata": {},
   "source": [
    "# A Simple Example"
   ]
  },
  {
   "cell_type": "markdown",
   "metadata": {},
   "source": [
    "Let’s start using PuPL with a simple example. Lets maximize the following objective function $Z$:<br>\n",
    "\n",
    "$Z = 4x+3y$\n",
    "\n",
    "with $x$ and $y$ being our decision variables.\n",
    "\n",
    "In addition, the objective function is subject to the following constraints:\n",
    "* $x ≥ 0$\n",
    "* $y ≥ 2$\n",
    "* $2y ≤ 25–x$\n",
    "* $4y ≥ 2x–8$\n",
    "* $y ≤ 2x−5$\n",
    "\n",
    "Before we use <code>PuLP</code> to sove this Linear Program, lets first graph these contrains and the objective function to get a good idea of how the function we are trying to optimize looks like and how the contrains limit this function."
   ]
  },
  {
   "cell_type": "markdown",
   "metadata": {},
   "source": [
    "# Visualizing Constrains and Objective"
   ]
  },
  {
   "cell_type": "markdown",
   "metadata": {},
   "source": [
    "### Plotting the constrain boundaries\n",
    "\n",
    "Lets use standard plotting tools to plot the constrains:"
   ]
  },
  {
   "cell_type": "code",
   "execution_count": 28,
   "metadata": {},
   "outputs": [
    {
     "data": {
      "text/plain": [
       "<matplotlib.legend.Legend at 0x12f1a86d0>"
      ]
     },
     "execution_count": 28,
     "metadata": {},
     "output_type": "execute_result"
    },
    {
     "data": {
      "image/png": "[encoded data removed]",
      "text/plain": [
       "<Figure size 432x288 with 1 Axes>"
      ]
     },
     "metadata": {},
     "output_type": "display_data"
    }
   ],
   "source": [
    "# Construct lines\n",
    "\n",
    "# x > 0\n",
    "x = np.linspace(0, 20, 2000) # start=0, stop=20, samples=2,000\n",
    "\n",
    "# y >= 2\n",
    "y1 = x*0+2 # we need the \"x\" so that \"y1\" also become a vector!\n",
    "            # To graph we just calculate the equality (=) \n",
    "            # at this step, later we will \"shade\" the area \n",
    "            # included in the inequality (>=) later.\n",
    "\n",
    "# 2y <= 25 - x\n",
    "y2 = (25-x)/2.0 \n",
    "\n",
    "# 4y >= 2x - 8 \n",
    "y3 = (2*x-8)/4.0\n",
    "\n",
    "# y <= 2x - 5 \n",
    "y4 = 2 * x -5\n",
    "\n",
    "# Make plot\n",
    "plt.plot(x, y1, label=r'$y\\geq2$') #for label in math text use\n",
    "plt.plot(x, y2, label=r'$y\\leq (25-x)/2$') # r'$ $'\n",
    "plt.plot(x, y3, label=r'$y\\geq (2x - 8)/4$')\n",
    "plt.plot(x, y4, label=r'$y\\leq 2x-5$')\n",
    "plt.xlim((0, 18)) #limits for plot x-axis, left=0, right=18\n",
    "plt.ylim((0, 11)) #limits for plot y-axis, left=0, right=11\n",
    "plt.xlabel(r'$x$')\n",
    "plt.ylabel(r'$y$')\n",
    "\n",
    "plt.legend(bbox_to_anchor=(1.0, 1.0) ,loc='upper right' )"
   ]
  },
  {
   "cell_type": "markdown",
   "metadata": {},
   "source": [
    "### Plotting the feasible space using  <code>.fill_between(x,y1,y2,where)</code>\n",
    "- Fill the area between two horizontal curves\n",
    "- Parameters:\n",
    "- x : array (length N). The x coordinates of the nodes defining the curves.\n",
    "\n",
    "- y1 : array (length N) or scalar. The y coordinates of the nodes defining the first curve.\n",
    "\n",
    "- y2 : array (length N) or scalar, optional, default: 0. The y coordinates of the nodes defining the second curve.\n",
    "\n",
    "- where : array of bool (length N), optional, default: None\n",
    "Define where to exclude some horizontal regions from being filled. The filled regions are defined by the coordinates x[where]. More precisely, fill between x[i] and x[i+1] if where[i] and where[i+1]. Note that this definition implies that an isolated True value between two False values in where will not result in filling. Both sides of the True position remain unfilled due to the adjacent False values."
   ]
  },
  {
   "cell_type": "code",
   "execution_count": 29,
   "metadata": {},
   "outputs": [
    {
     "data": {
      "text/plain": [
       "<matplotlib.legend.Legend at 0x12f2b7590>"
      ]
     },
     "execution_count": 29,
     "metadata": {},
     "output_type": "execute_result"
    },
    {
     "data": {
      "image/png": "[encoded data removed]",
      "text/plain": [
       "<Figure size 432x288 with 1 Axes>"
      ]
     },
     "metadata": {},
     "output_type": "display_data"
    }
   ],
   "source": [
    "# Make plot\n",
    "plt.plot(x, y1, label=r'$y\\geq2$') #for label in math text use\n",
    "plt.plot(x, y2, label=r'$2y\\leq25-x$') # r'$ $'\n",
    "plt.plot(x, y3, label=r'$4y\\geq 2x - 8$')\n",
    "plt.plot(x, y4, label=r'$y\\leq 2x-5$')\n",
    "plt.xlim((0, 18)) #limits for plot x-axis, left=0, right=18\n",
    "plt.ylim((0, 11)) #limits for plot y-axis, left=0, right=11\n",
    "plt.xlabel(r'$x$')\n",
    "plt.ylabel(r'$y$')\n",
    "\n",
    "# Fill feasible region \n",
    "# minimum of\n",
    "# y <= (25 - x)/2\n",
    "# y <= 2x - 5 \n",
    "y5 = np.minimum(y2, y4) #Compare two arrays and returns a new \n",
    "                    #array containing the element-wise minima\n",
    "# maximum of\n",
    "# y >= 2\n",
    "# y >= (2x - 8)/4\n",
    "y6 = np.maximum(y1, y3) #Same as above, but return maxima\n",
    "\n",
    "plt.fill_between(x, y5, y6, where=y5>y6, color='grey', alpha=0.5)\n",
    "plt.legend(bbox_to_anchor=(1.0, 1.0) ,loc='upper right' )"
   ]
  },
  {
   "cell_type": "markdown",
   "metadata": {},
   "source": [
    "### Plotting the feasible space plus the heat map for the objective function"
   ]
  },
  {
   "cell_type": "code",
   "execution_count": 30,
   "metadata": {},
   "outputs": [
    {
     "data": {
      "image/png": "[encoded data removed]",
      "text/plain": [
       "<Figure size 432x288 with 2 Axes>"
      ]
     },
     "metadata": {},
     "output_type": "display_data"
    }
   ],
   "source": [
    "# Make plot\n",
    "plt.plot(x, y1, label=r'$y\\geq2$') #for label in math text use\n",
    "plt.plot(x, y2, label=r'$2y\\leq25-x$') # r'$ $'\n",
    "plt.plot(x, y3, label=r'$4y\\geq 2x - 8$')\n",
    "plt.plot(x, y4, label=r'$y\\leq 2x-5$')\n",
    "plt.xlim((0, 18)) #limits for plot x-axis, left=0, right=18\n",
    "plt.ylim((0, 11)) #limits for plot y-axis, left=0, right=11\n",
    "plt.xlabel(r'$x$')\n",
    "plt.ylabel(r'$y$')\n",
    "\n",
    "# Z=4x+3y\n",
    "def f(x, y): \n",
    "    return 4*x + 3*y \n",
    "\n",
    "x = np.linspace(0, 20, 2000)\n",
    "y = np.linspace(0, 20, 2000)\n",
    "X, Y = np.meshgrid(x, y)\n",
    "Z = f(X, Y)\n",
    "\n",
    "plt.contourf(X, Y, Z, 30, cmap = 'coolwarm')\n",
    "plt.colorbar();"
   ]
  },
  {
   "cell_type": "markdown",
   "metadata": {},
   "source": [
    "# Solving Simple Example  using PuLP"
   ]
  },
  {
   "cell_type": "markdown",
   "metadata": {},
   "source": [
    "## Step 1: create linear optimization problem \n",
    "The first step is to crete a variable for our problem. In our case we are using <code>my_lp_problem</code>, but the name could be anything. We create this variable using <code>pulp.LpProblem()</code>. This function takes two arguments. The first is the name of our problem, <code>\"My LP Problem\"</code> in our example below. The second one can take the values <code>pulp.LpMaximize</code> or <code>pulp.LpMinimize</code> depending if our optimization problem is a maximiation or a minimization problem."
   ]
  },
  {
   "cell_type": "code",
   "execution_count": 31,
   "metadata": {},
   "outputs": [],
   "source": [
    "# Create the 'prob' variable to contain the problem data\n",
    "my_lp_problem = pulp.LpProblem(\"My LP Problem\", pulp.LpMaximize)"
   ]
  },
  {
   "cell_type": "markdown",
   "metadata": {},
   "source": [
    "## Step 2: setting the decision variables\n",
    "Optimization problems have variables that we would like to optimize, to find their values that either maximize or minimize the objective function. These are called the _decision variables_. The optimal values of these decision variables are the output of a Pulp optimization. To define these variables we use <code>pulp.LpVariable()</code>. This function takes four arguments. The first one is the name of the decision variabled, i.e., <code>'x'</code>. The second and third ones determine the lower bound and upper bounds for the optimization (the lowest and highest posible values for this variable that we will considered while optimizing), i.e.,  <code>lowBound=0, upBound=None</code> (explore from 0 to positive infinity). Finally, the third argument determines if the variable is going to take continuous values or discrete values using <code>Continuous</code> or <code>Integer</code> respectively, i.e., <code>cat='Continuous'</code>."
   ]
  },
  {
   "cell_type": "code",
   "execution_count": 32,
   "metadata": {},
   "outputs": [],
   "source": [
    "x = pulp.LpVariable('x', lowBound=0, upBound=None, cat='Continuous')\n",
    "y = pulp.LpVariable('y', lowBound=2, upBound=None, cat='Continuous')"
   ]
  },
  {
   "cell_type": "markdown",
   "metadata": {},
   "source": [
    "## Step 3: Input objective function and constrains\n",
    "\n",
    "Now we start inputing information to our problem. The first function to input is the objective function, the function we are maximizing or minimizing. We use the operator <code>+=</code> to do this. The line of code we use to input the objective function should end with <code>, \"Name of objective function\"</code> to indicate that is the objective function and provide a name for it.\n"
   ]
  },
  {
   "cell_type": "code",
   "execution_count": 33,
   "metadata": {},
   "outputs": [],
   "source": [
    "# Objective function, first one to input, put lable at end \"Z\"\n",
    "my_lp_problem += 4 * x + 3 * y, \"Z\""
   ]
  },
  {
   "cell_type": "markdown",
   "metadata": {},
   "source": [
    "Next, we input all the _constrains_ we may have in our optimization problem. We use <code>+=</code> as above follow by a relationship. Usually we use the following relationship operators: <code>==, <, >, >=, <= </code> as shown below:"
   ]
  },
  {
   "cell_type": "code",
   "execution_count": 34,
   "metadata": {},
   "outputs": [],
   "source": [
    "# Constraints\n",
    "#my_lp_problem += y >= 2 # no needed since enter in variable as lowBound\n",
    "my_lp_problem += 2 * y <= 25 - x\n",
    "my_lp_problem += 4 * y >= 2 * x - 8\n",
    "my_lp_problem += y <= 2 * x - 5\n",
    "#my_lp_problem += y == 0 # this would make in \"infeasible\""
   ]
  },
  {
   "cell_type": "markdown",
   "metadata": {},
   "source": [
    "## Step 4: Solve our optimization using  <code>.solve</code>\n",
    "Once we have setup our problem, input our objective function and input our constrains, finding the solution of our problem requires a single line of code:"
   ]
  },
  {
   "cell_type": "code",
   "execution_count": 35,
   "metadata": {},
   "outputs": [
    {
     "data": {
      "text/plain": [
       "1"
      ]
     },
     "execution_count": 35,
     "metadata": {},
     "output_type": "execute_result"
    }
   ],
   "source": [
    "my_lp_problem.solve()"
   ]
  },
  {
   "cell_type": "markdown",
   "metadata": {},
   "source": [
    "Of course, behind the scenes, Pulp and Python are executing numerical optimization algorithms to find a solution. PuLP choses the solver to use. We can determine what solver PuPL should use by providing an argument: <code>my_lp_problem.solve(CPLEX())</code>. We can see what solvers are available in our installation using <code>pulp.pulpTestAll()</code>."
   ]
  },
  {
   "cell_type": "markdown",
   "metadata": {},
   "source": [
    "## Step 5: Display Solution\n",
    "\n",
    "Now we can display the results from the solver as our output. First we ask the solver for he status of the solution. Possible status are:\n",
    "- Not Solved\n",
    "- Infeasible\n",
    "- Unbounded\n",
    "- Undefined\n",
    "- Optimal"
   ]
  },
  {
   "cell_type": "code",
   "execution_count": 36,
   "metadata": {},
   "outputs": [
    {
     "name": "stdout",
     "output_type": "stream",
     "text": [
      "('Status:', 'Optimal')\n"
     ]
    }
   ],
   "source": [
    "print(\"Status:\", pulp.LpStatus[my_lp_problem.status])"
   ]
  },
  {
   "cell_type": "markdown",
   "metadata": {},
   "source": [
    "Now, we can print the variables and the solved optimum values as well as the optimal value for the objective function. We use <code>.name() .varValue()</code> and <code>.objective()</code> as follows:"
   ]
  },
  {
   "cell_type": "code",
   "execution_count": 37,
   "metadata": {},
   "outputs": [
    {
     "name": "stdout",
     "output_type": "stream",
     "text": [
      "x 14.5\n",
      "y 5.25\n",
      "73.75\n"
     ]
    }
   ],
   "source": [
    "print x.name, x.varValue\n",
    "print y.name, y.varValue\n",
    "print pulp.value(my_lp_problem.objective)"
   ]
  },
  {
   "cell_type": "markdown",
   "metadata": {},
   "source": [
    "# Example : Car Model Profit Maximization\n",
    "\n",
    "Lets assume that a company manufactures two models of cars. Lets call these model A and model B. When sold, each of these cars  produce a profit of 30,000 and 45,000 for models A and B respectively. We want to _maximaze_ profit described by the following equation (our objective function):\n",
    "\n",
    "$profit model = 30,000 A + 45,000 B$\n",
    "\n",
    "But of course, we can not produce infinite amount of cars. The car manufacturing is restricted by factory capacity, supplier capacity, financial resources available, etc. Furthermore, the deamand for cars is not infinite and the particular market segment this company operates on could have several competitors. For this example, lets simply assume that the following equations represent the manufacturing and market constraints:\n",
    "\n",
    "$3A + 4B <= 30000$ <br>\n",
    "$5A + 6B <= 60000$ <br>\n",
    "$2A + 3B <= 21000$ <br>\n",
    "\n",
    "To solve this LP, we follow the steps described above:"
   ]
  },
  {
   "cell_type": "code",
   "execution_count": 38,
   "metadata": {},
   "outputs": [
    {
     "name": "stdout",
     "output_type": "stream",
     "text": [
      "Optimal\n",
      "Production of Car A =  1200.0\n",
      "Production of Car B =  6600.0\n",
      "Maximum Profit =  333000000.0\n"
     ]
    }
   ],
   "source": [
    "# Instantiate our problem class\n",
    "model = pulp.LpProblem(\"Profit maximising problem\", pulp.LpMaximize)\n",
    "\n",
    "# create the decision variables\n",
    "A = pulp.LpVariable('A', lowBound=0, cat='Integer')\n",
    "B = pulp.LpVariable('B', lowBound=0, cat='Integer')\n",
    "\n",
    "# Input objective function\n",
    "model += 30000 * A + 45000 * B, \"Profit\"\n",
    "\n",
    "# Input constraints\n",
    "model += 3 * A + 4 * B <= 30000\n",
    "model += 5 * A + 6 * B <= 60000\n",
    "model += A + 3 * B <= 21000\n",
    "\n",
    "# Solve our problem\n",
    "model.solve()\n",
    "\n",
    "# check status of solution\n",
    "print pulp.LpStatus[model.status]\n",
    "\n",
    "# Print our decision variable values\n",
    "print \"Production of Car A = \", A.varValue\n",
    "print \"Production of Car B = \", B.varValue\n",
    "\n",
    "# Print our objective function value\n",
    "print \"Maximum Profit = \", pulp.value(model.objective)"
   ]
  },
  {
   "cell_type": "markdown",
   "metadata": {},
   "source": [
    "# Exercises\n",
    "\n",
    "__1.__ An operations manager is trying to determine a production plan for the next week. There are three products (say, P, Q, and Q) to produce using four machines (say, A and B, C, and D). Each of the four machines performs a unique process. There is one machine of each type, and each machine is available for 2400 minutes per week. The unit processing times for each machine is given in Table 1.\n",
    "\n",
    "__Table 1. Unit Processing Time (min)__\n",
    "\n",
    "| Machine                | Product P   | Product Q |  Product R |  Availability (min) | \n",
    "| -----------------------| ----------- | --------- | ---------- |-------------------- |\n",
    "| A                      | 20          | 10        |  10        | 2400                |\n",
    "| B                      | 20          | 28        |  16        | 2400                |\n",
    "| C                      | 20          | 6         |  16        | 2400                |\n",
    "| D                      | 20          | 15        |  0         | 2400                |\n",
    "| Total processing time  | 57          | 59        |  42        | 9600                |\n",
    "\n",
    "The unit revenues and maximum sales for the week are indicated in Table 2. Storage from one week to the next is not permitted. The operating expenses associated with the plant are \\$6000 per week, regardless of how many components and products are made. The \\$6000 includes all expenses except for material costs.\n",
    "\n",
    "__Table 2. Product Data__\n",
    "\n",
    "| Item                   | Product P   | Product Q |  Product R |  \n",
    "| -----------------------| ----------- | --------- | ---------- |\n",
    "| Revenue per unit       | 20          | 10        |  10        | \n",
    "| Material cost per unit | 20          | 28        |  16        | \n",
    "| Profit per unit        | 20          | 6         |  16        | \n",
    "| Maximum sales          | 20          | 15        |  0         | \n",
    "\n",
    "\n"
   ]
  },
  {
   "cell_type": "markdown",
   "metadata": {},
   "source": [
    "__Solution:__ We formulate the problem as follows:\n",
    "\n",
    "- __Defining decision variables:__\n",
    "\n",
    "$p$, number of units of product $P$ to produce,<br>\n",
    "$q$, number of units of product $Q$ to produce,<br>\n",
    "$r$, number of units of product $R$ to produce,<br>\n",
    "\n",
    "- __choosing an objective function:__ our objective is to maximize profit:\n",
    "\n",
    "$Profit = (90-45)p + (100-40)q + (70-20r – 6000) = 45p + 60q + 50r – 6000$\n",
    "\n",
    "- __indentifying the constrains:__ the amount of time a machine is available and the maximum sales posible restrict the quantities to be manufactured. Using the unit processing times for each machine, the linear constraints can be written as:\n",
    "\n",
    "$20p + 10q + 10r \\leq 2400$   (Machine A)<br>\n",
    "$12p + 28q + 16r \\leq 2400$   (Machine A)<br>\n",
    "$15p +  6q + 16r \\leq 2400$   (Machine A)<br>\n",
    "$10p + 15q +  0r \\leq 2400$   (Machine A)<br>\n",
    "\n",
    "Market limitations can be written as upper bounds:<br>\n",
    "$p \\leq 100$<br>\n",
    "$q \\leq 40$<br>\n",
    "$r \\leq 60$<br>\n",
    "\n",
    "Number of products to produce can not be negative:<br>\n",
    "$p \\geq 0$<br>\n",
    "$q \\geq 0$<br>\n",
    "$r \\geq 0$<br>"
   ]
  },
  {
   "cell_type": "code",
   "execution_count": 39,
   "metadata": {},
   "outputs": [
    {
     "name": "stdout",
     "output_type": "stream",
     "text": [
      "Optimal\n",
      "Production of product p =  81.818182\n",
      "Production of product q =  16.363636\n",
      "Production of product r =  60.0\n",
      "Maximum Profit =  1663.63635\n"
     ]
    }
   ],
   "source": [
    "# Instantiate our problem class\n",
    "model2 = pulp.LpProblem(\"Manufacturing problem\", pulp.LpMaximize)\n",
    "\n",
    "# create the decision variables\n",
    "p = pulp.LpVariable('p', lowBound=0, cat='Continuous')\n",
    "q = pulp.LpVariable('q', lowBound=0, cat='Continuous')\n",
    "r = pulp.LpVariable('r', lowBound=0, cat='Continuous')\n",
    "\n",
    "# Input objective function\n",
    "model2 += 45*p + 60*q + 50*r-6000, \"Profit\"\n",
    "\n",
    "# Input constraints\n",
    "model2 += 20*p + 10*q + 10*r <= 2400\n",
    "model2 += 12*p + 28*q + 16*r <= 2400\n",
    "model2 += 15*p +  6*q + 16*r <= 2400\n",
    "model2 += 10*p + 15*q +  0*r <= 2400\n",
    "model2 += p <= 100\n",
    "model2 += q <= 40\n",
    "model2 += r <= 60\n",
    "\n",
    "# Solve our problem\n",
    "model2.solve()\n",
    "\n",
    "# check status of solution\n",
    "print pulp.LpStatus[model2.status]\n",
    "\n",
    "# Print our decision variable values\n",
    "print \"Production of product p = \", p.varValue\n",
    "print \"Production of product q = \", q.varValue\n",
    "print \"Production of product r = \", r.varValue\n",
    "\n",
    "# Print our objective function value\n",
    "print \"Maximum Profit = \", pulp.value(model2.objective)"
   ]
  },
  {
   "cell_type": "markdown",
   "metadata": {},
   "source": [
    "__2.__ A post office requires different numbers of full- time employees on different days of the week. Each full-time employee must work five consecutive days and then receive two days off.\n",
    "In the following table, the number of employees required on each day of the week is specified.\n",
    "\n",
    "| Day                | Number of full-time Employees Required   | \n",
    "| -------------------| ---------------------------------------- | \n",
    "| 1=Monday           | 17                                       | \n",
    "| 2=Tuesday          | 13                                       |\n",
    "| 3=Wednesday        | 15                                       | \n",
    "| 4=Thursday         | 19                                       | \n",
    "| 5=Friday           | 14                                       |\n",
    "| 6=Saturday         | 16                                       | \n",
    "| 7=Sunday           | 11                                       | \n"
   ]
  },
  {
   "cell_type": "markdown",
   "metadata": {},
   "source": [
    "# References\n",
    "1. Pulp documentation, https://pythonhosted.org/PuLP/\n",
    "2. Pulp, LPVariable, https://www.coin-or.org/PuLP/pulp.html#pulp.LpVariable"
   ]
  },
  {
   "cell_type": "markdown",
   "metadata": {},
   "source": [
    "_Last updated on 10.4.18 12:20am<br>\n",
    "(C) 2018 Complex Adaptive Systems Laboratory all rights reserved._"
   ]
  }
 ],
 "metadata": {
  "kernelspec": {
   "display_name": "Python 2",
   "language": "python",
   "name": "python2"
  },
  "language_info": {
   "codemirror_mode": {
    "name": "ipython",
    "version": 2
   },
   "file_extension": ".py",
   "mimetype": "text/x-python",
   "name": "python",
   "nbconvert_exporter": "python",
   "pygments_lexer": "ipython2",
   "version": "2.7.15"
  }
 },
 "nbformat": 4,
 "nbformat_minor": 2
}
