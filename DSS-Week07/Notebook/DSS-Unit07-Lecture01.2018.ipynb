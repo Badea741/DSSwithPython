{
 "cells": [
  {
   "cell_type": "markdown",
   "metadata": {},
   "source": [
    "# Unit 7 Lecture 1 - Linear Programming\n",
    "\n",
    "ESI4628: Decision Support Systems for Industrial Engineers<br>\n",
    "University of Central Florida\n",
    "Dr. Ivan Garibay, Ramya Akula, Mostafa Saeidi, Madeline Schiappa, and Brett Belcher. \n",
    "https://github.com/igaribay/DSSwithPython/blob/master/DSS-Week07/Notebook/DSS-Unit07-Lecture01.2018.ipynb"
   ]
  },
  {
   "cell_type": "markdown",
   "metadata": {},
   "source": [
    "## Notebook Learning Objectives\n",
    "After studying this notebook students should be able to:\n",
    "- Visualize a linear relationships using <code>.fill_between()</code>\n",
    "- Solve a linear programming problem using <code>Pulp</code>\n",
    "- Solve a linear programming problem using <code>linprog</code> from <code>scipy.optimize </code>"
   ]
  },
  {
   "cell_type": "markdown",
   "metadata": {},
   "source": [
    "# Overview"
   ]
  },
  {
   "cell_type": "markdown",
   "metadata": {},
   "source": [
    "Linear programming is a method to achieve the best outcome in a mathematical model whose requirements are represented by linear relationships. More formally, linear programming is a technique for the optimization of a linear objective function, subject to linear equality and linear inequality constraints. Its feasible region is a convex polytope, which is a set defined as the intersection of finitely many half spaces, each of which is defined by a linear inequality. Its objective function is a real-valued affine (linear) function defined on this polyhedron. A linear programming algorithm finds a point in the polyhedron where this function has the smallest (or largest) value if such a point exists.\n",
    "\n",
    "Linear programs are problems that can be expressed in canonical form as\n",
    "\n",
    "Minimize:     \n",
    "\n",
    "$ c^T x$\n",
    "\n",
    "Subject to:   \n",
    "\n",
    "$ A x <= b $(upper_bound) <br>\n",
    "$ A x == b $(equality)\n",
    "              \n",
    "\n"
   ]
  },
  {
   "cell_type": "markdown",
   "metadata": {},
   "source": [
    "## Solving Linear Programming problem in Python\n",
    "\n",
    "PuLP is a free open source software written in Python. It is used to describe optimisation problems as mathematical models."
   ]
  },
  {
   "cell_type": "markdown",
   "metadata": {},
   "source": [
    "Let’s start with a simple example:\n",
    "\n",
    "We want to find the maximum solution to: $Z = 4x+3y$\n",
    "\n",
    "\n",
    "This is known as our objective function. x and y in this equation are our decision variables.\n",
    "\n",
    "In this example, the objective function is subject to the following constraints:\n",
    "* $x ≥ 0$\n",
    "* $y ≥ 2$\n",
    "* $2y ≤ 25–x$\n",
    "* $4y ≥ 2x–8$\n",
    "* $y ≤ 2x−5$\n",
    "\n",
    "Let us begin by graphing this, but first lets introduce the plotting function <code>.fill_between()</code>"
   ]
  },
  {
   "cell_type": "markdown",
   "metadata": {},
   "source": [
    "# Plotting a linear optimization problem using  <code>.fill_between(x,y1,y2,where)</code>\n",
    "- Fill the area between two horizontal curves\n",
    "- Parameters:\n",
    "- x : array (length N). The x coordinates of the nodes defining the curves.\n",
    "\n",
    "- y1 : array (length N) or scalar. The y coordinates of the nodes defining the first curve.\n",
    "\n",
    "- y2 : array (length N) or scalar, optional, default: 0. The y coordinates of the nodes defining the second curve.\n",
    "\n",
    "- where : array of bool (length N), optional, default: None\n",
    "Define where to exclude some horizontal regions from being filled. The filled regions are defined by the coordinates x[where]. More precisely, fill between x[i] and x[i+1] if where[i] and where[i+1]. Note that this definition implies that an isolated True value between two False values in where will not result in filling. Both sides of the True position remain unfilled due to the adjacent False values."
   ]
  },
  {
   "cell_type": "code",
   "execution_count": 73,
   "metadata": {},
   "outputs": [
    {
     "data": {
      "text/plain": [
       "<matplotlib.legend.Legend at 0x1017f77290>"
      ]
     },
     "execution_count": 73,
     "metadata": {},
     "output_type": "execute_result"
    },
    {
     "data": {
      "image/png": "[encoded data removed]",
      "text/plain": [
       "<Figure size 432x288 with 1 Axes>"
      ]
     },
     "metadata": {},
     "output_type": "display_data"
    }
   ],
   "source": [
    "import numpy as np\n",
    "import matplotlib.pyplot as plt\n",
    "import pulp\n",
    "from scipy.optimize import linprog\n",
    "\n",
    "# Construct lines\n",
    "# x > 0\n",
    "x = np.linspace(0, 20, 2000) # start=0, stop=20, samples=2,000\n",
    "# y >= 2\n",
    "y1 = (x*0) + 2\n",
    "# 2y <= 25 - x\n",
    "y2 = (25-x)/2.0\n",
    "# 4y >= 2x - 8 \n",
    "y3 = (2*x-8)/4.0\n",
    "# y <= 2x - 5 \n",
    "y4 = 2 * x -5\n",
    "\n",
    "# Make plot\n",
    "plt.plot(x, y1, label=r'$y\\geq2$') #for label in math text use\n",
    "plt.plot(x, y2, label=r'$2y\\leq25-x$') # r'$ $'\n",
    "plt.plot(x, y3, label=r'$4y\\geq 2x - 8$')\n",
    "plt.plot(x, y4, label=r'$y\\leq 2x-5$')\n",
    "plt.xlim((0, 16)) #limits for plot x-axis, left=0, right=16\n",
    "plt.ylim((0, 11)) #limits for plot y-axis, left=0, right=11\n",
    "plt.xlabel(r'$x$')\n",
    "plt.ylabel(r'$y$')\n",
    "\n",
    "# Fill feasible region \n",
    "# minimum of\n",
    "# y <= (25 - x)/2\n",
    "# y <= 2x - 5 \n",
    "y5 = np.minimum(y2, y4) #Compare two arrays and returns a new \n",
    "                    #array containing the element-wise minima\n",
    "# maximum of\n",
    "# y >= 2\n",
    "# y >= (2x - 8)/4\n",
    "y6 = np.maximum(y1, y3) #Same as above, but return maxima\n",
    "\n",
    "plt.fill_between(x, y5, y6, where=y5>y6, color='grey', alpha=0.5)\n",
    "plt.legend(bbox_to_anchor=(1.0, 1.0) ,loc='upper right' )"
   ]
  },
  {
   "cell_type": "markdown",
   "metadata": {},
   "source": [
    "# Solve the example problem using PuLP in Python."
   ]
  },
  {
   "cell_type": "markdown",
   "metadata": {},
   "source": [
    "## Step 1: create linear optimization problem \n",
    "The first step is to crete a variable for our problem. In our case we are using <code>my_lp_problem</code>, but the name could be anything. We create this variable using <code>pulp.LpProblem()</code>. This function takes two arguments. The first is the name of our problem, <code>\"My LP Problem\"</code> in our example below. The second one can take the values <code>pulp.LpMaximize</code> or <code>pulp.LpMinimize</code> depending if our optimization problem is a maximiation or a minimization problem."
   ]
  },
  {
   "cell_type": "code",
   "execution_count": 106,
   "metadata": {},
   "outputs": [],
   "source": [
    "# Create the 'prob' variable to contain the problem data\n",
    "my_lp_problem = pulp.LpProblem(\"My LP Problem\", pulp.LpMaximize)"
   ]
  },
  {
   "cell_type": "markdown",
   "metadata": {},
   "source": [
    "## Step 2: setting the decision variables\n",
    "Optimization problems have variables that we would like to optimize, to find their values that either maximize or minimize the objective function. These are called the _decision variables_. The optimal values of these decision variables are the output of a Pulp optimization. To define these variables we use <code>pulp.LpVariable()</code>. This function takes four arguments. The first one is the name of the decision variabled, i.e., <code>'x'</code>. The second and third ones determine the lower bound and upper bounds for the optimization (the lowest and highest posible values for this variable that we will considered while optimizing), i.e.,  <code>lowBound=0, upBound=None</code> (explore from 0 to positive infinity). Finally, the third argument determines if the variable is going to take continuous values or discrete values using <code>Continuous</code> or <code>Integer</code> respectively, i.e., <code>cat='Continuous'</code>."
   ]
  },
  {
   "cell_type": "code",
   "execution_count": 107,
   "metadata": {},
   "outputs": [],
   "source": [
    "x = pulp.LpVariable('x', lowBound=0, upBound=None, cat='Continuous')\n",
    "y = pulp.LpVariable('y', lowBound=2, upBound=None, cat='Continuous')"
   ]
  },
  {
   "cell_type": "markdown",
   "metadata": {},
   "source": [
    "## Step 3: Input objective function and constrains\n",
    "\n",
    "Now we start inputing information to our problem. The first function to input is the objective function, the function we are maximizing or minimizing. We use the operator <code>+=</code> to do this. The line of code we use to input the objective function should end with <code>, \"Name of objective function\"</code> to indicate that is the objective function and provide a name for it.\n"
   ]
  },
  {
   "cell_type": "code",
   "execution_count": 108,
   "metadata": {},
   "outputs": [],
   "source": [
    "# Objective function, first one to input, put lable at end \"Z\"\n",
    "my_lp_problem += 4 * x + 3 * y, \"Z\""
   ]
  },
  {
   "cell_type": "markdown",
   "metadata": {},
   "source": [
    "Next, we input all the _constrains_ we may have in our optimization problem. We use <code>+=</code> as above follow by a relationship. Usually we use the following relationship operators: <code>==, <, >, >=, <= </code> as shown below:"
   ]
  },
  {
   "cell_type": "code",
   "execution_count": 109,
   "metadata": {},
   "outputs": [],
   "source": [
    "# Constraints\n",
    "#my_lp_problem += y >= 2 # no needed since enter in variable as lowBound\n",
    "my_lp_problem += 2 * y <= 25 - x\n",
    "my_lp_problem += 4 * y >= 2 * x - 8\n",
    "my_lp_problem += y <= 2 * x - 5\n",
    "#my_lp_problem += y == 0 # this would make in \"infeasible\""
   ]
  },
  {
   "cell_type": "markdown",
   "metadata": {},
   "source": [
    "## Step 4: Solve our optimization using  <code>.solve</code>\n",
    "Once we have setup our problem, input our objective function and input our constrains, finding the solution of our problem requires a single line of code:"
   ]
  },
  {
   "cell_type": "code",
   "execution_count": 110,
   "metadata": {},
   "outputs": [
    {
     "data": {
      "text/plain": [
       "1"
      ]
     },
     "execution_count": 110,
     "metadata": {},
     "output_type": "execute_result"
    }
   ],
   "source": [
    "my_lp_problem.solve()"
   ]
  },
  {
   "cell_type": "markdown",
   "metadata": {},
   "source": [
    "Of course, behind the scenes, Pulp and Python are executing numerical optimization algorithms to find a solution. PuLP choses the solver to use. We can determine what solver PuPL should use by providing an argument: <code>my_lp_problem.solve(CPLEX())</code>. We can see what solvers are available in our installation using <code>pulp.pulpTestAll()</code>."
   ]
  },
  {
   "cell_type": "markdown",
   "metadata": {},
   "source": [
    "## Step 5: Display Solution\n",
    "\n",
    "Now we can display the results from the solver as our output. First we ask the solver for he status of the solution. Possible status are:\n",
    "- Not Solved\n",
    "- Infeasible\n",
    "- Unbounded\n",
    "- Undefined\n",
    "- Optimal"
   ]
  },
  {
   "cell_type": "code",
   "execution_count": 111,
   "metadata": {},
   "outputs": [
    {
     "name": "stdout",
     "output_type": "stream",
     "text": [
      "('Status:', 'Optimal')\n"
     ]
    }
   ],
   "source": [
    "print(\"Status:\", pulp.LpStatus[my_lp_problem.status])"
   ]
  },
  {
   "cell_type": "markdown",
   "metadata": {},
   "source": [
    "Now, we can print the variables and the solved optimum values. We use a for look to print all defined variables at <code>my_lp_problem.variables()</code>"
   ]
  },
  {
   "cell_type": "code",
   "execution_count": 112,
   "metadata": {},
   "outputs": [
    {
     "name": "stdout",
     "output_type": "stream",
     "text": [
      "x = 14.5\n",
      "y = 5.25\n"
     ]
    }
   ],
   "source": [
    "for variable in my_lp_problem.variables():\n",
    "    print(\"{} = {}\".format(variable.name, variable.varValue))"
   ]
  },
  {
   "cell_type": "markdown",
   "metadata": {},
   "source": [
    "# Profit Maximization Example\n",
    "\n",
    "Lets assume that a company produces two car models, A and B. Each of these cars produce a profir of 30,000 and 45,000 respectively. We want to maximaze profit described by the following equation (our objective function):\n",
    "\n",
    "$profit model = 30,000 A + 45,000 B$\n",
    "\n",
    "witht the following constraints:\n",
    "\n",
    "$3A + 4B <= 30000$ <br>\n",
    "$5A + 6B <= 60000$ <br>\n",
    "$1.5A + 3B <= 21000$ <br>\n",
    "\n",
    "We simply follow the steps described above to solve this LP:"
   ]
  },
  {
   "cell_type": "code",
   "execution_count": 119,
   "metadata": {},
   "outputs": [
    {
     "name": "stdout",
     "output_type": "stream",
     "text": [
      "Optimal\n",
      "Production of Car A = 2000.0\n",
      "Production of Car B = 6000.0\n",
      "330000000.0\n"
     ]
    }
   ],
   "source": [
    "# Instantiate our problem class\n",
    "model = pulp.LpProblem(\"Profit maximising problem\", pulp.LpMaximize)\n",
    "\n",
    "# create the decision variables\n",
    "A = pulp.LpVariable('A', lowBound=0, cat='Integer')\n",
    "B = pulp.LpVariable('B', lowBound=0, cat='Integer')\n",
    "\n",
    "# Input objective function\n",
    "model += 30000 * A + 45000 * B, \"Profit\"\n",
    "\n",
    "# Input constraints\n",
    "model += 3 * A + 4 * B <= 30000\n",
    "model += 5 * A + 6 * B <= 60000\n",
    "model += 1.5 * A + 3 * B <= 21000\n",
    "\n",
    "# Solve our problem\n",
    "model.solve()\n",
    "\n",
    "# check status of solution\n",
    "print pulp.LpStatus[model.status]\n",
    "\n",
    "# Print our decision variable values\n",
    "print(\"Production of Car A = {}\".format(A.varValue))\n",
    "print(\"Production of Car B = {}\".format(B.varValue))\n",
    "\n",
    "# Print our objective function value\n",
    "print(pulp.value(model.objective))"
   ]
  },
  {
   "cell_type": "markdown",
   "metadata": {},
   "source": [
    "# Scipy support for Linear Programming"
   ]
  },
  {
   "cell_type": "markdown",
   "metadata": {},
   "source": [
    "Linear Programming is intended to solve the following problem form:\n",
    "\n",
    "Minimize:     \n",
    "\n",
    "* c<sup>T</sup> * x\n",
    "\n",
    "Subject to:   \n",
    "\n",
    "* A_ub * x <= b_ub <br>\n",
    "* A_eq * x == b_eq\n",
    "              \n",
    "Where,\n",
    "              \n",
    "c : array_like\n",
    "Coefficients of the linear objective function to be minimized.\n",
    "\n",
    "A_ub : array_like, optional\n",
    "2-D array which, when matrix-multiplied by x, gives the values of the upper-bound inequality constraints at x.\n",
    "\n",
    "b_ub : array_like, optional\n",
    "1-D array of values representing the upper-bound of each inequality constraint (row) in A_ub.\n",
    "\n",
    "A_eq : array_like, optional\n",
    "2-D array which, when matrix-multiplied by x, gives the values of the equality constraints at x.\n",
    "\n",
    "b_eq : array_like, optional\n",
    "1-D array of values representing the RHS of each equality constraint (row) in A_eq."
   ]
  },
  {
   "cell_type": "markdown",
   "metadata": {},
   "source": [
    "## Example :\n",
    "\n",
    "\n",
    "Minimize: \n",
    "\n",
    "* f = -1*x + 4*y\n",
    "\n",
    "Subject to: \n",
    "* -3*x + 1*y <= 6\n",
    "* 1*x + 2*y <= 4\n",
    "* y >= -3\n",
    "where: -inf <= x <= inf"
   ]
  },
  {
   "cell_type": "code",
   "execution_count": 46,
   "metadata": {},
   "outputs": [
    {
     "name": "stdout",
     "output_type": "stream",
     "text": [
      "Optimization terminated successfully.\n",
      "         Current function value: -22.000000  \n",
      "         Iterations: 1\n",
      "     fun: -22.0\n",
      " message: 'Optimization terminated successfully.'\n",
      "     nit: 1\n",
      "   slack: array([39.,  0.])\n",
      "  status: 0\n",
      " success: True\n",
      "       x: array([10., -3.])\n"
     ]
    }
   ],
   "source": [
    "c = [-1, 4]\n",
    "A = [[-3, 1], [1, 2]]\n",
    "b = [6, 4]\n",
    "x_bounds = (None, None)\n",
    "y_bounds = (-3, None)\n",
    "#from scipy.optimize import linprog\n",
    "res = linprog(c, A_ub=A, b_ub=b, bounds=(x_bounds, y_bounds), options={\"disp\": True})\n",
    "print(res)"
   ]
  },
  {
   "cell_type": "markdown",
   "metadata": {},
   "source": [
    "# References\n",
    "1. Pulp, LPVariable, https://www.coin-or.org/PuLP/pulp.html#pulp.LpVariable"
   ]
  },
  {
   "cell_type": "code",
   "execution_count": null,
   "metadata": {},
   "outputs": [],
   "source": []
  }
 ],
 "metadata": {
  "kernelspec": {
   "display_name": "Python 2",
   "language": "python",
   "name": "python2"
  },
  "language_info": {
   "codemirror_mode": {
    "name": "ipython",
    "version": 2
   },
   "file_extension": ".py",
   "mimetype": "text/x-python",
   "name": "python",
   "nbconvert_exporter": "python",
   "pygments_lexer": "ipython2",
   "version": "2.7.15"
  }
 },
 "nbformat": 4,
 "nbformat_minor": 2
}
