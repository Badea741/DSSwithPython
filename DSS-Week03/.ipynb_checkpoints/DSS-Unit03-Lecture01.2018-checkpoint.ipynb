{
 "cells": [
  {
   "cell_type": "markdown",
   "metadata": {},
   "source": [
    "# NumPy is a library of prewritten mathematical functions"
   ]
  },
  {
   "cell_type": "markdown",
   "metadata": {},
   "source": [
    "- Extremely useful for doing anything from simple to complex mathematics operations\n",
    "- NumPy gives a useful API for data manipulation through its matrix operations\n",
    "- It is conventional to import NumPy as \"np\""
   ]
  },
  {
   "cell_type": "code",
   "execution_count": 1,
   "metadata": {},
   "outputs": [],
   "source": [
    "import numpy as np"
   ]
  },
  {
   "cell_type": "markdown",
   "metadata": {},
   "source": [
    "# Intro to arrays, attributes, and functions"
   ]
  },
  {
   "cell_type": "markdown",
   "metadata": {},
   "source": [
    "First let us create a normal list and convert it to a NumPy array"
   ]
  },
  {
   "cell_type": "code",
   "execution_count": 2,
   "metadata": {},
   "outputs": [
    {
     "name": "stdout",
     "output_type": "stream",
     "text": [
      "[[1 2 3 4 5]]\n"
     ]
    }
   ],
   "source": [
    "list = [1, 2, 3, 4, 5]\n",
    "array = np.array([list])\n",
    "print(array)"
   ]
  },
  {
   "cell_type": "markdown",
   "metadata": {},
   "source": [
    "Now the ```array``` variable has all the functionality of NumPy! Let's make a second list so we can start seeing some of NumPy's built in operations"
   ]
  },
  {
   "cell_type": "code",
   "execution_count": 3,
   "metadata": {},
   "outputs": [
    {
     "name": "stdout",
     "output_type": "stream",
     "text": [
      "[[ 6  7  8  9 10]]\n"
     ]
    }
   ],
   "source": [
    "list2 = [6, 7, 8, 9, 10]\n",
    "array2 = np.array([list2])\n",
    "print(array2)"
   ]
  },
  {
   "cell_type": "markdown",
   "metadata": {},
   "source": [
    "Now with two arrays, we can use them to perform mathematical operations"
   ]
  },
  {
   "cell_type": "code",
   "execution_count": 4,
   "metadata": {},
   "outputs": [],
   "source": [
    "add = np.add(array, array2) # Performs elementwise adding\n",
    "sub = np.subtract(array, array2) # Performs elementwise subtraction\n",
    "# mult = np.matmul(array, array2) # Performs matrix multiplication\n",
    "div = np.divide(array, array2) # Performs elementwise division"
   ]
  },
  {
   "cell_type": "markdown",
   "metadata": {},
   "source": [
    "Can anyone spot the problem in the code above?\n",
    "\n",
    "NumPy arrays have great attributes such as ```ndim```, ```shape```, ```size```, and ```dtype```.\n",
    "\n",
    "```ndim```: The number of dimensions\n",
    "\n",
    "```shape```: The size of each dimension presented as a tuple\n",
    "\n",
    "```size```: The total size of the array\n",
    "\n",
    "```dtype```: The data type of the array\n",
    "\n",
    "Using these attributes, we can find the problem."
   ]
  },
  {
   "cell_type": "code",
   "execution_count": 5,
   "metadata": {},
   "outputs": [
    {
     "name": "stdout",
     "output_type": "stream",
     "text": [
      "('array has', 2, 'dimensions')\n",
      "('array has the shape', (1L, 5L))\n",
      "('array is of size', 5)\n",
      "('array is of type', dtype('int32'))\n",
      "()\n",
      "('array2 has', 2, 'dimensions')\n",
      "('array2 has the shape', (1L, 5L))\n",
      "('array2 is of size', 5)\n",
      "('array2 is of type', dtype('int32'))\n"
     ]
    }
   ],
   "source": [
    "print(\"array has\", array.ndim, \"dimensions\")\n",
    "print(\"array has the shape\", array.shape)\n",
    "print(\"array is of size\", array.size)\n",
    "print(\"array is of type\", array.dtype)\n",
    "print()\n",
    "print(\"array2 has\", array2.ndim, \"dimensions\")\n",
    "print(\"array2 has the shape\", array2.shape)\n",
    "print(\"array2 is of size\", array2.size)\n",
    "print(\"array2 is of type\", array2.dtype)"
   ]
  },
  {
   "cell_type": "markdown",
   "metadata": {},
   "source": [
    "The problem is because ```array``` and ```array2``` are both of shape ```1 x 5``` meaning they cannot be multiplied together. A matrix of shape ```1 x 5``` can only be multiplied by a matrix of shape ```5 x k``` which would produce a matrix of shape ```1 x k```\n",
    "\n",
    "Let's perform a simple transformation to allow the matrix multiplication to work! First let's comment out the bugged line earlier."
   ]
  },
  {
   "cell_type": "code",
   "execution_count": 6,
   "metadata": {},
   "outputs": [],
   "source": [
    "array2_transformed = array2.transpose()"
   ]
  },
  {
   "cell_type": "markdown",
   "metadata": {},
   "source": [
    "We can check this new array's ```shape```"
   ]
  },
  {
   "cell_type": "code",
   "execution_count": 7,
   "metadata": {},
   "outputs": [
    {
     "name": "stdout",
     "output_type": "stream",
     "text": [
      "(5L, 1L)\n"
     ]
    }
   ],
   "source": [
    "print(array2_transformed.shape)"
   ]
  },
  {
   "cell_type": "markdown",
   "metadata": {},
   "source": [
    "Now we can perform our matrix multiplication! Since the multiplication is ```(1 x 5) x (5 x 1)```, this should result in an array of size ```1 x 1```"
   ]
  },
  {
   "cell_type": "code",
   "execution_count": 8,
   "metadata": {},
   "outputs": [
    {
     "name": "stdout",
     "output_type": "stream",
     "text": [
      "(1L, 1L)\n"
     ]
    }
   ],
   "source": [
    "mult = np.matmul(array, array2_transformed)\n",
    "print(mult.shape)"
   ]
  },
  {
   "cell_type": "code",
   "execution_count": 9,
   "metadata": {},
   "outputs": [
    {
     "name": "stdout",
     "output_type": "stream",
     "text": [
      "[[ 7  9 11 13 15]]\n",
      "[[-5 -5 -5 -5 -5]]\n",
      "[[130]]\n",
      "[[0 0 0 0 0]]\n"
     ]
    }
   ],
   "source": [
    "print(add)\n",
    "print(sub)\n",
    "print(mult)\n",
    "print(div)"
   ]
  },
  {
   "cell_type": "markdown",
   "metadata": {},
   "source": [
    "# Manipulating Arrays"
   ]
  },
  {
   "cell_type": "markdown",
   "metadata": {},
   "source": [
    "Now that we have a basic overview of NumPy arrays, we can work to manipulate them"
   ]
  },
  {
   "cell_type": "markdown",
   "metadata": {},
   "source": [
    "First let me introduce a new function for instantiating arrays similar to the arrays we had before called ```arange()```"
   ]
  },
  {
   "cell_type": "code",
   "execution_count": 10,
   "metadata": {},
   "outputs": [
    {
     "name": "stdout",
     "output_type": "stream",
     "text": [
      "[ 0  1  2  3  4  5  6  7  8  9 10 11]\n"
     ]
    }
   ],
   "source": [
    "x1 = np.arange(12)\n",
    "print(x1)"
   ]
  },
  {
   "cell_type": "markdown",
   "metadata": {},
   "source": [
    "## Indexing Arrays"
   ]
  },
  {
   "cell_type": "markdown",
   "metadata": {},
   "source": [
    "We can index arrays similar to in other programming language. \n",
    "\n",
    "__Note__: Remember that array indexing starts at index 0"
   ]
  },
  {
   "cell_type": "code",
   "execution_count": 11,
   "metadata": {},
   "outputs": [
    {
     "name": "stdout",
     "output_type": "stream",
     "text": [
      "0\n",
      "4\n",
      "11\n"
     ]
    }
   ],
   "source": [
    "print(x1[0])\n",
    "print(x1[4])\n",
    "print(x1[11])"
   ]
  },
  {
   "cell_type": "markdown",
   "metadata": {},
   "source": [
    "Python also allows for indexing backwards by using negative indicies. So we can access the last element of an array with index ```-1```"
   ]
  },
  {
   "cell_type": "code",
   "execution_count": 12,
   "metadata": {},
   "outputs": [
    {
     "name": "stdout",
     "output_type": "stream",
     "text": [
      "11\n"
     ]
    }
   ],
   "source": [
    "print(x1[-1])"
   ]
  },
  {
   "cell_type": "markdown",
   "metadata": {},
   "source": [
    "## Slicing Arrays: Subarrays"
   ]
  },
  {
   "cell_type": "markdown",
   "metadata": {},
   "source": [
    "Accessing subarrays can be done witht he slice notation which is marked by the ```:``` character. The format is as follows:\n",
    "\n",
    "``` x[start:stop:step] ```\n",
    "\n",
    "where the default values are ```start = 0```, ```stop = size of dimension```, and ```step = 1```"
   ]
  },
  {
   "cell_type": "markdown",
   "metadata": {},
   "source": [
    "So we can access the first five elements by overwriting the default of ```stop```"
   ]
  },
  {
   "cell_type": "code",
   "execution_count": 13,
   "metadata": {},
   "outputs": [
    {
     "name": "stdout",
     "output_type": "stream",
     "text": [
      "[0 1 2 3 4]\n"
     ]
    }
   ],
   "source": [
    "print(x1[:5])"
   ]
  },
  {
   "cell_type": "markdown",
   "metadata": {},
   "source": [
    "We can access the middle elements by overwriting the default of ```start``` and ```stop```"
   ]
  },
  {
   "cell_type": "code",
   "execution_count": 14,
   "metadata": {},
   "outputs": [
    {
     "name": "stdout",
     "output_type": "stream",
     "text": [
      "[4 5 6]\n"
     ]
    }
   ],
   "source": [
    "print(x1[4:7])"
   ]
  },
  {
   "cell_type": "markdown",
   "metadata": {},
   "source": [
    "We can access every other element by overwriting the default of ```step```"
   ]
  },
  {
   "cell_type": "code",
   "execution_count": 15,
   "metadata": {},
   "outputs": [
    {
     "name": "stdout",
     "output_type": "stream",
     "text": [
      "[ 0  2  4  6  8 10]\n"
     ]
    }
   ],
   "source": [
    "print(x1[::2])"
   ]
  },
  {
   "cell_type": "markdown",
   "metadata": {},
   "source": [
    "__Note__: Having a negative ```step``` value is valid; however, the default of ```start``` and ```stop``` are swapped\n",
    "\n",
    "Thus we can reverse an array in the following manner"
   ]
  },
  {
   "cell_type": "code",
   "execution_count": 16,
   "metadata": {},
   "outputs": [
    {
     "name": "stdout",
     "output_type": "stream",
     "text": [
      "[11 10  9  8  7  6  5  4  3  2  1  0]\n"
     ]
    }
   ],
   "source": [
    "print(x1[::-1])"
   ]
  },
  {
   "cell_type": "markdown",
   "metadata": {},
   "source": [
    "## Array Dimensions"
   ]
  },
  {
   "cell_type": "markdown",
   "metadata": {},
   "source": [
    "It is important to note the ```shape``` of the above array"
   ]
  },
  {
   "cell_type": "code",
   "execution_count": 17,
   "metadata": {},
   "outputs": [
    {
     "name": "stdout",
     "output_type": "stream",
     "text": [
      "(12L,)\n"
     ]
    }
   ],
   "source": [
    "print(x1.shape)"
   ]
  },
  {
   "cell_type": "markdown",
   "metadata": {},
   "source": [
    "This is different than the shape we have previously seen. This is a 1-dimensional array of with 12 elements.\n",
    "\n",
    "Sometimes this is what we want, but what if we rather wanted a matrix with 1 row and 12 columns?\n",
    "\n",
    "We can use the ```reshape()``` function in this case to reshape the dimensions of the array"
   ]
  },
  {
   "cell_type": "code",
   "execution_count": 18,
   "metadata": {},
   "outputs": [
    {
     "name": "stdout",
     "output_type": "stream",
     "text": [
      "(1L, 12L)\n",
      "[[ 0  1  2  3  4  5  6  7  8  9 10 11]]\n"
     ]
    }
   ],
   "source": [
    "x1 = x1.reshape((1, 12))\n",
    "print(x1.shape)\n",
    "print(x1)"
   ]
  },
  {
   "cell_type": "markdown",
   "metadata": {},
   "source": [
    "We can also use the ```random``` package to instantiate randomly generated arrays to work with"
   ]
  },
  {
   "cell_type": "code",
   "execution_count": 19,
   "metadata": {},
   "outputs": [
    {
     "name": "stdout",
     "output_type": "stream",
     "text": [
      "[[5 0 3 3 7 9 3 5 2 4 7 6]]\n"
     ]
    }
   ],
   "source": [
    "np.random.seed(0) # The seed allows for consistent examples\n",
    "\n",
    "x1 = np.random.randint(10, size=(1, 12))\n",
    "print(x1)"
   ]
  },
  {
   "cell_type": "markdown",
   "metadata": {},
   "source": [
    "We can use the ```reshape()``` function to change ```x1``` to be of a different shape like ```3 x 4```"
   ]
  },
  {
   "cell_type": "code",
   "execution_count": 20,
   "metadata": {},
   "outputs": [
    {
     "name": "stdout",
     "output_type": "stream",
     "text": [
      "[[5 0 3 3]\n",
      " [7 9 3 5]\n",
      " [2 4 7 6]]\n"
     ]
    }
   ],
   "source": [
    "x1 = x1.reshape((3, 4))\n",
    "print(x1)"
   ]
  },
  {
   "cell_type": "markdown",
   "metadata": {},
   "source": [
    "## Indexing and Splicing with Multi-Dimensional Arrays"
   ]
  },
  {
   "cell_type": "markdown",
   "metadata": {},
   "source": [
    "It can be seen how we can extend the earlier techniques of indexing and splicing to multiple dimensions.\n",
    "\n",
    "For indexing, it is as simple as specifying the index in all of the dimensions you wish to index"
   ]
  },
  {
   "cell_type": "code",
   "execution_count": 21,
   "metadata": {},
   "outputs": [
    {
     "name": "stdout",
     "output_type": "stream",
     "text": [
      "5\n"
     ]
    }
   ],
   "source": [
    "print(x1[1][3])"
   ]
  },
  {
   "cell_type": "markdown",
   "metadata": {},
   "source": [
    "If we can use this same idea to not only access specific elements, but even rows or columns of our array"
   ]
  },
  {
   "cell_type": "code",
   "execution_count": 22,
   "metadata": {},
   "outputs": [
    {
     "name": "stdout",
     "output_type": "stream",
     "text": [
      "[7 9 3 5]\n"
     ]
    }
   ],
   "source": [
    "print(x1[1])\n",
    "# An equivalent line of code using the splicing notation is\n",
    "# print(x1[1][:])"
   ]
  },
  {
   "cell_type": "markdown",
   "metadata": {},
   "source": [
    "We can use splicing notation along with the indexing notation to do things like get subarrays from multi-dimensional arrays"
   ]
  },
  {
   "cell_type": "code",
   "execution_count": 23,
   "metadata": {},
   "outputs": [
    {
     "name": "stdout",
     "output_type": "stream",
     "text": [
      "[3 5]\n"
     ]
    }
   ],
   "source": [
    "print(x1[1][2:4])"
   ]
  },
  {
   "cell_type": "markdown",
   "metadata": {},
   "source": [
    "## Subarrays are views and not copies"
   ]
  },
  {
   "cell_type": "markdown",
   "metadata": {},
   "source": [
    "It is best to know early on that when you slice arrays you are not getting back a copy of that subarray, but simply a view of that subarray.\n",
    "\n",
    "Thus, any changes made to the view affect the original array as you will see below. First let's print our array"
   ]
  },
  {
   "cell_type": "code",
   "execution_count": 24,
   "metadata": {},
   "outputs": [
    {
     "name": "stdout",
     "output_type": "stream",
     "text": [
      "[[5 0 3 3]\n",
      " [7 9 3 5]\n",
      " [2 4 7 6]]\n"
     ]
    }
   ],
   "source": [
    "print(x1)"
   ]
  },
  {
   "cell_type": "markdown",
   "metadata": {},
   "source": [
    "Now let's print a subarray of ```x1``` that we will define as ```x1_subarray```"
   ]
  },
  {
   "cell_type": "code",
   "execution_count": 25,
   "metadata": {},
   "outputs": [
    {
     "name": "stdout",
     "output_type": "stream",
     "text": [
      "[4 7 6]\n"
     ]
    }
   ],
   "source": [
    "x1_subarray = x1[2][1:]\n",
    "print(x1_subarray)"
   ]
  },
  {
   "cell_type": "markdown",
   "metadata": {},
   "source": [
    "Now let's make a change to ```x1_subarray``` and see how it affects ```x1```"
   ]
  },
  {
   "cell_type": "code",
   "execution_count": 26,
   "metadata": {},
   "outputs": [
    {
     "name": "stdout",
     "output_type": "stream",
     "text": [
      "[-1  7  6]\n",
      "[[ 5  0  3  3]\n",
      " [ 7  9  3  5]\n",
      " [ 2 -1  7  6]]\n"
     ]
    }
   ],
   "source": [
    "x1_subarray[0] = -1\n",
    "print(x1_subarray)\n",
    "print(x1)"
   ]
  },
  {
   "cell_type": "markdown",
   "metadata": {},
   "source": [
    "While this may seem unuseful it actually is a great feature when working with big data. If we have a large quantity of data, then we can use this to access and process smaller chuncks of our large dataset.\n",
    "\n",
    "For now though, it would be best to know how to make actual copies of an array. We can do this using the ```copy()``` function"
   ]
  },
  {
   "cell_type": "code",
   "execution_count": 27,
   "metadata": {},
   "outputs": [
    {
     "name": "stdout",
     "output_type": "stream",
     "text": [
      "[-1  7  6]\n"
     ]
    }
   ],
   "source": [
    "x1_subarray_copy = x1[2][1:].copy()\n",
    "print(x1_subarray_copy)"
   ]
  },
  {
   "cell_type": "code",
   "execution_count": 28,
   "metadata": {},
   "outputs": [
    {
     "name": "stdout",
     "output_type": "stream",
     "text": [
      "[100   7   6]\n"
     ]
    }
   ],
   "source": [
    "x1_subarray_copy[0] = 100\n",
    "print(x1_subarray_copy)"
   ]
  },
  {
   "cell_type": "markdown",
   "metadata": {},
   "source": [
    "Now let's see how making this change to the copy of the subarray didn't change the original ```x1``` at all."
   ]
  },
  {
   "cell_type": "code",
   "execution_count": 29,
   "metadata": {},
   "outputs": [
    {
     "name": "stdout",
     "output_type": "stream",
     "text": [
      "[[ 5  0  3  3]\n",
      " [ 7  9  3  5]\n",
      " [ 2 -1  7  6]]\n"
     ]
    }
   ],
   "source": [
    "print(x1)"
   ]
  },
  {
   "cell_type": "code",
   "execution_count": null,
   "metadata": {},
   "outputs": [],
   "source": []
  }
 ],
 "metadata": {
  "kernelspec": {
   "display_name": "Python 2",
   "language": "python",
   "name": "python2"
  },
  "language_info": {
   "codemirror_mode": {
    "name": "ipython",
    "version": 2
   },
   "file_extension": ".py",
   "mimetype": "text/x-python",
   "name": "python",
   "nbconvert_exporter": "python",
   "pygments_lexer": "ipython2",
   "version": "2.7.15"
  }
 },
 "nbformat": 4,
 "nbformat_minor": 2
}
