{
 "cells": [
  {
   "cell_type": "markdown",
   "metadata": {},
   "source": [
    "# Unit 1 Lecture 2A -  Data Structures in Python\n",
    "\n",
    "ESI4628: Decision Support Systems for Industrial Engineers<br>\n",
    "University of Central Florida\n",
    "Dr. Ivan Garibay, Ramya Akula, Mostafa Saeidi, Madeline Schiappa, and Brett Belcher. \n",
    "https://github.com/igaribay/DSSwithPython/blob/master/DSS-Week01/Notebook/DSS-Unit01-Lecture02A.2018.ipynb\n"
   ]
  },
  {
   "cell_type": "markdown",
   "metadata": {},
   "source": [
    "# Notebook Learning Objectives\n",
    "After studying this notebook students should be able to:\n",
    "- Undestand, use and manipulate primitive data structures: Integers, Floats, Strings, Boolean\n",
    "- Basic understanding of the use of arrays and lists\n",
    "\n"
   ]
  },
  {
   "cell_type": "markdown",
   "metadata": {},
   "source": [
    "# Computer Programming\n",
    "It is simply to tell computers what to do using simple but precise instructions. A programming language (like Python) is the set of all primitive instuctions avalable to you to tell the computer what to do. A combination of these primitive instructions is called a \"computer program\"."
   ]
  },
  {
   "cell_type": "markdown",
   "metadata": {},
   "source": [
    "# Primitive data structures"
   ]
  },
  {
   "cell_type": "markdown",
   "metadata": {},
   "source": [
    "Data Structures are simply how computers store information. Below are listed the most primitive or basic data structures. These structures are the building blocks for data storage and manipulation and they contain pure, simple values of data. Python has four primitive variable types:\n",
    "\n",
    "- Integers (simple counting numbers)\n",
    "- Float (number using decimal points)\n",
    "- Strings (strings of letter or characters)\n",
    "- Boolean (boolen number can only be '0' or '1', TRUE or FALSE)"
   ]
  },
  {
   "cell_type": "markdown",
   "metadata": {},
   "source": [
    "## Floats\n",
    "- Define floats x, y\n",
    "- Assign numerical values to x, y\n",
    "- Execute basic aritmetic operation on x,y\n",
    "- How to prompt the \"user\" to setup the x and y values?\n",
    "- How to change the numerical values assigned to x,y?"
   ]
  },
  {
   "cell_type": "code",
<<<<<<< HEAD
   "execution_count": 1,
=======
   "execution_count": 4,
>>>>>>> 12a51c9765dbca981af5b44ca720cf60fbf64dea
   "metadata": {},
   "outputs": [
    {
     "name": "stdout",
     "output_type": "stream",
     "text": [
      "5\n"
     ]
    }
   ],
   "source": [
    "z=3\n",
    "w=5\n",
    "print (w)"
   ]
  },
  {
   "cell_type": "code",
   "execution_count": 2,
   "metadata": {},
   "outputs": [
    {
     "name": "stdout",
     "output_type": "stream",
     "text": [
      "6.0\n",
      "8.0\n",
      "2.0\n",
      "0.0\n",
      "4.0\n",
      "16.0\n"
     ]
    }
   ],
   "source": [
    "# Floats\n",
    "\n",
    "x = 4.0\n",
    "y = 2.0\n",
    "\n",
    "print (x + y)\n",
    "print (x * y)\n",
    "print (x / y)\n",
    "print (x % y)      # Returns the remainder\n",
    "print (abs(x))     # Absolute value\n",
    "print (x ** y)     # x to the power y "
   ]
  },
  {
   "cell_type": "code",
   "execution_count": 1,
   "metadata": {},
   "outputs": [
    {
     "data": {
      "text/plain": [
       "'Industrial Engineering & Management Systems'"
      ]
     },
     "execution_count": 1,
     "metadata": {},
     "output_type": "execute_result"
    }
   ],
   "source": [
    "# String\n",
    "\n",
    "x = \"Industrial Engineering\"\n",
    "y = \"Management Systems\"\n",
    "\n",
    "x + \" & \" + y"
   ]
  },
  {
   "cell_type": "markdown",
   "metadata": {},
   "source": [
    "Here are some other basic operations that you can perform with strings; For example, you can use * to repeat a string a certain number of times:"
   ]
  },
  {
   "cell_type": "code",
   "execution_count": 13,
   "metadata": {},
   "outputs": [
    {
     "data": {
      "text/plain": [
       "'IndustrialIndustrialIndustrial'"
      ]
     },
     "execution_count": 13,
     "metadata": {},
     "output_type": "execute_result"
    }
   ],
   "source": [
    "# repeat\n",
    "\n",
    "x * 3"
   ]
  },
  {
   "cell_type": "markdown",
   "metadata": {},
   "source": [
    "You can also slice strings, which means that you select parts of strings:"
   ]
  },
  {
   "cell_type": "code",
   "execution_count": 14,
   "metadata": {},
   "outputs": [
    {
     "name": "stdout",
     "output_type": "stream",
     "text": [
      "dustrial\n",
      "Co\n"
     ]
    }
   ],
   "source": [
    "# Range slicing\n",
    "\n",
    "z1 = x[2:]\n",
    "\n",
    "print(z1)\n",
    "\n",
    "\n",
    "# Slicing\n",
    "\n",
    "z2 = y[0] + y[1]\n",
    "\n",
    "print(z2)"
   ]
  },
  {
   "cell_type": "markdown",
   "metadata": {},
   "source": [
    "Note that strings can also be alpha-numeric characters, but that the + operation still is used to concatenate strings."
   ]
  },
  {
   "cell_type": "code",
   "execution_count": 15,
   "metadata": {},
   "outputs": [
    {
     "data": {
      "text/plain": [
       "'43'"
      ]
     },
     "execution_count": 15,
     "metadata": {},
     "output_type": "execute_result"
    }
   ],
   "source": [
    "x = \"4\"\n",
    "y = \"3\"\n",
    "\n",
    "x + y"
   ]
  },
  {
   "cell_type": "code",
   "execution_count": 16,
   "metadata": {},
   "outputs": [
    {
     "data": {
      "text/plain": [
       "True"
      ]
     },
     "execution_count": 16,
     "metadata": {},
     "output_type": "execute_result"
    }
   ],
   "source": [
    "# Boolean\n",
    "\n",
    "x = 4\n",
    "\n",
    "y = 2\n",
    "\n",
    "x == y\n",
    "\n",
    "x > y"
   ]
  },
  {
   "cell_type": "code",
   "execution_count": 17,
   "metadata": {},
   "outputs": [
    {
     "name": "stdout",
     "output_type": "stream",
     "text": [
      "Not Engineering\n"
     ]
    }
   ],
   "source": [
    "x = 4\n",
    "y = 2\n",
    "z = (x == y)      # Comparison expression \n",
    "\n",
    "if z:             # Conditional on truth/false value of \"z\n",
    "    print (\"Engineering\")\n",
    "else: print (\"Not Engineering\")"
   ]
  },
  {
   "cell_type": "markdown",
   "metadata": {},
   "source": [
    "To check the type of an object in Python, use the built-in type() function, just like in the lines of code below:"
   ]
  },
  {
   "cell_type": "code",
   "execution_count": 18,
   "metadata": {},
   "outputs": [
    {
     "data": {
      "text/plain": [
       "float"
      ]
     },
     "execution_count": 18,
     "metadata": {},
     "output_type": "execute_result"
    }
   ],
   "source": [
    "a = 4.0\n",
    "b = \"Class\"\n",
    "c = 12\n",
    "\n",
    "type (a)"
   ]
  },
  {
   "cell_type": "markdown",
   "metadata": {},
   "source": [
    "## Non-Primitive data structures"
   ]
  },
  {
   "cell_type": "markdown",
   "metadata": {},
   "source": [
    "#### The  non-primitive data structures in Python are divided into:\n",
    "- Arrays\n",
    "\n",
    "- Lists"
   ]
  },
  {
   "cell_type": "markdown",
   "metadata": {},
   "source": [
    "### Arrays"
   ]
  },
  {
   "cell_type": "code",
   "execution_count": 5,
   "metadata": {},
   "outputs": [
    {
     "name": "stdout",
     "output_type": "stream",
     "text": [
      "['Ford', 'Volvo', 'BMW']\n"
     ]
    }
   ],
   "source": [
    "cars = [\"Ford\", \"Volvo\", \"BMW\"]\n",
    "print(cars)"
   ]
  },
  {
   "cell_type": "markdown",
   "metadata": {},
   "source": [
    "### Lists"
   ]
  },
  {
   "cell_type": "code",
   "execution_count": 20,
   "metadata": {},
   "outputs": [
    {
     "name": "stdout",
     "output_type": "stream",
     "text": [
      "['apple', 'banana', 'cherry']\n"
     ]
    }
   ],
   "source": [
    "thislist = [\"apple\", \"banana\", \"cherry\"]\n",
    "print(thislist)"
   ]
  },
  {
   "cell_type": "markdown",
   "metadata": {},
   "source": [
    "# Exercises"
   ]
  },
  {
   "cell_type": "markdown",
   "metadata": {},
   "source": [
    "1.1 Calculate the following mathematical expression using Phyton:<br>\n",
    "$6x^5+x^2$ <br>\n",
    "for a value of $x=4$<br>\n"
   ]
  },
  {
   "cell_type": "code",
   "execution_count": null,
   "metadata": {},
   "outputs": [],
   "source": [
    "1.2. Calculate the same expression, but for "
   ]
  },
  {
   "cell_type": "code",
   "execution_count": null,
   "metadata": {},
   "outputs": [],
   "source": [
    "print (\"Hello!!!\")"
   ]
  },
  {
   "cell_type": "markdown",
   "metadata": {},
   "source": [
    "Just type!\n",
    "\n",
    "If you want headers, just use '# ' for\n",
    "\n",
    "# Title/Sections\n",
    "\n",
    "##  Sub sections\n",
    "\n",
    "### event smaller headings\n",
    "\n",
    "__Bold face__ (enclose text with two underscores) \n",
    "or _italic fonts_ (single underscore) are easy.\n",
    "\n",
    "Bulleting lists are also simple, just use '-' as follows:\n",
    "- first item in list\n",
    "- second item in list\n",
    "- etc. etc.\n",
    "\n",
    "If you really want to break that line use '<br>' to do it."
   ]
  },
  {
   "cell_type": "markdown",
   "metadata": {},
   "source": [
    "Just type:\n",
    "\n",
    "x=100\n",
    "\n",
    "Math looking good (use '$' to surround your math):\n",
    "\n",
    "$x=100$\n",
    "\n",
    "Use '^' for exponents:\n",
    "\n",
    "$x^2+4x+c=100$\n",
    "\n",
    "Typesetting Math can get addictive really easy:\n",
    "\n",
    "\\begin{equation*}\n",
    "\\left( \\sum_{i=1}^n a_i b_i \\right)^2 \\leq \\left( \\sum_{j=1}^n a_j^2 \\right) \\left( \\sum_{j=1}^n b_j^2 \\right)\n",
    "\\end{equation*}\n",
    "\n",
    "More information at:<br>\n",
    "https://jupyter-notebook.readthedocs.io/en/stable/examples/Notebook/Typesetting%20Equations.html# <br>\n",
    "https://www.mathjax.org\n"
   ]
  },
  {
   "cell_type": "markdown",
   "metadata": {},
   "source": [
    "# Application"
   ]
  },
  {
   "cell_type": "markdown",
   "metadata": {},
   "source": [
    "# Homework (not graded)\n",
    "Please complete all the exercises on this Notebook. Some exercises will be solved in class, but you should complete solving all the remaining exersices at the end of each Notebook on every class. If you can not solve an exercise, please contact the class teaching assistant for help inmmediately."
   ]
  },
  {
   "cell_type": "markdown",
   "metadata": {},
   "source": [
    "_Last updated on 10.19.18 4:16pm<br>\n",
    "(C) 2018 Complex Adaptive Systems Laboratory all rights reserved._"
   ]
  }
 ],
 "metadata": {
  "kernelspec": {
   "display_name": "Python 2",
   "language": "python",
   "name": "python2"
  },
  "language_info": {
   "codemirror_mode": {
    "name": "ipython",
    "version": 2
   },
   "file_extension": ".py",
   "mimetype": "text/x-python",
   "name": "python",
   "nbconvert_exporter": "python",
   "pygments_lexer": "ipython2",
   "version": "2.7.15"
  }
 },
 "nbformat": 4,
 "nbformat_minor": 2
}
